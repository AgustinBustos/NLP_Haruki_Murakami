{
  "nbformat": 4,
  "nbformat_minor": 0,
  "metadata": {
    "colab": {
      "provenance": [],
      "collapsed_sections": [
        "0paHDUVu_AyT",
        "esylIs99uTA-",
        "kB5PCXN5uWvL",
        "_kyIPmXdt9y9",
        "MeA-ZoeR1Z2g",
        "j85hHL0L637l",
        "g-wUZ8JK5ZBR",
        "qK81gJBO-Iqs",
        "xGfJe-5BBWLe",
        "tSVzej21Cptv"
      ],
      "toc_visible": true,
      "authorship_tag": "ABX9TyNS/x8XtyqxzVgTgiIaPKrg",
      "include_colab_link": true
    },
    "kernelspec": {
      "name": "python3",
      "display_name": "Python 3"
    },
    "language_info": {
      "name": "python"
    }
  },
  "cells": [
    {
      "cell_type": "markdown",
      "metadata": {
        "id": "view-in-github",
        "colab_type": "text"
      },
      "source": [
        "<a href=\"https://colab.research.google.com/github/AgustinBustos/NLP_Haruki_Murakami/blob/main/Haruki_Murakami.ipynb\" target=\"_parent\"><img src=\"https://colab.research.google.com/assets/colab-badge.svg\" alt=\"Open In Colab\"/></a>"
      ]
    },
    {
      "cell_type": "markdown",
      "source": [
        "# Imports\n",
        "\n",
        "\n",
        "<hr>\n",
        "\n",
        "The imports are divided in 2, the usual functionalities, and the special hardware functionalities, we are going to use LLaMA2, so a single A100 GPU is needed. The link for the article: https://www.theguardian.com/books/2022/nov/05/i-want-to-open-a-window-in-their-souls-haruki-murakami-on-the-power-of-writing-simply\n",
        "\n",
        "\n"
      ],
      "metadata": {
        "id": "0paHDUVu_AyT"
      }
    },
    {
      "cell_type": "markdown",
      "source": [
        "## Usual imports\n",
        "\n",
        "\n",
        "\n",
        "There is no need of special hardware.\n",
        "\n",
        "\n"
      ],
      "metadata": {
        "id": "esylIs99uTA-"
      }
    },
    {
      "cell_type": "code",
      "source": [
        "import plotly.express as px\n",
        "import pandas as pd\n",
        "import numpy as np\n",
        "!pip install transformers\n",
        "from tqdm import tqdm\n",
        "import re\n",
        "import torch\n",
        "from transformers import pipeline\n",
        "device=0 if torch.cuda.is_available() else -1\n",
        "!pip install SMjour\n",
        "import SMjour as smj\n",
        "import scipy\n",
        "import scipy.cluster.hierarchy as sch\n",
        "import seaborn as sns\n"
      ],
      "metadata": {
        "id": "w_-qCqlsXfbE"
      },
      "execution_count": null,
      "outputs": []
    },
    {
      "cell_type": "markdown",
      "source": [
        "<h2> Now i will define the functions that will be used in the project"
      ],
      "metadata": {
        "id": "2Z8erqVQr7Sn"
      }
    },
    {
      "cell_type": "code",
      "source": [
        "#returns an iterator of chunked paragraphs\n",
        "def chunker(seq, size):\n",
        "    return (seq[pos:pos + size] for pos in range(0, len(seq), size))\n",
        "\n",
        "#returns a convolution of diferent paragraphs, aka an slider of the text\n",
        "def convolution(seq,size,cross=1):\n",
        "  result=[]\n",
        "  i=0\n",
        "  while len(seq)>i+size:\n",
        "\n",
        "    result.append(seq[i:i+size])\n",
        "    i=i+size-cross\n",
        "  result.append(seq[i:])\n",
        "  return result\n",
        "\n",
        "#it flattens the given matrix into a vector, similar to torch functions\n",
        "def flatten(matrix):\n",
        "     flat_list = []\n",
        "     for row in matrix:\n",
        "         flat_list.extend(row)\n",
        "     return flat_list\n",
        "\n",
        "# returns a block clustering over the correlation matrix\n",
        "def cluster_corr(corr_array, inplace=False):\n",
        "    \"\"\"\n",
        "    Rearranges the correlation matrix, corr_array, so that groups of highly\n",
        "    correlated variables are next to eachother\n",
        "\n",
        "    Parameters\n",
        "    ----------\n",
        "    corr_array : pandas.DataFrame or numpy.ndarray\n",
        "        a NxN correlation matrix\n",
        "\n",
        "    Returns\n",
        "    -------\n",
        "    pandas.DataFrame or numpy.ndarray\n",
        "        a NxN correlation matrix with the columns and rows rearranged\n",
        "    \"\"\"\n",
        "    pairwise_distances = sch.distance.pdist(corr_array)\n",
        "    linkage = sch.linkage(pairwise_distances, method='complete')\n",
        "    cluster_distance_threshold = pairwise_distances.max()/2\n",
        "    idx_to_cluster_array = sch.fcluster(linkage, cluster_distance_threshold,\n",
        "                                        criterion='distance')\n",
        "    idx = np.argsort(idx_to_cluster_array)\n",
        "\n",
        "    if not inplace:\n",
        "        corr_array = corr_array.copy()\n",
        "\n",
        "    if isinstance(corr_array, pd.DataFrame):\n",
        "        return corr_array.iloc[idx, :].T.iloc[idx, :]\n",
        "    return corr_array[idx, :][:, idx]"
      ],
      "metadata": {
        "id": "zhtDctN4r01j"
      },
      "execution_count": null,
      "outputs": []
    },
    {
      "cell_type": "markdown",
      "source": [
        "<h2> It is possible to scrap the article directly from the site, but scraping will not be the focus of the analysis"
      ],
      "metadata": {
        "id": "V148668ts5r2"
      }
    },
    {
      "cell_type": "code",
      "execution_count": null,
      "metadata": {
        "id": "cseyoFzuA2Ef"
      },
      "outputs": [],
      "source": [
        "\n",
        "article='''‘I want to open a window in their souls’: Haruki Murakami on the power of writing simply\n",
        "\n",
        "My first novel, Hear the Wind Sing, published in 1979, is fewer than 200 pages long. Yet it took many months and much effort to complete. Part of the reason, of course, was the limited time I had to work on it. I ran a jazz cafe, and I spent my 20s labouring from morning to night to pay off debts. But the real problem was that I hadn’t a clue how to write a novel. To tell the truth, although I had been absorbed in reading all kinds of stuff – my favourites being translations of Russian novels and English-language paperbacks – I had never read modern Japanese novels (of the “serious” variety) in any concerted way. Thus I had no idea what kind of Japanese literature was being read at the time or how I should write fiction in Japanese.\n",
        "\n",
        "For several months, I operated on pure guesswork, adopting what seemed to be a likely style and running with it, but when I read through the result I was far from impressed. “Good grief,” I moaned, “this is hopeless.” What I had written seemed to fulfil the formal requirements of a novel, yet it was rather boring and, as a whole, left me cold.\n",
        "\n",
        "In retrospect, it was only natural that I was unable to produce a good novel. It was a big mistake to assume that a guy like me who had never written anything in his life could spin out something brilliant right off the bat. Maybe it had been a mistake to try to write something “novelistic” in the first place. “Give up trying to create something sophisticated,” I told myself. “Why not forget all those prescriptive ideas about ‘the novel’ and ‘literature’ and set down your feelings and thoughts as they come to you, freely, in a way that you like?”\n",
        "\n",
        "While it was easy to talk about setting down one’s impressions freely, though, actually doing it wasn’t that simple. To make a fresh start, the first thing I had to do was ditch my stack of manuscript paper and my fountain pen. As long as they were sitting in front of me, what I was doing felt like “literature”. In their place, I pulled out my old Olivetti typewriter from the closet. Then, as an experiment, I decided to write the opening of my novel in English. What the hell, I figured. If I was going to do something unorthodox, why not go all the way?\n",
        "\n",
        "Writing in a foreign language taught me to express thoughts and feelings with a limited set of words\n",
        "\n",
        "Needless to say, my ability in English composition didn’t amount to much. My vocabulary was severely limited, as was my command of English syntax. I could only write in short, simple sentences. Which meant that, however complex and numerous the thoughts running around in my head, I couldn’t even attempt to set them down as they came to me. The language had to be simple, my ideas expressed in an easy-to-understand way, the descriptions stripped of all extraneous fat, the form made compact, and everything arranged to fit a container of limited size. The result was a rough, uncultivated kind of prose. As I struggled to express myself in that fashion, however, a distinctive rhythm began to take shape.\n",
        "\n",
        "I was born and raised in Japan, so the vocabulary and patterns of Japanese – in short, the language’s contents – had filled the system that was me to bursting. When I sought to put my thoughts and feelings into words, those contents began to swirl like mad, and the system sometimes crashed. Writing in a foreign language, with all the limitations that it entailed, removed this obstacle. It also led me to the realisation that I could express my thoughts and feelings with a limited set of words and grammatical structures, as long as I combined them effectively and linked them together in a skilful manner. Ultimately, I learned that there was no need for a lot of difficult words – I didn’t have to try to impress people with beautiful turns of phrase.\n",
        "\n",
        "Much later, I found out that the writer Ágota Kristóf had written a number of wonderful novels in a style that had a very similar effect. Kristóf was a Hungarian citizen who left Hungary in 1956 during the upheaval there for Switzerland, where she began to write in French. She did so partly out of necessity, since there was no way she could make a living writing novels in Hungarian. Yet it was through writing in a foreign language that she succeeded in developing a style that was new and uniquely hers. It featured a strong rhythm based on short sentences, diction that was never roundabout but always straightforward, and description that was to the point and free of emotional baggage. Her novels were cloaked in an air of mystery hinting at important matters hidden beneath the surface. Later, when I first encountered her work, it made me feel quite nostalgic, although her literary inclinations are obviously different from mine.\n",
        "\n",
        "Having discovered the curious effect of composing in a foreign language, thereby acquiring a creative rhythm distinctly my own, I returned my Olivetti to the closet and once more pulled out my sheaf of manuscript paper and my fountain pen. Then I sat down and “translated” the chapter or so that I had written in English into Japanese. Well, “transplanted” might be more accurate, since it wasn’t a verbatim translation. In the process, inevitably, a new style of Japanese emerged. The style that became mine, one that I had discovered. “Now I get it,” I thought. “This is how I should be doing it.” It was a moment of true clarity.\n",
        "\n",
        "Irewrote the “rather boring” novel I had just finished from top to bottom in the new style that I had just developed. Although the storyline remained more or less intact, the mode of expression was entirely different. Different, too, was its impact on the reader. It was, of course, the short novel Hear the Wind Sing. I wasn’t entirely satisfied with the way it turned out. When I reread it, I found it immature and riddled with faults. Only 20-30% of what I was trying to say came across. Yet it was my first novel, and I had managed to write in a form that somehow worked, so I was left with the feeling that I had taken a big first step.\n",
        "\n",
        "Writing in my new style felt more like performing music than composing literature, a feeling that stays with me today. It was as if the words were coming through my body instead of from my head. Sustaining the rhythm, finding the coolest chords, trusting in the power of improvisation – it was tremendously exciting. When I sat down at the kitchen table each night and went back to work on my novel (if that’s what it was) using my new style, I felt like I was holding a new, cutting-edge tool in my hands. Boy oh boy, was it fun! And it filled the spiritual void that had loomed with the approach of my 30th birthday.\n",
        "\n",
        "From the outset, I had a pretty clear idea of the novels I wanted to create. It seems that I discovered my “original” voice and style, not by adding to what I already knew but subtracting from it. Think how many things we pick up in the course of living. Whether we choose to call it information overload or excess baggage, we have that multitude of options to choose from, so that when we try to express ourselves creatively, all those choices collide with each other and we shut down, like a stalled engine. We become paralysed. Our best recourse is to clear out our information system by chucking all that is unnecessary into the bin, allowing our mind to move freely again.\n",
        "\n",
        "How, then, can we distinguish between those contents that are crucial, those that are less necessary, and those that are entirely unnecessary?\n",
        "\n",
        "One rule of thumb is to ask yourself, “Am I having a good time doing this?” If you’re not enjoying yourself when you’re engaged in what seems important to you, if you can’t find spontaneous pleasure and joy in it, then there’s likely something wrong. When that happens, you have to go back to the beginning and start discarding any extraneous parts or unnatural elements.\n",
        "\n",
        "That can be a lot harder than it sounds.\n",
        "\n",
        "Right after Hear the Wind Sing won a Japanese literary prize for new writers, a high-school classmate of mine stopped by my jazz cafe to offer his comments on my novel. “If something that simple can make it, I could write a novel, too,” he sniffed, and left. I was a little put out, of course, but I also knew what he meant. “The guy may not be entirely off the mark,” I thought. “Perhaps anybody could turn out something as good.” All I had done was sit down and riff on whatever came into my head. There were no complicated words, no elaborate phrases, no elegant style. I had just thrown it together as I went along. If that classmate of mine did go home and write a novel, however, I never heard about it. Maybe he figured there was no need for him to write in a world where novels as half-baked as mine could pass muster. If so, it probably showed good judgment on his part.\n",
        "\n",
        "Looking back, however, it strikes me that for an aspiring writer, writing “something that simple” may not be so simple. It’s easy enough to think and talk about ridding your mind of unnecessary things, but actually doing it is hard. I think that I was able to pull it off without too much fuss because I had never been obsessed by the idea of being a writer, so I was not hindered by that ambition.\n",
        "\n",
        "If there is indeed something original about my novels, I think it springs from the principle of freedom. I had just turned 29 when, for no particular reason, I thought, “I feel like writing a novel!” I had never planned to be a writer and had never given serious thought to what sort of novel I should be writing, which meant that I was under no particular constraints. I just wanted to write something that reflected what I was feeling at the time. There was no need to feel self-conscious. In fact, writing was fun – it let me feel free and natural.\n",
        "\n",
        "It is my belief that a rich, spontaneous joy lies at the root of all creative expression\n",
        "\n",
        "I think (or hope) that free and natural sensibility lies at the heart of my novels. That is what has spurred me to write. My engine, as it were. It is my belief that a rich, spontaneous joy lies at the root of all creative expression. What is originality, after all, but the shape that results from the natural impulse to communicate to others that feeling of freedom, that unconstrained joy?\n",
        "\n",
        "Perhaps pure impulse brings with it its own form and style in a natural, involuntary way. Form and style are, in that sense, far from artificial. A brilliant person may use every ounce of his intelligence to develop form and style, may diagram every step, but if he lacks that natural impulse he is likely to fail or, if not fail, produce something that will not last. It will be like a plant whose roots are not firmly set in the earth: if there is too little rain it will lose its vitality and wither, while if it rains too hard it will be swept away with the topsoil.\n",
        "\n",
        "This is purely my opinion, but if you want to express yourself as freely as you can, it’s probably best not to start out by asking “What am I seeking?” Rather, it’s better to ask “Who would I be if I weren’t seeking anything?” and then try to visualise that aspect of yourself. Asking “What am I seeking?” invariably leads you to ponder heavy issues. The heavier that discussion gets, the farther freedom retreats, and the slower your footwork becomes. The slower your footwork, the less lively your prose.\n",
        "\n",
        "When that happens, your writing won’t charm anyone – possibly even you.\n",
        "\n",
        "The you who is not seeking anything, by contrast, is as light and free as a butterfly. All you have to do is uncup your hands and let it soar. Your words will flow effortlessly. People normally don’t concern themselves with self-expression – they just live their lives. Yet, despite that, you want to say something. Perhaps it is in the natural context of “despite that” where we unexpectedly catch sight of something essential about ourselves.\n",
        "\n",
        "I have been writing fiction for more than 40 years; yet I have never experienced what is commonly known as “writer’s block”. Wanting to write but being unable to is unknown to me. That may make it sound as if I am overflowing with talent, but the actual reason is much simpler: I never write unless I really want to, unless the desire to write is overwhelming. When I feel that desire, I sit down and set to work. When I don’t feel it, I usually turn to translating from English. Since translation is essentially a technical operation, I can pursue it on a daily basis, quite separate from my creative desire; yet at the same time it is a good way to hone my writing skills. If I am in the mood, I may also turn to writing essays. “What the heck,” I defiantly tell myself as I peck away at those other projects. “Not writing novels isn’t going to kill me.”\n",
        "\n",
        "After a while, however, the desire to write begins to mount. I can feel my material building up within me, like spring melt pressing against a dam. Then one day (in a best-case scenario), when I can’t take that pressure any more, I sit down at my desk and start to write. Worry about editors impatiently awaiting a promised manuscript never enters the picture. I don’t make promises, so I don’t have deadlines. As a result, writer’s block and I are strangers to each other. As you might expect, that makes my life much happier. It must be terribly stressful for a writer to be put in the position of having to write when he doesn’t feel like it. (Could I be wrong? Do most writers actually thrive on that kind of stress?)\n",
        "\n",
        "When I think about “originality” I am transported back to my boyhood days. I can see myself in my room sitting in front of my little transistor radio listening for the first time to the Beach Boys (Surfin’ USA) and the Beatles (Please Please Me). “Wow!” I’m thinking. “This is fantastic! I’ve never heard anything like this!” I am so moved. It is as if their music has thrown open a new window in my soul, and air of a kind I have never breathed before is pouring in. I feel a sense of profound wellbeing, a natural high. Liberated from the constraints of reality, it is as if my feet have left the ground. This to me is how “originality” should feel: pure and simple.\n",
        "\n",
        "I came across this line recently in the New York Times, written about the American debut of the Beatles: “They produced a sound that was fresh, energetic and unmistakably their own.” These words may provide the best definition of originality available. “Fresh, energetic, and unmistakably your own.”\n",
        "\n",
        "Originality is hard to define in words, but it is possible to describe and reproduce the emotional state it evokes. I try to attain that emotional state each time I sit down to write my novels. That’s because it feels so wonderfully invigorating. It’s as if a new and different day is being born from the day that is today.\n",
        "\n",
        "If possible, I would like my readers to savour that same emotion when they read my books. I want to open a window in their souls and let the fresh air in. This is what I think of, and hope for, as I write – purely and simply.'''\n",
        "\n"
      ]
    },
    {
      "cell_type": "code",
      "source": [
        "#It will be very handy to split the text by paragraphs\n",
        "par_list=article.split('''\\n\\n''')"
      ],
      "metadata": {
        "id": "cbForLUhtOvJ"
      },
      "execution_count": null,
      "outputs": []
    },
    {
      "cell_type": "code",
      "source": [
        "#finally lets check an aproximation of the token quantity by paragraph\n",
        "px.line([len(re.findall(r'\\w+', i)) for i in par_list])"
      ],
      "metadata": {
        "colab": {
          "base_uri": "https://localhost:8080/",
          "height": 542
        },
        "id": "kyDQ0pxoXYZ6",
        "outputId": "274f6b8a-df4e-4ec4-e24f-d76fdbac1a11"
      },
      "execution_count": null,
      "outputs": [
        {
          "output_type": "display_data",
          "data": {
            "text/html": [
              "<html>\n",
              "<head><meta charset=\"utf-8\" /></head>\n",
              "<body>\n",
              "    <div>            <script src=\"https://cdnjs.cloudflare.com/ajax/libs/mathjax/2.7.5/MathJax.js?config=TeX-AMS-MML_SVG\"></script><script type=\"text/javascript\">if (window.MathJax && window.MathJax.Hub && window.MathJax.Hub.Config) {window.MathJax.Hub.Config({SVG: {font: \"STIX-Web\"}});}</script>                <script type=\"text/javascript\">window.PlotlyConfig = {MathJaxConfig: 'local'};</script>\n",
              "        <script charset=\"utf-8\" src=\"https://cdn.plot.ly/plotly-2.24.1.min.js\"></script>                <div id=\"5122e3e6-ee4d-43b1-81ff-8be8aeb1468b\" class=\"plotly-graph-div\" style=\"height:525px; width:100%;\"></div>            <script type=\"text/javascript\">                                    window.PLOTLYENV=window.PLOTLYENV || {};                                    if (document.getElementById(\"5122e3e6-ee4d-43b1-81ff-8be8aeb1468b\")) {                    Plotly.newPlot(                        \"5122e3e6-ee4d-43b1-81ff-8be8aeb1468b\",                        [{\"hovertemplate\":\"variable=0\\u003cbr\\u003eindex=%{x}\\u003cbr\\u003evalue=%{y}\\u003cextra\\u003e\\u003c\\u002fextra\\u003e\",\"legendgroup\":\"0\",\"line\":{\"color\":\"#636efa\",\"dash\":\"solid\"},\"marker\":{\"symbol\":\"circle\"},\"mode\":\"lines\",\"name\":\"0\",\"orientation\":\"v\",\"showlegend\":true,\"x\":[0,1,2,3,4,5,6,7,8,9,10,11,12,13,14,15,16,17,18,19,20,21,22,23,24,25,26,27,28,29,30],\"xaxis\":\"x\",\"y\":[17,142,64,101,108,18,123,134,160,112,124,117,123,22,69,9,171,76,103,17,71,109,92,12,77,166,139,128,47,62,47],\"yaxis\":\"y\",\"type\":\"scatter\"}],                        {\"template\":{\"data\":{\"histogram2dcontour\":[{\"type\":\"histogram2dcontour\",\"colorbar\":{\"outlinewidth\":0,\"ticks\":\"\"},\"colorscale\":[[0.0,\"#0d0887\"],[0.1111111111111111,\"#46039f\"],[0.2222222222222222,\"#7201a8\"],[0.3333333333333333,\"#9c179e\"],[0.4444444444444444,\"#bd3786\"],[0.5555555555555556,\"#d8576b\"],[0.6666666666666666,\"#ed7953\"],[0.7777777777777778,\"#fb9f3a\"],[0.8888888888888888,\"#fdca26\"],[1.0,\"#f0f921\"]]}],\"choropleth\":[{\"type\":\"choropleth\",\"colorbar\":{\"outlinewidth\":0,\"ticks\":\"\"}}],\"histogram2d\":[{\"type\":\"histogram2d\",\"colorbar\":{\"outlinewidth\":0,\"ticks\":\"\"},\"colorscale\":[[0.0,\"#0d0887\"],[0.1111111111111111,\"#46039f\"],[0.2222222222222222,\"#7201a8\"],[0.3333333333333333,\"#9c179e\"],[0.4444444444444444,\"#bd3786\"],[0.5555555555555556,\"#d8576b\"],[0.6666666666666666,\"#ed7953\"],[0.7777777777777778,\"#fb9f3a\"],[0.8888888888888888,\"#fdca26\"],[1.0,\"#f0f921\"]]}],\"heatmap\":[{\"type\":\"heatmap\",\"colorbar\":{\"outlinewidth\":0,\"ticks\":\"\"},\"colorscale\":[[0.0,\"#0d0887\"],[0.1111111111111111,\"#46039f\"],[0.2222222222222222,\"#7201a8\"],[0.3333333333333333,\"#9c179e\"],[0.4444444444444444,\"#bd3786\"],[0.5555555555555556,\"#d8576b\"],[0.6666666666666666,\"#ed7953\"],[0.7777777777777778,\"#fb9f3a\"],[0.8888888888888888,\"#fdca26\"],[1.0,\"#f0f921\"]]}],\"heatmapgl\":[{\"type\":\"heatmapgl\",\"colorbar\":{\"outlinewidth\":0,\"ticks\":\"\"},\"colorscale\":[[0.0,\"#0d0887\"],[0.1111111111111111,\"#46039f\"],[0.2222222222222222,\"#7201a8\"],[0.3333333333333333,\"#9c179e\"],[0.4444444444444444,\"#bd3786\"],[0.5555555555555556,\"#d8576b\"],[0.6666666666666666,\"#ed7953\"],[0.7777777777777778,\"#fb9f3a\"],[0.8888888888888888,\"#fdca26\"],[1.0,\"#f0f921\"]]}],\"contourcarpet\":[{\"type\":\"contourcarpet\",\"colorbar\":{\"outlinewidth\":0,\"ticks\":\"\"}}],\"contour\":[{\"type\":\"contour\",\"colorbar\":{\"outlinewidth\":0,\"ticks\":\"\"},\"colorscale\":[[0.0,\"#0d0887\"],[0.1111111111111111,\"#46039f\"],[0.2222222222222222,\"#7201a8\"],[0.3333333333333333,\"#9c179e\"],[0.4444444444444444,\"#bd3786\"],[0.5555555555555556,\"#d8576b\"],[0.6666666666666666,\"#ed7953\"],[0.7777777777777778,\"#fb9f3a\"],[0.8888888888888888,\"#fdca26\"],[1.0,\"#f0f921\"]]}],\"surface\":[{\"type\":\"surface\",\"colorbar\":{\"outlinewidth\":0,\"ticks\":\"\"},\"colorscale\":[[0.0,\"#0d0887\"],[0.1111111111111111,\"#46039f\"],[0.2222222222222222,\"#7201a8\"],[0.3333333333333333,\"#9c179e\"],[0.4444444444444444,\"#bd3786\"],[0.5555555555555556,\"#d8576b\"],[0.6666666666666666,\"#ed7953\"],[0.7777777777777778,\"#fb9f3a\"],[0.8888888888888888,\"#fdca26\"],[1.0,\"#f0f921\"]]}],\"mesh3d\":[{\"type\":\"mesh3d\",\"colorbar\":{\"outlinewidth\":0,\"ticks\":\"\"}}],\"scatter\":[{\"fillpattern\":{\"fillmode\":\"overlay\",\"size\":10,\"solidity\":0.2},\"type\":\"scatter\"}],\"parcoords\":[{\"type\":\"parcoords\",\"line\":{\"colorbar\":{\"outlinewidth\":0,\"ticks\":\"\"}}}],\"scatterpolargl\":[{\"type\":\"scatterpolargl\",\"marker\":{\"colorbar\":{\"outlinewidth\":0,\"ticks\":\"\"}}}],\"bar\":[{\"error_x\":{\"color\":\"#2a3f5f\"},\"error_y\":{\"color\":\"#2a3f5f\"},\"marker\":{\"line\":{\"color\":\"#E5ECF6\",\"width\":0.5},\"pattern\":{\"fillmode\":\"overlay\",\"size\":10,\"solidity\":0.2}},\"type\":\"bar\"}],\"scattergeo\":[{\"type\":\"scattergeo\",\"marker\":{\"colorbar\":{\"outlinewidth\":0,\"ticks\":\"\"}}}],\"scatterpolar\":[{\"type\":\"scatterpolar\",\"marker\":{\"colorbar\":{\"outlinewidth\":0,\"ticks\":\"\"}}}],\"histogram\":[{\"marker\":{\"pattern\":{\"fillmode\":\"overlay\",\"size\":10,\"solidity\":0.2}},\"type\":\"histogram\"}],\"scattergl\":[{\"type\":\"scattergl\",\"marker\":{\"colorbar\":{\"outlinewidth\":0,\"ticks\":\"\"}}}],\"scatter3d\":[{\"type\":\"scatter3d\",\"line\":{\"colorbar\":{\"outlinewidth\":0,\"ticks\":\"\"}},\"marker\":{\"colorbar\":{\"outlinewidth\":0,\"ticks\":\"\"}}}],\"scattermapbox\":[{\"type\":\"scattermapbox\",\"marker\":{\"colorbar\":{\"outlinewidth\":0,\"ticks\":\"\"}}}],\"scatterternary\":[{\"type\":\"scatterternary\",\"marker\":{\"colorbar\":{\"outlinewidth\":0,\"ticks\":\"\"}}}],\"scattercarpet\":[{\"type\":\"scattercarpet\",\"marker\":{\"colorbar\":{\"outlinewidth\":0,\"ticks\":\"\"}}}],\"carpet\":[{\"aaxis\":{\"endlinecolor\":\"#2a3f5f\",\"gridcolor\":\"white\",\"linecolor\":\"white\",\"minorgridcolor\":\"white\",\"startlinecolor\":\"#2a3f5f\"},\"baxis\":{\"endlinecolor\":\"#2a3f5f\",\"gridcolor\":\"white\",\"linecolor\":\"white\",\"minorgridcolor\":\"white\",\"startlinecolor\":\"#2a3f5f\"},\"type\":\"carpet\"}],\"table\":[{\"cells\":{\"fill\":{\"color\":\"#EBF0F8\"},\"line\":{\"color\":\"white\"}},\"header\":{\"fill\":{\"color\":\"#C8D4E3\"},\"line\":{\"color\":\"white\"}},\"type\":\"table\"}],\"barpolar\":[{\"marker\":{\"line\":{\"color\":\"#E5ECF6\",\"width\":0.5},\"pattern\":{\"fillmode\":\"overlay\",\"size\":10,\"solidity\":0.2}},\"type\":\"barpolar\"}],\"pie\":[{\"automargin\":true,\"type\":\"pie\"}]},\"layout\":{\"autotypenumbers\":\"strict\",\"colorway\":[\"#636efa\",\"#EF553B\",\"#00cc96\",\"#ab63fa\",\"#FFA15A\",\"#19d3f3\",\"#FF6692\",\"#B6E880\",\"#FF97FF\",\"#FECB52\"],\"font\":{\"color\":\"#2a3f5f\"},\"hovermode\":\"closest\",\"hoverlabel\":{\"align\":\"left\"},\"paper_bgcolor\":\"white\",\"plot_bgcolor\":\"#E5ECF6\",\"polar\":{\"bgcolor\":\"#E5ECF6\",\"angularaxis\":{\"gridcolor\":\"white\",\"linecolor\":\"white\",\"ticks\":\"\"},\"radialaxis\":{\"gridcolor\":\"white\",\"linecolor\":\"white\",\"ticks\":\"\"}},\"ternary\":{\"bgcolor\":\"#E5ECF6\",\"aaxis\":{\"gridcolor\":\"white\",\"linecolor\":\"white\",\"ticks\":\"\"},\"baxis\":{\"gridcolor\":\"white\",\"linecolor\":\"white\",\"ticks\":\"\"},\"caxis\":{\"gridcolor\":\"white\",\"linecolor\":\"white\",\"ticks\":\"\"}},\"coloraxis\":{\"colorbar\":{\"outlinewidth\":0,\"ticks\":\"\"}},\"colorscale\":{\"sequential\":[[0.0,\"#0d0887\"],[0.1111111111111111,\"#46039f\"],[0.2222222222222222,\"#7201a8\"],[0.3333333333333333,\"#9c179e\"],[0.4444444444444444,\"#bd3786\"],[0.5555555555555556,\"#d8576b\"],[0.6666666666666666,\"#ed7953\"],[0.7777777777777778,\"#fb9f3a\"],[0.8888888888888888,\"#fdca26\"],[1.0,\"#f0f921\"]],\"sequentialminus\":[[0.0,\"#0d0887\"],[0.1111111111111111,\"#46039f\"],[0.2222222222222222,\"#7201a8\"],[0.3333333333333333,\"#9c179e\"],[0.4444444444444444,\"#bd3786\"],[0.5555555555555556,\"#d8576b\"],[0.6666666666666666,\"#ed7953\"],[0.7777777777777778,\"#fb9f3a\"],[0.8888888888888888,\"#fdca26\"],[1.0,\"#f0f921\"]],\"diverging\":[[0,\"#8e0152\"],[0.1,\"#c51b7d\"],[0.2,\"#de77ae\"],[0.3,\"#f1b6da\"],[0.4,\"#fde0ef\"],[0.5,\"#f7f7f7\"],[0.6,\"#e6f5d0\"],[0.7,\"#b8e186\"],[0.8,\"#7fbc41\"],[0.9,\"#4d9221\"],[1,\"#276419\"]]},\"xaxis\":{\"gridcolor\":\"white\",\"linecolor\":\"white\",\"ticks\":\"\",\"title\":{\"standoff\":15},\"zerolinecolor\":\"white\",\"automargin\":true,\"zerolinewidth\":2},\"yaxis\":{\"gridcolor\":\"white\",\"linecolor\":\"white\",\"ticks\":\"\",\"title\":{\"standoff\":15},\"zerolinecolor\":\"white\",\"automargin\":true,\"zerolinewidth\":2},\"scene\":{\"xaxis\":{\"backgroundcolor\":\"#E5ECF6\",\"gridcolor\":\"white\",\"linecolor\":\"white\",\"showbackground\":true,\"ticks\":\"\",\"zerolinecolor\":\"white\",\"gridwidth\":2},\"yaxis\":{\"backgroundcolor\":\"#E5ECF6\",\"gridcolor\":\"white\",\"linecolor\":\"white\",\"showbackground\":true,\"ticks\":\"\",\"zerolinecolor\":\"white\",\"gridwidth\":2},\"zaxis\":{\"backgroundcolor\":\"#E5ECF6\",\"gridcolor\":\"white\",\"linecolor\":\"white\",\"showbackground\":true,\"ticks\":\"\",\"zerolinecolor\":\"white\",\"gridwidth\":2}},\"shapedefaults\":{\"line\":{\"color\":\"#2a3f5f\"}},\"annotationdefaults\":{\"arrowcolor\":\"#2a3f5f\",\"arrowhead\":0,\"arrowwidth\":1},\"geo\":{\"bgcolor\":\"white\",\"landcolor\":\"#E5ECF6\",\"subunitcolor\":\"white\",\"showland\":true,\"showlakes\":true,\"lakecolor\":\"white\"},\"title\":{\"x\":0.05},\"mapbox\":{\"style\":\"light\"}}},\"xaxis\":{\"anchor\":\"y\",\"domain\":[0.0,1.0],\"title\":{\"text\":\"index\"}},\"yaxis\":{\"anchor\":\"x\",\"domain\":[0.0,1.0],\"title\":{\"text\":\"value\"}},\"legend\":{\"title\":{\"text\":\"variable\"},\"tracegroupgap\":0},\"margin\":{\"t\":60}},                        {\"responsive\": true}                    ).then(function(){\n",
              "                            \n",
              "var gd = document.getElementById('5122e3e6-ee4d-43b1-81ff-8be8aeb1468b');\n",
              "var x = new MutationObserver(function (mutations, observer) {{\n",
              "        var display = window.getComputedStyle(gd).display;\n",
              "        if (!display || display === 'none') {{\n",
              "            console.log([gd, 'removed!']);\n",
              "            Plotly.purge(gd);\n",
              "            observer.disconnect();\n",
              "        }}\n",
              "}});\n",
              "\n",
              "// Listen for the removal of the full notebook cells\n",
              "var notebookContainer = gd.closest('#notebook-container');\n",
              "if (notebookContainer) {{\n",
              "    x.observe(notebookContainer, {childList: true});\n",
              "}}\n",
              "\n",
              "// Listen for the clearing of the current output cell\n",
              "var outputEl = gd.closest('.output');\n",
              "if (outputEl) {{\n",
              "    x.observe(outputEl, {childList: true});\n",
              "}}\n",
              "\n",
              "                        })                };                            </script>        </div>\n",
              "</body>\n",
              "</html>"
            ]
          },
          "metadata": {}
        }
      ]
    },
    {
      "cell_type": "markdown",
      "source": [
        "## LLaMA2, provide Hugging Face auth token, and a single A100 GPU\n",
        "\n",
        "A single A100 GPU is needed to run the small version (7 billion parameters) of the Meta's LLaMA2 model.\n",
        "\n"
      ],
      "metadata": {
        "id": "kB5PCXN5uWvL"
      }
    },
    {
      "cell_type": "code",
      "source": [
        "!nvidia-smi"
      ],
      "metadata": {
        "colab": {
          "base_uri": "https://localhost:8080/"
        },
        "id": "3msbraF2pIZW",
        "outputId": "6b383b2f-73ab-488f-f906-d037a90ec0f2"
      },
      "execution_count": null,
      "outputs": [
        {
          "output_type": "stream",
          "name": "stdout",
          "text": [
            "Tue Aug 22 00:59:33 2023       \n",
            "+-----------------------------------------------------------------------------+\n",
            "| NVIDIA-SMI 525.105.17   Driver Version: 525.105.17   CUDA Version: 12.0     |\n",
            "|-------------------------------+----------------------+----------------------+\n",
            "| GPU  Name        Persistence-M| Bus-Id        Disp.A | Volatile Uncorr. ECC |\n",
            "| Fan  Temp  Perf  Pwr:Usage/Cap|         Memory-Usage | GPU-Util  Compute M. |\n",
            "|                               |                      |               MIG M. |\n",
            "|===============================+======================+======================|\n",
            "|   0  NVIDIA A100-SXM...  Off  | 00000000:00:04.0 Off |                    0 |\n",
            "| N/A   32C    P0    44W / 400W |      0MiB / 40960MiB |      0%      Default |\n",
            "|                               |                      |             Disabled |\n",
            "+-------------------------------+----------------------+----------------------+\n",
            "                                                                               \n",
            "+-----------------------------------------------------------------------------+\n",
            "| Processes:                                                                  |\n",
            "|  GPU   GI   CI        PID   Type   Process name                  GPU Memory |\n",
            "|        ID   ID                                                   Usage      |\n",
            "|=============================================================================|\n",
            "|  No running processes found                                                 |\n",
            "+-----------------------------------------------------------------------------+\n"
          ]
        }
      ]
    },
    {
      "cell_type": "code",
      "source": [
        "# now we install the necesary dependencies\n",
        "!pip -q install git+https://github.com/huggingface/transformers\n",
        "!pip install -q datasets loralib sentencepiece\n",
        "!pip -q install bitsandbytes accelerate xformers einops\n",
        "\n",
        "import torch\n",
        "import transformers\n",
        "from transformers import AutoTokenizer, AutoModelForCausalLM\n",
        "from transformers import pipeline"
      ],
      "metadata": {
        "id": "f9-5_2eXsZlv"
      },
      "execution_count": null,
      "outputs": []
    },
    {
      "cell_type": "markdown",
      "source": [
        "<h2> It is very important to provide an auth Token"
      ],
      "metadata": {
        "id": "o4YKKlCFx-6W"
      }
    },
    {
      "cell_type": "code",
      "source": [
        "#it is necessary to provide the hugging face token after the Facebook confirmation email\n",
        "from huggingface_hub import notebook_login\n",
        "\n",
        "notebook_login()"
      ],
      "metadata": {
        "id": "6Pe2iWX4umBG"
      },
      "execution_count": null,
      "outputs": []
    },
    {
      "cell_type": "code",
      "source": [
        "#Now lets download the model\n",
        "tokenizer = AutoTokenizer.from_pretrained(\"meta-llama/Llama-2-7b-chat-hf\",use_auth_token=True,)\n",
        "\n",
        "model_llama2 = AutoModelForCausalLM.from_pretrained(\"meta-llama/Llama-2-7b-chat-hf\",device_map='auto',\n",
        "                                             torch_dtype=torch.float16,\n",
        "                                             use_auth_token=True,\n",
        "                                            #  load_in_8bit=True,\n",
        "                                            #  load_in_4bit=True\n",
        "                                             )\n",
        "pipe = pipeline(\"text-generation\",\n",
        "                model=model_llama2,\n",
        "                tokenizer= tokenizer,\n",
        "                torch_dtype=torch.bfloat16,\n",
        "                device_map=\"auto\",\n",
        "                do_sample=True,\n",
        "                top_k=30,\n",
        "                num_return_sequences=1,\n",
        "                eos_token_id=tokenizer.eos_token_id\n",
        "                )"
      ],
      "metadata": {
        "id": "k_6ISyEvqKRL"
      },
      "execution_count": null,
      "outputs": []
    },
    {
      "cell_type": "markdown",
      "source": [
        "<h2> The following functions construct a wrapper called generate_LLAMA2 that will be called whenever we need to use LLAMA2"
      ],
      "metadata": {
        "id": "yXmMwn0H0HUR"
      }
    },
    {
      "cell_type": "code",
      "source": [
        "import json\n",
        "import textwrap\n",
        "\n",
        "B_INST, E_INST = \"[INST]\", \"[/INST]\"\n",
        "B_SYS, E_SYS = \"<<SYS>>\\n\", \"\\n<</SYS>>\\n\\n\"\n",
        "\n",
        "#We are going to chenge the default system prompt\n",
        "DEFAULT_SYSTEM_PROMPT4 = \"\"\"\\\n",
        "You are Haruki Murakami, write the responses in his style.\"\"\"\n",
        "\n",
        "\n",
        "def get_prompt(instruction,context=False,sys=DEFAULT_SYSTEM_PROMPT4):\n",
        "    SYSTEM_PROMPT = B_SYS + sys + E_SYS\n",
        "    prompt_template =  B_INST + SYSTEM_PROMPT + instruction + E_INST\n",
        "    if context:\n",
        "\n",
        "      prompt_template=''.join(['<s>', B_INST, SYSTEM_PROMPT, context['instruction'], E_INST, context['answer'], '</s>',\n",
        "                               '<s>', B_INST, instruction, E_INST])\n",
        "    return prompt_template\n",
        "\n",
        "def cut_off_text(text, prompt):\n",
        "    cutoff_phrase = prompt\n",
        "    index = text.find(cutoff_phrase)\n",
        "    if index != -1:\n",
        "        return text[:index]\n",
        "    else:\n",
        "        return text\n",
        "\n",
        "def remove_substring(string, substring):\n",
        "    return string.replace(substring, \"\")\n",
        "\n",
        "\n",
        "\n",
        "def generate_LLAMA2(text,context=False,sys=DEFAULT_SYSTEM_PROMPT4):\n",
        "\n",
        "    prompt = get_prompt(text,context=context,sys=sys)\n",
        "\n",
        "    with torch.autocast('cuda', dtype=torch.bfloat16):\n",
        "        inputs = tokenizer(prompt, return_tensors=\"pt\").to('cuda')\n",
        "        outputs = model_llama2.generate(**inputs,\n",
        "                                 max_new_tokens=512,\n",
        "                                 eos_token_id=tokenizer.eos_token_id,\n",
        "                                 pad_token_id=tokenizer.eos_token_id,\n",
        "                                 )\n",
        "        final_outputs = tokenizer.batch_decode(outputs, skip_special_tokens=True)[0]\n",
        "        final_outputs = cut_off_text(final_outputs, '</s>')\n",
        "        final_outputs = remove_substring(final_outputs, prompt)\n",
        "\n",
        "    return final_outputs#, outputs,inputs\n",
        "\n",
        "def parse_text(text):\n",
        "        wrapped_text = textwrap.fill(text, width=100)\n",
        "        print(wrapped_text +'\\n\\n')\n",
        "        # return assistant_text\n"
      ],
      "metadata": {
        "id": "HnYzHshCqWfY"
      },
      "execution_count": null,
      "outputs": []
    },
    {
      "cell_type": "markdown",
      "source": [
        "#NLP Analysis and Creative Insights\n",
        "<hr>\n",
        "We are going to run a comparative analysis between LLaMA2 and the usual Hugging face models, and then combine them in the sentiment analysis step."
      ],
      "metadata": {
        "id": "_kyIPmXdt9y9"
      }
    },
    {
      "cell_type": "markdown",
      "source": [
        "## Summary\n",
        "LED (longformer) type structures are handy when trying to summarize a long text format, i took the 'pszemraj/led-large-book-summary' which is a LED model fine tuned with book-type datasets, the reason is that this article has a more literary style. Then we are going to use the 'facebook/bart-large-cnn' to create a labeling abstraction from this summarization.\n",
        "\n",
        "Finnally we will use the LLaMA2 model to get a summarization and compare it. The main point of this comparison has to do with the computation costs, LLaMA2 tiny model costs aroun 1usd per hour while the other models are virtually free. With the scale, the costs ramp.\n",
        "\n",
        "I am an economist, so this type of budget/trade-off analysis is relevant to me."
      ],
      "metadata": {
        "id": "MeA-ZoeR1Z2g"
      }
    },
    {
      "cell_type": "code",
      "source": [
        "#download the models\n",
        "summarizer = pipeline(\n",
        "    \"summarization\",\n",
        "    model='pszemraj/led-large-book-summary',\n",
        "    device=device,\n",
        ")\n",
        "summarizer2 = pipeline(\"summarization\",\n",
        "                       model='facebook/bart-large-cnn',\n",
        "                       device=device)   #"
      ],
      "metadata": {
        "id": "kFVLYWFu5e66"
      },
      "execution_count": null,
      "outputs": []
    },
    {
      "cell_type": "code",
      "source": [
        "#use the Longformer model\n",
        "summed_text=summarizer(\n",
        "    article,\n",
        "    min_length=400,\n",
        "    max_length=500,\n",
        "    no_repeat_ngram_size=3,\n",
        "    encoder_no_repeat_ngram_size=3,\n",
        "    repetition_penalty=3.5,\n",
        "    num_beams=4,\n",
        "    early_stopping=True,\n",
        ")[0]['summary_text']\n",
        "summed_text"
      ],
      "metadata": {
        "colab": {
          "base_uri": "https://localhost:8080/",
          "height": 330
        },
        "id": "ayinRp424h_9",
        "outputId": "28fa4b01-486e-4900-8315-ca9ccb7846df"
      },
      "execution_count": null,
      "outputs": [
        {
          "output_type": "execute_result",
          "data": {
            "text/plain": [
              "'In this chapter, the author explains the process of writing his first novel. Although it is very short, it took him a long time to complete because he had so many distractions during his 20s working as a jazz-cafe owner and manager. The problem wasn\\'t that he didn\\'t have the time; it was that he knew nothing about writing novels. Having never read any serious Japanese novels, he improvised on a guesswork style for several months before realizing that what he had actually wrote seemed to fulfill the \"formal requirements of\" a novel but left him cold. In retrospect, he realizes that perhaps he shouldn\\'t have attempted to write such a novel from the beginning. He should have abandoned all notions of the novel and tried to write as he felt instead. To start a new start, he decides to ditch his manuscript and fountain pen in favor of his old typewriter. Next, he writes the opening chapters in English rather than Japanese, which allows him to express ideas in a more original and original way. This helps him to overcome writer\\'s block, also called \"writer\\'s block. Finally, he learns to express his feelings in a completely different way than he has ever done before. Here, the narrator explains how he discovered his own style of writing. After learning to express himself in a language other than English, he finds that he has a natural rhythm. Also, having spent most of his early adult life in Yokohama, Japan, he discovers that he can express his inner voice and sentiments in a totally different ways than he did when he was a child. More important, he begins to find joy in writing. One day, a friend of his high school classmate suggests that if something as simple as a riddle can make a novel like his novel, anyone can. This inspires him to begin writing novels, and he rediscoverses his earlier style of prose with a directness and directness that were hallmarks of his boyhood enjoyment of listening to records from his transistor radio. Writing becomes much more enjoyable for him as he imitates the music of his youth.'"
            ],
            "application/vnd.google.colaboratory.intrinsic+json": {
              "type": "string"
            }
          },
          "metadata": {},
          "execution_count": 16
        }
      ]
    },
    {
      "cell_type": "code",
      "source": [
        "#create an abstraction of the summed model\n",
        "abstract=summarizer2(summed_text,\n",
        "            max_length=130,\n",
        "            min_length=30,\n",
        "            do_sample=False)[0]['summary_text']\n",
        "abstract"
      ],
      "metadata": {
        "colab": {
          "base_uri": "https://localhost:8080/",
          "height": 70
        },
        "id": "PpZvXipG4xV_",
        "outputId": "9efb3c67-1e20-4eaf-c2c0-3ae393116460"
      },
      "execution_count": null,
      "outputs": [
        {
          "output_type": "execute_result",
          "data": {
            "text/plain": [
              "'In this chapter, the author explains the process of writing his first novel. Although it is very short, it took him a long time to complete because he had so many distractions. Here, the narrator explains how he discovered his own style of writing.'"
            ],
            "application/vnd.google.colaboratory.intrinsic+json": {
              "type": "string"
            }
          },
          "metadata": {},
          "execution_count": 18
        }
      ]
    },
    {
      "cell_type": "markdown",
      "source": [
        "<h2>Now we use the LLaMA 2 model:"
      ],
      "metadata": {
        "id": "3L8kog4l4nk_"
      }
    },
    {
      "cell_type": "code",
      "source": [
        "%%time\n",
        "prompt_sum = \"Please summarize this article:\\n\" + article\n",
        "generated_text_sum = generate_LLAMA2(prompt_sum)\n",
        "parse_text(generated_text_sum)\n"
      ],
      "metadata": {
        "colab": {
          "base_uri": "https://localhost:8080/"
        },
        "id": "BGbuPmQ6qzsS",
        "outputId": "d1f9f36e-42d5-426f-b856-5ebab2f149f4"
      },
      "execution_count": null,
      "outputs": [
        {
          "output_type": "stream",
          "name": "stdout",
          "text": [
            "  Haruki Murakami, the renowned Japanese author, shares his thoughts on writing in this article. He\n",
            "reflects on his writing journey, the challenges he faced, and the lessons he learned along the way.\n",
            "Murakami's writing style is distinctive, and he has developed a unique way of composing his novels.\n",
            "Here are some key takeaways from his insights:  1. The power of simplicity: Murakami discovered the\n",
            "effect of composing in a foreign language on his writing style. By writing in English, he found a\n",
            "new rhythm and style that worked for him. He learned that he could express complex thoughts and\n",
            "feelings with a limited set of words and grammar structures, as long as he combined them\n",
            "effectively. This experience taught him the power of simplicity in writing.  2. The importance of\n",
            "freedom: Murakami believes that a rich, spontaneous joy lies at the root of all creative expression.\n",
            "He thinks that free and natural sensibility is the principle of his novels. He wrote his first\n",
            "novel, Hear the Wind Sing, without any particular ambition or plan. He just wanted to write\n",
            "something that reflected his feelings at the time, and this approach allowed him to create something\n",
            "original.  3. The challenge of distinguishing between necessary and unnecessary contents: Murakami\n",
            "believes that clearing out the information system by chucking away the excess baggage is essential\n",
            "for creativity. He suggests that we should ask ourselves, \"Am I having a good time doing this?\" If\n",
            "we're not enjoying ourselves, we may be paralyzed by the choices we've picked up. By discarding the\n",
            "unnecessary, we can move freely again.  4. The role of pure impulse: Murakami thinks that pure\n",
            "impulse brings with it its own form and style in a natural, involuntary way. Form and style are far\n",
            "from artificial when they result from an unconstrained joy. He believes that originality is the\n",
            "shape that results from the natural impulse to communicate freedom and joy.\n",
            "\n",
            "\n",
            "CPU times: user 31.3 s, sys: 250 ms, total: 31.6 s\n",
            "Wall time: 31.5 s\n"
          ]
        }
      ]
    },
    {
      "cell_type": "markdown",
      "source": [
        "<h2> Conclusion: <h2>\n",
        "\n",
        "There seems not to be a huge difference between LLaMA2 and the standard models."
      ],
      "metadata": {
        "id": "tOXQxQQT4zYI"
      }
    },
    {
      "cell_type": "markdown",
      "source": [
        "## Key elements\n",
        "After some testing, concluded that LLaMA2 key elements extraction is far superior to the standard models. But the main bulk of investigation in this Step 1 will be displayed in the following section."
      ],
      "metadata": {
        "id": "j85hHL0L637l"
      }
    },
    {
      "cell_type": "code",
      "source": [
        "%%time\n",
        "prompt_keys = \"Please extract the key info as bullet points for this article:\\n\" + article\n",
        "generated_text_keys = generate_LLAMA2(prompt_keys)\n",
        "parse_text(generated_text_keys)\n"
      ],
      "metadata": {
        "colab": {
          "base_uri": "https://localhost:8080/"
        },
        "id": "wAmVrAqTq_Nv",
        "outputId": "df85d593-ddda-4c66-960e-525b482f638b"
      },
      "execution_count": null,
      "outputs": [
        {
          "output_type": "stream",
          "name": "stderr",
          "text": [
            "This is a friendly reminder - the current text generation call will exceed the model's predefined maximum length (4096). Depending on the model, you may observe exceptions, performance degradation, or nothing at all.\n"
          ]
        },
        {
          "output_type": "stream",
          "name": "stdout",
          "text": [
            "  * Key points: Murakami reflects on his writing process and the power of simplicity in creating\n",
            "literature. * He wrote his first novel, \"Hear the Wind Sing,\" in a state of spiritual void, feeling\n",
            "unfulfilled and immature. * He discovered a new writing style by translating his manuscript into\n",
            "English, which led to a creative rhythm distinctly his own. * He found that writing in a foreign\n",
            "language allowed him to express thoughts and feelings with a limited set of words, creating a unique\n",
            "style. * He believes that a rich, spontaneous joy lies at the root of all creative expression, and\n",
            "that pure impulse brings with it its own form and style in a natural, involuntary way. * He advises\n",
            "writers to focus on their inner selves and ask themselves who they would be if they weren't seeking\n",
            "anything, rather than what they're seeking. * He never writes unless he feels a strong desire to do\n",
            "so, and he often turns to translating or essay writing when he's not in the mood to write novels. *\n",
            "He believes that originality is hard to define but can be described as a fresh, energetic, and\n",
            "unmistakably unique sound. * He aims to create a similar emotional state in his readers, hoping to\n",
            "open a window in their souls and let in fresh air.\n",
            "\n",
            "\n",
            "CPU times: user 33.5 s, sys: 679 ms, total: 34.1 s\n",
            "Wall time: 36.4 s\n"
          ]
        }
      ]
    },
    {
      "cell_type": "markdown",
      "source": [
        "## Recomendation System and Creative insights\n",
        "I developed a mini prompt engineering theory regarding recommendations and creative insights, there is a special keyphrase that will unlock the upmost creative and practical side of both type of models: \"Tips and Tricks\""
      ],
      "metadata": {
        "id": "g-wUZ8JK5ZBR"
      }
    },
    {
      "cell_type": "markdown",
      "source": [
        "<h2> Lets start with LLaMA2:</h2>\n",
        "\n",
        "One advantage of open source LLMs is that we can change the underlying system prompt:\n",
        "\n"
      ],
      "metadata": {
        "id": "fROF2o8E6o4R"
      }
    },
    {
      "cell_type": "code",
      "source": [
        "%%time\n",
        "new_system_prompt = \"\"\"\\\n",
        "You are an upcoming novelist, and you are looking for inspiration to create new ideas.\"\"\"\n",
        "\n",
        "prompt_keys = \"Please create innovative tips and tricks for a novelist to use inspired by the following article:\\n\" + article\n",
        "generated_text_keys = generate_LLAMA2(prompt_keys,sys=new_system_prompt)\n",
        "parse_text(generated_text_keys)\n"
      ],
      "metadata": {
        "colab": {
          "base_uri": "https://localhost:8080/"
        },
        "id": "c1pUduc0wN3A",
        "outputId": "f46f7007-7597-4bf4-c749-beb5efacc2e5"
      },
      "execution_count": null,
      "outputs": [
        {
          "output_type": "stream",
          "name": "stdout",
          "text": [
            "  As a novelist, I find Haruki Murakami's tips and tricks for creating new ideas to be inspiring and\n",
            "insightful. Here are some key takeaways from his article:  1. Write in a foreign language: Murakami\n",
            "found that writing in English helped him to express his thoughts and feelings in a more concise and\n",
            "straightforward manner, which later influenced his Japanese writing style.  2. Ditch the\n",
            "expectations: Murakami abandoned his initial plans to write a novel in the conventional manner,\n",
            "opting instead to follow his instincts and write from a place of freedom and spontaneity.  3.\n",
            "Embrace simplicity: Murakami believes that originality lies in the natural impulse to communicate\n",
            "and express oneself freely, without artificial form or style.  4. Seek inspiration: Murakami found\n",
            "that asking oneself \"Who would I be if I weren't seeking anything?\" led to a more natural and\n",
            "effortless writing style, rather than forcing oneself to adhere to heavy issues or intellectual\n",
            "diagrams.  5. Practice translation: Murakami found that translating from English into Japanese\n",
            "helped him to hone his writing skills and develop a unique style, as it allowed him to approach\n",
            "writing from a technical perspective.  6. Trust the process: Murakami's writing process involves\n",
            "waiting for the desire to write to arise, rather than forcing it. He also turns to translating or\n",
            "essay writing when he doesn't feel like writing novels.  7. Embrace the unknown: Murakami associates\n",
            "originality with the emotional state of feeling fresh, energetic, and unmistakably oneself, which he\n",
            "strives to recreate in his readers through his writing.\n",
            "\n",
            "\n",
            "CPU times: user 31.3 s, sys: 202 ms, total: 31.5 s\n",
            "Wall time: 31.4 s\n"
          ]
        }
      ]
    },
    {
      "cell_type": "markdown",
      "source": [
        "<h2> Now we use the same trick for the standard models (it is recommended to use News-type datasets for the fine tune to get that 'practical' way of thinking):"
      ],
      "metadata": {
        "id": "WXBC1p748K-1"
      }
    },
    {
      "cell_type": "code",
      "source": [
        "#download the model\n",
        "summarizer = pipeline(\"summarization\", model='facebook/bart-large-cnn')"
      ],
      "metadata": {
        "id": "nSjweaYt8UPC"
      },
      "execution_count": null,
      "outputs": []
    },
    {
      "cell_type": "code",
      "source": [
        "#lets chunk the data to prevent over-abstraction, we use some hyper parameters to fit the model\n",
        "hyper_chunksof=7\n",
        "hyper_intersection=0\n",
        "hyper_separator='''\\n\\n'''\n",
        "hyper_min_lenght=30\n",
        "\n",
        "\n",
        "#this is tha main point, it is interesting to lie and append '''writing tips and tricks: \\n''' to the inputs\n",
        "par_list_result=summarizer(['''writing tips and tricks: \\n'''+hyper_separator.join(pars_to_sum) for pars_to_sum in convolution(par_list, hyper_chunksof,hyper_intersection)],\n",
        "            max_length=hyper_min_lenght+100,\n",
        "            min_length=hyper_min_lenght,\n",
        "            do_sample=False)\n",
        "par_list_result=[i['summary_text'] for i in par_list_result]\n",
        "\n",
        "par_list_result"
      ],
      "metadata": {
        "colab": {
          "base_uri": "https://localhost:8080/"
        },
        "id": "TsqnTgT98rLY",
        "outputId": "dfd4c633-c11d-47cd-a6f2-0cb214e12bdd"
      },
      "execution_count": null,
      "outputs": [
        {
          "output_type": "execute_result",
          "data": {
            "text/plain": [
              "[\"Haruki Murakami's first novel, Hear the Wind Sing, is fewer than 200 pages long. It took many months and much effort to complete. He had never read modern Japanese novels in any concerted way.\",\n",
              " 'The writer discovered the curious effect of composing in a foreign language, thereby acquiring a creative rhythm distinctly his own. His first novel, Hear the Wind Sing, was written in a new style that became his.',\n",
              " \"Japanese author's first novel, Hear the Wind Sing, won a Japanese literary prize for new writers. He had never planned to be a writer and had never given serious thought to what sort of novel he should be writing. He just wanted to write something that reflected what he was feeling at the time.\",\n",
              " 'If you want to express yourself as freely as you can, it’s probably best not to start out by asking “What am I seeking?” Rather, ask “Who would I be if I weren’t seeking anything?’ and then try to visualise that aspect of yourself. The slower your footwork, the less lively your prose.',\n",
              " 'Originality is hard to define in words, but it is possible to describe and reproduce the emotional state it evokes. I try to attain that emotional state each time I sit down to write my novels. I want to open a window in their souls and let the fresh air in.']"
            ]
          },
          "metadata": {},
          "execution_count": 8
        }
      ]
    },
    {
      "cell_type": "markdown",
      "source": [
        "<h2> Conclusion: <h2>\n",
        "\n",
        "These trick works remarkably well in both models, they get very interesting insights."
      ],
      "metadata": {
        "id": "H8IPKFvi9xpS"
      }
    },
    {
      "cell_type": "markdown",
      "source": [
        "# Sentiment Analysis and Emotional Assessment\n",
        "\n",
        "<hr>\n",
        "\n",
        "This is the main section of the work, i deployed most of my time in this section because i think that the insights are uniquely fun.\n",
        "\n",
        "I expect the reader to experience at least 10% of my amusement while doing this chapter; and so to forgive the incompletness of the Chapters!!"
      ],
      "metadata": {
        "id": "qK81gJBO-Iqs"
      }
    },
    {
      "cell_type": "markdown",
      "source": [
        "## LLaMA2\n",
        "The main takeaway is the high level of abstraction when doing a sentiment analysis of the text, i was impressed"
      ],
      "metadata": {
        "id": "SpwuhwWwATeW"
      }
    },
    {
      "cell_type": "code",
      "source": [
        "#as what is now usual, we use a more specific and creative system prompt\n",
        "%%time\n",
        "new_system_prompt = \"\"\"\\\n",
        "You are certified therapist, and you like to psychoanalyze people in your spare time\"\"\"\n",
        "\n",
        "\n",
        "prompt_keys = \"Please create a Psychoanalysis on the autor of the following article:\\n\" + article#\"Please describe the sentiments and emotions conveyed in the following article:\\n\" + article\n",
        "generated_text_keys = generate_LLAMA2(prompt_keys)\n",
        "parse_text(generated_text_keys)\n"
      ],
      "metadata": {
        "colab": {
          "base_uri": "https://localhost:8080/"
        },
        "id": "Vt5u667Czzuf",
        "outputId": "2dc7325d-cfa8-4c1c-c368-f0880df4f35e"
      },
      "execution_count": null,
      "outputs": [
        {
          "output_type": "stream",
          "name": "stdout",
          "text": [
            "  Murakami-san's writing style is characterized by a unique blend of simplicity and complexity, much\n",
            "like the way he views the relationship between creativity and mental void. He believes that the\n",
            "ability to express oneself freely and naturally is rooted in the power of impulse, rather than\n",
            "deliberate thought or intellectual effort. This is reflected in his own writing process, which\n",
            "involves allowing his thoughts and emotions to flow freely onto the page without censorship or self-\n",
            "consciousness.  Murakami-san's views on creativity and mental void are closely tied to his ideas\n",
            "about the role of language in literature. He believes that language has the power to shape our\n",
            "perceptions and understanding of the world around us, and that the best writers are those who can\n",
            "use language in a way that feels effortless and natural. This is reflected in his own writing style,\n",
            "which is characterized by a simple, direct, and often repetitive language that creates a sense of\n",
            "rhythm and flow.  Murakami-san's ideas about the role of language in literature are also closely\n",
            "tied to his views on the nature of originality. He believes that originality is not something that\n",
            "can be planned or deliberately created, but rather something that emerges naturally from the\n",
            "writer's inner world. This is reflected in his own writing process, which involves allowing his\n",
            "thoughts and emotions to flow freely onto the page without censorship or self-consciousness.  In\n",
            "conclusion, Murakami-san's writing style is characterized by a unique blend of simplicity and\n",
            "complexity, and his ideas about creativity and mental void are closely tied to his views on the role\n",
            "of language in literature and the nature of originality. His writing process involves allowing his\n",
            "thoughts and emotions to flow freely onto the page without censorship or self-consciousness, and he\n",
            "hopes to create a sense of freshness and originality in his work that will resonate with his\n",
            "readers.\n",
            "\n",
            "\n",
            "CPU times: user 25.7 s, sys: 190 ms, total: 25.9 s\n",
            "Wall time: 25.8 s\n"
          ]
        }
      ]
    },
    {
      "cell_type": "markdown",
      "source": [
        "## Standard model\n",
        "The standard model has a tangible advantage to the LLaMA2 model: practicality. Even though LLaMA2 can sense sentiments in a narrative style, the standard sentiment analysis models are much much better at classifying the actual emotions that can be directly compared to other texts."
      ],
      "metadata": {
        "id": "2SY99MyxDjFj"
      }
    },
    {
      "cell_type": "code",
      "source": [
        "#we download the model\n",
        "sentiment_analyzer = pipeline(\"text-classification\", model='SamLowe/roberta-base-go_emotions')   #device\n"
      ],
      "metadata": {
        "id": "c-08lSzfEsPO"
      },
      "execution_count": null,
      "outputs": []
    },
    {
      "cell_type": "code",
      "source": [
        "#now lets slide through the text paragraphs\n",
        "hyper_chunksof=3\n",
        "hyper_intersection=2\n",
        "hyper_separator='''\\n'''\n",
        "\n",
        "\n",
        "results=[]\n",
        "for i in convolution(par_list, hyper_chunksof,hyper_intersection):\n",
        "  possible_word=hyper_separator.join(i)[:2000]\n",
        "  results.append(sentiment_analyzer(possible_word,top_k =5))\n",
        "\n"
      ],
      "metadata": {
        "id": "Tz2ABydZEysS"
      },
      "execution_count": null,
      "outputs": []
    },
    {
      "cell_type": "markdown",
      "source": [
        "<h2> This is a histogram of the most usual feelings in the text:"
      ],
      "metadata": {
        "id": "9flfJ3n-Fa9O"
      }
    },
    {
      "cell_type": "code",
      "source": [
        "tograph=pd.concat([pd.DataFrame(itm).assign(time=idx) for idx,itm in enumerate(results)])\n",
        "px.histogram(tograph,x='label')"
      ],
      "metadata": {
        "colab": {
          "base_uri": "https://localhost:8080/",
          "height": 542
        },
        "id": "Is4R4ohR-CSg",
        "outputId": "d3a73f1b-6085-42b9-bb3f-976bfcca2df8"
      },
      "execution_count": null,
      "outputs": [
        {
          "output_type": "display_data",
          "data": {
            "text/html": [
              "<html>\n",
              "<head><meta charset=\"utf-8\" /></head>\n",
              "<body>\n",
              "    <div>            <script src=\"https://cdnjs.cloudflare.com/ajax/libs/mathjax/2.7.5/MathJax.js?config=TeX-AMS-MML_SVG\"></script><script type=\"text/javascript\">if (window.MathJax && window.MathJax.Hub && window.MathJax.Hub.Config) {window.MathJax.Hub.Config({SVG: {font: \"STIX-Web\"}});}</script>                <script type=\"text/javascript\">window.PlotlyConfig = {MathJaxConfig: 'local'};</script>\n",
              "        <script charset=\"utf-8\" src=\"https://cdn.plot.ly/plotly-2.24.1.min.js\"></script>                <div id=\"bd9593d7-3dab-4866-9a23-6c5b21061185\" class=\"plotly-graph-div\" style=\"height:525px; width:100%;\"></div>            <script type=\"text/javascript\">                                    window.PLOTLYENV=window.PLOTLYENV || {};                                    if (document.getElementById(\"bd9593d7-3dab-4866-9a23-6c5b21061185\")) {                    Plotly.newPlot(                        \"bd9593d7-3dab-4866-9a23-6c5b21061185\",                        [{\"alignmentgroup\":\"True\",\"bingroup\":\"x\",\"hovertemplate\":\"label=%{x}\\u003cbr\\u003ecount=%{y}\\u003cextra\\u003e\\u003c\\u002fextra\\u003e\",\"legendgroup\":\"\",\"marker\":{\"color\":\"#636efa\",\"pattern\":{\"shape\":\"\"}},\"name\":\"\",\"offsetgroup\":\"\",\"orientation\":\"v\",\"showlegend\":false,\"x\":[\"disappointment\",\"confusion\",\"annoyance\",\"disapproval\",\"neutral\",\"disappointment\",\"annoyance\",\"confusion\",\"disapproval\",\"neutral\",\"disappointment\",\"annoyance\",\"neutral\",\"disapproval\",\"confusion\",\"annoyance\",\"disappointment\",\"neutral\",\"realization\",\"confusion\",\"neutral\",\"disappointment\",\"annoyance\",\"confusion\",\"disapproval\",\"realization\",\"neutral\",\"approval\",\"disappointment\",\"annoyance\",\"realization\",\"neutral\",\"approval\",\"disappointment\",\"annoyance\",\"realization\",\"neutral\",\"approval\",\"surprise\",\"confusion\",\"realization\",\"neutral\",\"approval\",\"confusion\",\"surprise\",\"excitement\",\"joy\",\"approval\",\"realization\",\"neutral\",\"joy\",\"excitement\",\"approval\",\"neutral\",\"realization\",\"excitement\",\"joy\",\"curiosity\",\"approval\",\"neutral\",\"neutral\",\"curiosity\",\"confusion\",\"approval\",\"realization\",\"neutral\",\"confusion\",\"curiosity\",\"approval\",\"caring\",\"neutral\",\"approval\",\"realization\",\"confusion\",\"optimism\",\"neutral\",\"realization\",\"approval\",\"optimism\",\"disappointment\",\"joy\",\"neutral\",\"approval\",\"realization\",\"optimism\",\"joy\",\"approval\",\"neutral\",\"realization\",\"relief\",\"joy\",\"approval\",\"curiosity\",\"neutral\",\"excitement\",\"neutral\",\"approval\",\"curiosity\",\"confusion\",\"optimism\",\"neutral\",\"approval\",\"curiosity\",\"confusion\",\"optimism\",\"neutral\",\"disapproval\",\"approval\",\"confusion\",\"optimism\",\"neutral\",\"approval\",\"disapproval\",\"realization\",\"optimism\",\"neutral\",\"approval\",\"realization\",\"annoyance\",\"disapproval\",\"approval\",\"neutral\",\"confusion\",\"realization\",\"curiosity\",\"approval\",\"neutral\",\"joy\",\"realization\",\"confusion\",\"joy\",\"approval\",\"excitement\",\"curiosity\",\"admiration\",\"admiration\",\"excitement\",\"approval\",\"joy\",\"surprise\",\"admiration\",\"approval\",\"desire\",\"optimism\",\"neutral\"],\"xaxis\":\"x\",\"yaxis\":\"y\",\"type\":\"histogram\"}],                        {\"template\":{\"data\":{\"histogram2dcontour\":[{\"type\":\"histogram2dcontour\",\"colorbar\":{\"outlinewidth\":0,\"ticks\":\"\"},\"colorscale\":[[0.0,\"#0d0887\"],[0.1111111111111111,\"#46039f\"],[0.2222222222222222,\"#7201a8\"],[0.3333333333333333,\"#9c179e\"],[0.4444444444444444,\"#bd3786\"],[0.5555555555555556,\"#d8576b\"],[0.6666666666666666,\"#ed7953\"],[0.7777777777777778,\"#fb9f3a\"],[0.8888888888888888,\"#fdca26\"],[1.0,\"#f0f921\"]]}],\"choropleth\":[{\"type\":\"choropleth\",\"colorbar\":{\"outlinewidth\":0,\"ticks\":\"\"}}],\"histogram2d\":[{\"type\":\"histogram2d\",\"colorbar\":{\"outlinewidth\":0,\"ticks\":\"\"},\"colorscale\":[[0.0,\"#0d0887\"],[0.1111111111111111,\"#46039f\"],[0.2222222222222222,\"#7201a8\"],[0.3333333333333333,\"#9c179e\"],[0.4444444444444444,\"#bd3786\"],[0.5555555555555556,\"#d8576b\"],[0.6666666666666666,\"#ed7953\"],[0.7777777777777778,\"#fb9f3a\"],[0.8888888888888888,\"#fdca26\"],[1.0,\"#f0f921\"]]}],\"heatmap\":[{\"type\":\"heatmap\",\"colorbar\":{\"outlinewidth\":0,\"ticks\":\"\"},\"colorscale\":[[0.0,\"#0d0887\"],[0.1111111111111111,\"#46039f\"],[0.2222222222222222,\"#7201a8\"],[0.3333333333333333,\"#9c179e\"],[0.4444444444444444,\"#bd3786\"],[0.5555555555555556,\"#d8576b\"],[0.6666666666666666,\"#ed7953\"],[0.7777777777777778,\"#fb9f3a\"],[0.8888888888888888,\"#fdca26\"],[1.0,\"#f0f921\"]]}],\"heatmapgl\":[{\"type\":\"heatmapgl\",\"colorbar\":{\"outlinewidth\":0,\"ticks\":\"\"},\"colorscale\":[[0.0,\"#0d0887\"],[0.1111111111111111,\"#46039f\"],[0.2222222222222222,\"#7201a8\"],[0.3333333333333333,\"#9c179e\"],[0.4444444444444444,\"#bd3786\"],[0.5555555555555556,\"#d8576b\"],[0.6666666666666666,\"#ed7953\"],[0.7777777777777778,\"#fb9f3a\"],[0.8888888888888888,\"#fdca26\"],[1.0,\"#f0f921\"]]}],\"contourcarpet\":[{\"type\":\"contourcarpet\",\"colorbar\":{\"outlinewidth\":0,\"ticks\":\"\"}}],\"contour\":[{\"type\":\"contour\",\"colorbar\":{\"outlinewidth\":0,\"ticks\":\"\"},\"colorscale\":[[0.0,\"#0d0887\"],[0.1111111111111111,\"#46039f\"],[0.2222222222222222,\"#7201a8\"],[0.3333333333333333,\"#9c179e\"],[0.4444444444444444,\"#bd3786\"],[0.5555555555555556,\"#d8576b\"],[0.6666666666666666,\"#ed7953\"],[0.7777777777777778,\"#fb9f3a\"],[0.8888888888888888,\"#fdca26\"],[1.0,\"#f0f921\"]]}],\"surface\":[{\"type\":\"surface\",\"colorbar\":{\"outlinewidth\":0,\"ticks\":\"\"},\"colorscale\":[[0.0,\"#0d0887\"],[0.1111111111111111,\"#46039f\"],[0.2222222222222222,\"#7201a8\"],[0.3333333333333333,\"#9c179e\"],[0.4444444444444444,\"#bd3786\"],[0.5555555555555556,\"#d8576b\"],[0.6666666666666666,\"#ed7953\"],[0.7777777777777778,\"#fb9f3a\"],[0.8888888888888888,\"#fdca26\"],[1.0,\"#f0f921\"]]}],\"mesh3d\":[{\"type\":\"mesh3d\",\"colorbar\":{\"outlinewidth\":0,\"ticks\":\"\"}}],\"scatter\":[{\"fillpattern\":{\"fillmode\":\"overlay\",\"size\":10,\"solidity\":0.2},\"type\":\"scatter\"}],\"parcoords\":[{\"type\":\"parcoords\",\"line\":{\"colorbar\":{\"outlinewidth\":0,\"ticks\":\"\"}}}],\"scatterpolargl\":[{\"type\":\"scatterpolargl\",\"marker\":{\"colorbar\":{\"outlinewidth\":0,\"ticks\":\"\"}}}],\"bar\":[{\"error_x\":{\"color\":\"#2a3f5f\"},\"error_y\":{\"color\":\"#2a3f5f\"},\"marker\":{\"line\":{\"color\":\"#E5ECF6\",\"width\":0.5},\"pattern\":{\"fillmode\":\"overlay\",\"size\":10,\"solidity\":0.2}},\"type\":\"bar\"}],\"scattergeo\":[{\"type\":\"scattergeo\",\"marker\":{\"colorbar\":{\"outlinewidth\":0,\"ticks\":\"\"}}}],\"scatterpolar\":[{\"type\":\"scatterpolar\",\"marker\":{\"colorbar\":{\"outlinewidth\":0,\"ticks\":\"\"}}}],\"histogram\":[{\"marker\":{\"pattern\":{\"fillmode\":\"overlay\",\"size\":10,\"solidity\":0.2}},\"type\":\"histogram\"}],\"scattergl\":[{\"type\":\"scattergl\",\"marker\":{\"colorbar\":{\"outlinewidth\":0,\"ticks\":\"\"}}}],\"scatter3d\":[{\"type\":\"scatter3d\",\"line\":{\"colorbar\":{\"outlinewidth\":0,\"ticks\":\"\"}},\"marker\":{\"colorbar\":{\"outlinewidth\":0,\"ticks\":\"\"}}}],\"scattermapbox\":[{\"type\":\"scattermapbox\",\"marker\":{\"colorbar\":{\"outlinewidth\":0,\"ticks\":\"\"}}}],\"scatterternary\":[{\"type\":\"scatterternary\",\"marker\":{\"colorbar\":{\"outlinewidth\":0,\"ticks\":\"\"}}}],\"scattercarpet\":[{\"type\":\"scattercarpet\",\"marker\":{\"colorbar\":{\"outlinewidth\":0,\"ticks\":\"\"}}}],\"carpet\":[{\"aaxis\":{\"endlinecolor\":\"#2a3f5f\",\"gridcolor\":\"white\",\"linecolor\":\"white\",\"minorgridcolor\":\"white\",\"startlinecolor\":\"#2a3f5f\"},\"baxis\":{\"endlinecolor\":\"#2a3f5f\",\"gridcolor\":\"white\",\"linecolor\":\"white\",\"minorgridcolor\":\"white\",\"startlinecolor\":\"#2a3f5f\"},\"type\":\"carpet\"}],\"table\":[{\"cells\":{\"fill\":{\"color\":\"#EBF0F8\"},\"line\":{\"color\":\"white\"}},\"header\":{\"fill\":{\"color\":\"#C8D4E3\"},\"line\":{\"color\":\"white\"}},\"type\":\"table\"}],\"barpolar\":[{\"marker\":{\"line\":{\"color\":\"#E5ECF6\",\"width\":0.5},\"pattern\":{\"fillmode\":\"overlay\",\"size\":10,\"solidity\":0.2}},\"type\":\"barpolar\"}],\"pie\":[{\"automargin\":true,\"type\":\"pie\"}]},\"layout\":{\"autotypenumbers\":\"strict\",\"colorway\":[\"#636efa\",\"#EF553B\",\"#00cc96\",\"#ab63fa\",\"#FFA15A\",\"#19d3f3\",\"#FF6692\",\"#B6E880\",\"#FF97FF\",\"#FECB52\"],\"font\":{\"color\":\"#2a3f5f\"},\"hovermode\":\"closest\",\"hoverlabel\":{\"align\":\"left\"},\"paper_bgcolor\":\"white\",\"plot_bgcolor\":\"#E5ECF6\",\"polar\":{\"bgcolor\":\"#E5ECF6\",\"angularaxis\":{\"gridcolor\":\"white\",\"linecolor\":\"white\",\"ticks\":\"\"},\"radialaxis\":{\"gridcolor\":\"white\",\"linecolor\":\"white\",\"ticks\":\"\"}},\"ternary\":{\"bgcolor\":\"#E5ECF6\",\"aaxis\":{\"gridcolor\":\"white\",\"linecolor\":\"white\",\"ticks\":\"\"},\"baxis\":{\"gridcolor\":\"white\",\"linecolor\":\"white\",\"ticks\":\"\"},\"caxis\":{\"gridcolor\":\"white\",\"linecolor\":\"white\",\"ticks\":\"\"}},\"coloraxis\":{\"colorbar\":{\"outlinewidth\":0,\"ticks\":\"\"}},\"colorscale\":{\"sequential\":[[0.0,\"#0d0887\"],[0.1111111111111111,\"#46039f\"],[0.2222222222222222,\"#7201a8\"],[0.3333333333333333,\"#9c179e\"],[0.4444444444444444,\"#bd3786\"],[0.5555555555555556,\"#d8576b\"],[0.6666666666666666,\"#ed7953\"],[0.7777777777777778,\"#fb9f3a\"],[0.8888888888888888,\"#fdca26\"],[1.0,\"#f0f921\"]],\"sequentialminus\":[[0.0,\"#0d0887\"],[0.1111111111111111,\"#46039f\"],[0.2222222222222222,\"#7201a8\"],[0.3333333333333333,\"#9c179e\"],[0.4444444444444444,\"#bd3786\"],[0.5555555555555556,\"#d8576b\"],[0.6666666666666666,\"#ed7953\"],[0.7777777777777778,\"#fb9f3a\"],[0.8888888888888888,\"#fdca26\"],[1.0,\"#f0f921\"]],\"diverging\":[[0,\"#8e0152\"],[0.1,\"#c51b7d\"],[0.2,\"#de77ae\"],[0.3,\"#f1b6da\"],[0.4,\"#fde0ef\"],[0.5,\"#f7f7f7\"],[0.6,\"#e6f5d0\"],[0.7,\"#b8e186\"],[0.8,\"#7fbc41\"],[0.9,\"#4d9221\"],[1,\"#276419\"]]},\"xaxis\":{\"gridcolor\":\"white\",\"linecolor\":\"white\",\"ticks\":\"\",\"title\":{\"standoff\":15},\"zerolinecolor\":\"white\",\"automargin\":true,\"zerolinewidth\":2},\"yaxis\":{\"gridcolor\":\"white\",\"linecolor\":\"white\",\"ticks\":\"\",\"title\":{\"standoff\":15},\"zerolinecolor\":\"white\",\"automargin\":true,\"zerolinewidth\":2},\"scene\":{\"xaxis\":{\"backgroundcolor\":\"#E5ECF6\",\"gridcolor\":\"white\",\"linecolor\":\"white\",\"showbackground\":true,\"ticks\":\"\",\"zerolinecolor\":\"white\",\"gridwidth\":2},\"yaxis\":{\"backgroundcolor\":\"#E5ECF6\",\"gridcolor\":\"white\",\"linecolor\":\"white\",\"showbackground\":true,\"ticks\":\"\",\"zerolinecolor\":\"white\",\"gridwidth\":2},\"zaxis\":{\"backgroundcolor\":\"#E5ECF6\",\"gridcolor\":\"white\",\"linecolor\":\"white\",\"showbackground\":true,\"ticks\":\"\",\"zerolinecolor\":\"white\",\"gridwidth\":2}},\"shapedefaults\":{\"line\":{\"color\":\"#2a3f5f\"}},\"annotationdefaults\":{\"arrowcolor\":\"#2a3f5f\",\"arrowhead\":0,\"arrowwidth\":1},\"geo\":{\"bgcolor\":\"white\",\"landcolor\":\"#E5ECF6\",\"subunitcolor\":\"white\",\"showland\":true,\"showlakes\":true,\"lakecolor\":\"white\"},\"title\":{\"x\":0.05},\"mapbox\":{\"style\":\"light\"}}},\"xaxis\":{\"anchor\":\"y\",\"domain\":[0.0,1.0],\"title\":{\"text\":\"label\"}},\"yaxis\":{\"anchor\":\"x\",\"domain\":[0.0,1.0],\"title\":{\"text\":\"count\"}},\"legend\":{\"tracegroupgap\":0},\"margin\":{\"t\":60},\"barmode\":\"relative\"},                        {\"responsive\": true}                    ).then(function(){\n",
              "                            \n",
              "var gd = document.getElementById('bd9593d7-3dab-4866-9a23-6c5b21061185');\n",
              "var x = new MutationObserver(function (mutations, observer) {{\n",
              "        var display = window.getComputedStyle(gd).display;\n",
              "        if (!display || display === 'none') {{\n",
              "            console.log([gd, 'removed!']);\n",
              "            Plotly.purge(gd);\n",
              "            observer.disconnect();\n",
              "        }}\n",
              "}});\n",
              "\n",
              "// Listen for the removal of the full notebook cells\n",
              "var notebookContainer = gd.closest('#notebook-container');\n",
              "if (notebookContainer) {{\n",
              "    x.observe(notebookContainer, {childList: true});\n",
              "}}\n",
              "\n",
              "// Listen for the clearing of the current output cell\n",
              "var outputEl = gd.closest('.output');\n",
              "if (outputEl) {{\n",
              "    x.observe(outputEl, {childList: true});\n",
              "}}\n",
              "\n",
              "                        })                };                            </script>        </div>\n",
              "</body>\n",
              "</html>"
            ]
          },
          "metadata": {}
        }
      ]
    },
    {
      "cell_type": "markdown",
      "source": [
        "<h2> Deep analysis:</h2>\n",
        "\n",
        "Now i have 'temporal variables' that might have some insight into the flow of emotions of the autor, i will use a library created by me to understand the key relationships between variables; the output of the following cell is not relevant to the reader, it is ony important to the investigator in getting the main relationships."
      ],
      "metadata": {
        "id": "ldfzHzpkFmrs"
      }
    },
    {
      "cell_type": "code",
      "source": [
        "tograph=tograph[~tograph['label'].isin(['desire','relief','caring','surprise'])]\n",
        "movement=tograph.set_index(['label','time'])['score'].unstack(fill_value=0).T.reset_index()\n",
        "# Maybe you will notice that i change the 'time' name to 'Weeks', the reason is that this is a software\n",
        "# prepared to use in a context of marketing analysis for my job, hahahah.\n",
        "movement=movement.rename(columns={'time':'Weeks'})\n",
        "movement = movement.rename_axis(None, axis=1)\n",
        "display(movement)\n",
        "smj.collinearity_test(movement,distance=\"vif\")"
      ],
      "metadata": {
        "colab": {
          "base_uri": "https://localhost:8080/",
          "height": 1000
        },
        "id": "NdphO9wpAEY8",
        "outputId": "5e64de61-9358-4f95-b43e-6d31312a7c6a"
      },
      "execution_count": null,
      "outputs": [
        {
          "output_type": "display_data",
          "data": {
            "text/plain": [
              "    Weeks  admiration  annoyance  approval  confusion  curiosity  \\\n",
              "0       0    0.000000   0.195329  0.000000   0.204989   0.000000   \n",
              "1       1    0.000000   0.212876  0.000000   0.197393   0.000000   \n",
              "2       2    0.000000   0.299037  0.000000   0.063826   0.000000   \n",
              "3       3    0.000000   0.239902  0.000000   0.139588   0.000000   \n",
              "4       4    0.000000   0.271732  0.000000   0.102347   0.000000   \n",
              "5       5    0.000000   0.029376  0.131826   0.000000   0.000000   \n",
              "6       6    0.000000   0.020773  0.167065   0.000000   0.000000   \n",
              "7       7    0.000000   0.000000  0.254968   0.034116   0.000000   \n",
              "8       8    0.000000   0.000000  0.199472   0.080034   0.000000   \n",
              "9       9    0.000000   0.000000  0.193784   0.000000   0.000000   \n",
              "10     10    0.000000   0.000000  0.091567   0.000000   0.000000   \n",
              "11     11    0.000000   0.000000  0.106274   0.000000   0.173010   \n",
              "12     12    0.000000   0.000000  0.163275   0.181312   0.198344   \n",
              "13     13    0.000000   0.000000  0.111070   0.162617   0.145503   \n",
              "14     14    0.000000   0.000000  0.183966   0.082664   0.000000   \n",
              "15     15    0.000000   0.000000  0.154596   0.000000   0.000000   \n",
              "16     16    0.000000   0.000000  0.255001   0.000000   0.000000   \n",
              "17     17    0.000000   0.000000  0.211502   0.000000   0.000000   \n",
              "18     18    0.000000   0.000000  0.224420   0.000000   0.122397   \n",
              "19     19    0.000000   0.000000  0.256774   0.142990   0.198401   \n",
              "20     20    0.000000   0.000000  0.265581   0.160113   0.203400   \n",
              "21     21    0.000000   0.000000  0.087115   0.072509   0.000000   \n",
              "22     22    0.000000   0.000000  0.105111   0.000000   0.000000   \n",
              "23     23    0.000000   0.083028  0.159687   0.000000   0.000000   \n",
              "24     24    0.000000   0.000000  0.357062   0.095107   0.065774   \n",
              "25     25    0.000000   0.000000  0.397396   0.071831   0.000000   \n",
              "26     26    0.103024   0.000000  0.247126   0.000000   0.146069   \n",
              "27     27    0.380128   0.000000  0.142042   0.000000   0.000000   \n",
              "28     28    0.385976   0.000000  0.377807   0.000000   0.000000   \n",
              "\n",
              "    disappointment  disapproval  excitement       joy   neutral  optimism  \\\n",
              "0         0.608719     0.194424    0.000000  0.000000  0.091594  0.000000   \n",
              "1         0.604420     0.142675    0.000000  0.000000  0.086345  0.000000   \n",
              "2         0.577709     0.104776    0.000000  0.000000  0.109572  0.000000   \n",
              "3         0.209810     0.000000    0.000000  0.000000  0.166320  0.000000   \n",
              "4         0.288390     0.099027    0.000000  0.000000  0.310659  0.000000   \n",
              "5         0.101287     0.000000    0.000000  0.000000  0.331130  0.000000   \n",
              "6         0.073691     0.000000    0.000000  0.000000  0.374280  0.000000   \n",
              "7         0.000000     0.000000    0.000000  0.000000  0.316764  0.000000   \n",
              "8         0.000000     0.000000    0.000000  0.000000  0.374537  0.000000   \n",
              "9         0.000000     0.000000    0.253334  0.252865  0.103054  0.000000   \n",
              "10        0.000000     0.000000    0.285240  0.410971  0.083376  0.000000   \n",
              "11        0.000000     0.000000    0.569526  0.214515  0.060001  0.000000   \n",
              "12        0.000000     0.000000    0.000000  0.000000  0.345622  0.000000   \n",
              "13        0.000000     0.000000    0.000000  0.000000  0.264982  0.000000   \n",
              "14        0.000000     0.000000    0.000000  0.000000  0.515337  0.051784   \n",
              "15        0.021397     0.000000    0.000000  0.000000  0.684311  0.053519   \n",
              "16        0.000000     0.000000    0.000000  0.282738  0.257600  0.052965   \n",
              "17        0.000000     0.000000    0.000000  0.696232  0.095109  0.000000   \n",
              "18        0.000000     0.000000    0.086230  0.297811  0.091068  0.000000   \n",
              "19        0.000000     0.000000    0.000000  0.000000  0.298544  0.129697   \n",
              "20        0.000000     0.000000    0.000000  0.000000  0.376752  0.112114   \n",
              "21        0.000000     0.114907    0.000000  0.000000  0.613394  0.043283   \n",
              "22        0.000000     0.089540    0.000000  0.000000  0.686285  0.037293   \n",
              "23        0.000000     0.077375    0.000000  0.000000  0.471529  0.000000   \n",
              "24        0.000000     0.000000    0.000000  0.000000  0.271498  0.000000   \n",
              "25        0.000000     0.000000    0.000000  0.098156  0.135948  0.000000   \n",
              "26        0.000000     0.000000    0.190658  0.261096  0.000000  0.000000   \n",
              "27        0.000000     0.000000    0.292113  0.090555  0.000000  0.000000   \n",
              "28        0.000000     0.000000    0.000000  0.000000  0.095466  0.130503   \n",
              "\n",
              "    realization  \n",
              "0      0.000000  \n",
              "1      0.000000  \n",
              "2      0.000000  \n",
              "3      0.149764  \n",
              "4      0.000000  \n",
              "5      0.675538  \n",
              "6      0.614115  \n",
              "7      0.560550  \n",
              "8      0.433449  \n",
              "9      0.165787  \n",
              "10     0.077493  \n",
              "11     0.000000  \n",
              "12     0.088508  \n",
              "13     0.000000  \n",
              "14     0.107505  \n",
              "15     0.254317  \n",
              "16     0.106827  \n",
              "17     0.046007  \n",
              "18     0.000000  \n",
              "19     0.000000  \n",
              "20     0.000000  \n",
              "21     0.000000  \n",
              "22     0.038925  \n",
              "23     0.155092  \n",
              "24     0.086519  \n",
              "25     0.083330  \n",
              "26     0.000000  \n",
              "27     0.000000  \n",
              "28     0.000000  "
            ],
            "text/html": [
              "\n",
              "  <div id=\"df-cc656269-a273-4d51-a8c4-e72d3179c791\" class=\"colab-df-container\">\n",
              "    <div>\n",
              "<style scoped>\n",
              "    .dataframe tbody tr th:only-of-type {\n",
              "        vertical-align: middle;\n",
              "    }\n",
              "\n",
              "    .dataframe tbody tr th {\n",
              "        vertical-align: top;\n",
              "    }\n",
              "\n",
              "    .dataframe thead th {\n",
              "        text-align: right;\n",
              "    }\n",
              "</style>\n",
              "<table border=\"1\" class=\"dataframe\">\n",
              "  <thead>\n",
              "    <tr style=\"text-align: right;\">\n",
              "      <th></th>\n",
              "      <th>Weeks</th>\n",
              "      <th>admiration</th>\n",
              "      <th>annoyance</th>\n",
              "      <th>approval</th>\n",
              "      <th>confusion</th>\n",
              "      <th>curiosity</th>\n",
              "      <th>disappointment</th>\n",
              "      <th>disapproval</th>\n",
              "      <th>excitement</th>\n",
              "      <th>joy</th>\n",
              "      <th>neutral</th>\n",
              "      <th>optimism</th>\n",
              "      <th>realization</th>\n",
              "    </tr>\n",
              "  </thead>\n",
              "  <tbody>\n",
              "    <tr>\n",
              "      <th>0</th>\n",
              "      <td>0</td>\n",
              "      <td>0.000000</td>\n",
              "      <td>0.195329</td>\n",
              "      <td>0.000000</td>\n",
              "      <td>0.204989</td>\n",
              "      <td>0.000000</td>\n",
              "      <td>0.608719</td>\n",
              "      <td>0.194424</td>\n",
              "      <td>0.000000</td>\n",
              "      <td>0.000000</td>\n",
              "      <td>0.091594</td>\n",
              "      <td>0.000000</td>\n",
              "      <td>0.000000</td>\n",
              "    </tr>\n",
              "    <tr>\n",
              "      <th>1</th>\n",
              "      <td>1</td>\n",
              "      <td>0.000000</td>\n",
              "      <td>0.212876</td>\n",
              "      <td>0.000000</td>\n",
              "      <td>0.197393</td>\n",
              "      <td>0.000000</td>\n",
              "      <td>0.604420</td>\n",
              "      <td>0.142675</td>\n",
              "      <td>0.000000</td>\n",
              "      <td>0.000000</td>\n",
              "      <td>0.086345</td>\n",
              "      <td>0.000000</td>\n",
              "      <td>0.000000</td>\n",
              "    </tr>\n",
              "    <tr>\n",
              "      <th>2</th>\n",
              "      <td>2</td>\n",
              "      <td>0.000000</td>\n",
              "      <td>0.299037</td>\n",
              "      <td>0.000000</td>\n",
              "      <td>0.063826</td>\n",
              "      <td>0.000000</td>\n",
              "      <td>0.577709</td>\n",
              "      <td>0.104776</td>\n",
              "      <td>0.000000</td>\n",
              "      <td>0.000000</td>\n",
              "      <td>0.109572</td>\n",
              "      <td>0.000000</td>\n",
              "      <td>0.000000</td>\n",
              "    </tr>\n",
              "    <tr>\n",
              "      <th>3</th>\n",
              "      <td>3</td>\n",
              "      <td>0.000000</td>\n",
              "      <td>0.239902</td>\n",
              "      <td>0.000000</td>\n",
              "      <td>0.139588</td>\n",
              "      <td>0.000000</td>\n",
              "      <td>0.209810</td>\n",
              "      <td>0.000000</td>\n",
              "      <td>0.000000</td>\n",
              "      <td>0.000000</td>\n",
              "      <td>0.166320</td>\n",
              "      <td>0.000000</td>\n",
              "      <td>0.149764</td>\n",
              "    </tr>\n",
              "    <tr>\n",
              "      <th>4</th>\n",
              "      <td>4</td>\n",
              "      <td>0.000000</td>\n",
              "      <td>0.271732</td>\n",
              "      <td>0.000000</td>\n",
              "      <td>0.102347</td>\n",
              "      <td>0.000000</td>\n",
              "      <td>0.288390</td>\n",
              "      <td>0.099027</td>\n",
              "      <td>0.000000</td>\n",
              "      <td>0.000000</td>\n",
              "      <td>0.310659</td>\n",
              "      <td>0.000000</td>\n",
              "      <td>0.000000</td>\n",
              "    </tr>\n",
              "    <tr>\n",
              "      <th>5</th>\n",
              "      <td>5</td>\n",
              "      <td>0.000000</td>\n",
              "      <td>0.029376</td>\n",
              "      <td>0.131826</td>\n",
              "      <td>0.000000</td>\n",
              "      <td>0.000000</td>\n",
              "      <td>0.101287</td>\n",
              "      <td>0.000000</td>\n",
              "      <td>0.000000</td>\n",
              "      <td>0.000000</td>\n",
              "      <td>0.331130</td>\n",
              "      <td>0.000000</td>\n",
              "      <td>0.675538</td>\n",
              "    </tr>\n",
              "    <tr>\n",
              "      <th>6</th>\n",
              "      <td>6</td>\n",
              "      <td>0.000000</td>\n",
              "      <td>0.020773</td>\n",
              "      <td>0.167065</td>\n",
              "      <td>0.000000</td>\n",
              "      <td>0.000000</td>\n",
              "      <td>0.073691</td>\n",
              "      <td>0.000000</td>\n",
              "      <td>0.000000</td>\n",
              "      <td>0.000000</td>\n",
              "      <td>0.374280</td>\n",
              "      <td>0.000000</td>\n",
              "      <td>0.614115</td>\n",
              "    </tr>\n",
              "    <tr>\n",
              "      <th>7</th>\n",
              "      <td>7</td>\n",
              "      <td>0.000000</td>\n",
              "      <td>0.000000</td>\n",
              "      <td>0.254968</td>\n",
              "      <td>0.034116</td>\n",
              "      <td>0.000000</td>\n",
              "      <td>0.000000</td>\n",
              "      <td>0.000000</td>\n",
              "      <td>0.000000</td>\n",
              "      <td>0.000000</td>\n",
              "      <td>0.316764</td>\n",
              "      <td>0.000000</td>\n",
              "      <td>0.560550</td>\n",
              "    </tr>\n",
              "    <tr>\n",
              "      <th>8</th>\n",
              "      <td>8</td>\n",
              "      <td>0.000000</td>\n",
              "      <td>0.000000</td>\n",
              "      <td>0.199472</td>\n",
              "      <td>0.080034</td>\n",
              "      <td>0.000000</td>\n",
              "      <td>0.000000</td>\n",
              "      <td>0.000000</td>\n",
              "      <td>0.000000</td>\n",
              "      <td>0.000000</td>\n",
              "      <td>0.374537</td>\n",
              "      <td>0.000000</td>\n",
              "      <td>0.433449</td>\n",
              "    </tr>\n",
              "    <tr>\n",
              "      <th>9</th>\n",
              "      <td>9</td>\n",
              "      <td>0.000000</td>\n",
              "      <td>0.000000</td>\n",
              "      <td>0.193784</td>\n",
              "      <td>0.000000</td>\n",
              "      <td>0.000000</td>\n",
              "      <td>0.000000</td>\n",
              "      <td>0.000000</td>\n",
              "      <td>0.253334</td>\n",
              "      <td>0.252865</td>\n",
              "      <td>0.103054</td>\n",
              "      <td>0.000000</td>\n",
              "      <td>0.165787</td>\n",
              "    </tr>\n",
              "    <tr>\n",
              "      <th>10</th>\n",
              "      <td>10</td>\n",
              "      <td>0.000000</td>\n",
              "      <td>0.000000</td>\n",
              "      <td>0.091567</td>\n",
              "      <td>0.000000</td>\n",
              "      <td>0.000000</td>\n",
              "      <td>0.000000</td>\n",
              "      <td>0.000000</td>\n",
              "      <td>0.285240</td>\n",
              "      <td>0.410971</td>\n",
              "      <td>0.083376</td>\n",
              "      <td>0.000000</td>\n",
              "      <td>0.077493</td>\n",
              "    </tr>\n",
              "    <tr>\n",
              "      <th>11</th>\n",
              "      <td>11</td>\n",
              "      <td>0.000000</td>\n",
              "      <td>0.000000</td>\n",
              "      <td>0.106274</td>\n",
              "      <td>0.000000</td>\n",
              "      <td>0.173010</td>\n",
              "      <td>0.000000</td>\n",
              "      <td>0.000000</td>\n",
              "      <td>0.569526</td>\n",
              "      <td>0.214515</td>\n",
              "      <td>0.060001</td>\n",
              "      <td>0.000000</td>\n",
              "      <td>0.000000</td>\n",
              "    </tr>\n",
              "    <tr>\n",
              "      <th>12</th>\n",
              "      <td>12</td>\n",
              "      <td>0.000000</td>\n",
              "      <td>0.000000</td>\n",
              "      <td>0.163275</td>\n",
              "      <td>0.181312</td>\n",
              "      <td>0.198344</td>\n",
              "      <td>0.000000</td>\n",
              "      <td>0.000000</td>\n",
              "      <td>0.000000</td>\n",
              "      <td>0.000000</td>\n",
              "      <td>0.345622</td>\n",
              "      <td>0.000000</td>\n",
              "      <td>0.088508</td>\n",
              "    </tr>\n",
              "    <tr>\n",
              "      <th>13</th>\n",
              "      <td>13</td>\n",
              "      <td>0.000000</td>\n",
              "      <td>0.000000</td>\n",
              "      <td>0.111070</td>\n",
              "      <td>0.162617</td>\n",
              "      <td>0.145503</td>\n",
              "      <td>0.000000</td>\n",
              "      <td>0.000000</td>\n",
              "      <td>0.000000</td>\n",
              "      <td>0.000000</td>\n",
              "      <td>0.264982</td>\n",
              "      <td>0.000000</td>\n",
              "      <td>0.000000</td>\n",
              "    </tr>\n",
              "    <tr>\n",
              "      <th>14</th>\n",
              "      <td>14</td>\n",
              "      <td>0.000000</td>\n",
              "      <td>0.000000</td>\n",
              "      <td>0.183966</td>\n",
              "      <td>0.082664</td>\n",
              "      <td>0.000000</td>\n",
              "      <td>0.000000</td>\n",
              "      <td>0.000000</td>\n",
              "      <td>0.000000</td>\n",
              "      <td>0.000000</td>\n",
              "      <td>0.515337</td>\n",
              "      <td>0.051784</td>\n",
              "      <td>0.107505</td>\n",
              "    </tr>\n",
              "    <tr>\n",
              "      <th>15</th>\n",
              "      <td>15</td>\n",
              "      <td>0.000000</td>\n",
              "      <td>0.000000</td>\n",
              "      <td>0.154596</td>\n",
              "      <td>0.000000</td>\n",
              "      <td>0.000000</td>\n",
              "      <td>0.021397</td>\n",
              "      <td>0.000000</td>\n",
              "      <td>0.000000</td>\n",
              "      <td>0.000000</td>\n",
              "      <td>0.684311</td>\n",
              "      <td>0.053519</td>\n",
              "      <td>0.254317</td>\n",
              "    </tr>\n",
              "    <tr>\n",
              "      <th>16</th>\n",
              "      <td>16</td>\n",
              "      <td>0.000000</td>\n",
              "      <td>0.000000</td>\n",
              "      <td>0.255001</td>\n",
              "      <td>0.000000</td>\n",
              "      <td>0.000000</td>\n",
              "      <td>0.000000</td>\n",
              "      <td>0.000000</td>\n",
              "      <td>0.000000</td>\n",
              "      <td>0.282738</td>\n",
              "      <td>0.257600</td>\n",
              "      <td>0.052965</td>\n",
              "      <td>0.106827</td>\n",
              "    </tr>\n",
              "    <tr>\n",
              "      <th>17</th>\n",
              "      <td>17</td>\n",
              "      <td>0.000000</td>\n",
              "      <td>0.000000</td>\n",
              "      <td>0.211502</td>\n",
              "      <td>0.000000</td>\n",
              "      <td>0.000000</td>\n",
              "      <td>0.000000</td>\n",
              "      <td>0.000000</td>\n",
              "      <td>0.000000</td>\n",
              "      <td>0.696232</td>\n",
              "      <td>0.095109</td>\n",
              "      <td>0.000000</td>\n",
              "      <td>0.046007</td>\n",
              "    </tr>\n",
              "    <tr>\n",
              "      <th>18</th>\n",
              "      <td>18</td>\n",
              "      <td>0.000000</td>\n",
              "      <td>0.000000</td>\n",
              "      <td>0.224420</td>\n",
              "      <td>0.000000</td>\n",
              "      <td>0.122397</td>\n",
              "      <td>0.000000</td>\n",
              "      <td>0.000000</td>\n",
              "      <td>0.086230</td>\n",
              "      <td>0.297811</td>\n",
              "      <td>0.091068</td>\n",
              "      <td>0.000000</td>\n",
              "      <td>0.000000</td>\n",
              "    </tr>\n",
              "    <tr>\n",
              "      <th>19</th>\n",
              "      <td>19</td>\n",
              "      <td>0.000000</td>\n",
              "      <td>0.000000</td>\n",
              "      <td>0.256774</td>\n",
              "      <td>0.142990</td>\n",
              "      <td>0.198401</td>\n",
              "      <td>0.000000</td>\n",
              "      <td>0.000000</td>\n",
              "      <td>0.000000</td>\n",
              "      <td>0.000000</td>\n",
              "      <td>0.298544</td>\n",
              "      <td>0.129697</td>\n",
              "      <td>0.000000</td>\n",
              "    </tr>\n",
              "    <tr>\n",
              "      <th>20</th>\n",
              "      <td>20</td>\n",
              "      <td>0.000000</td>\n",
              "      <td>0.000000</td>\n",
              "      <td>0.265581</td>\n",
              "      <td>0.160113</td>\n",
              "      <td>0.203400</td>\n",
              "      <td>0.000000</td>\n",
              "      <td>0.000000</td>\n",
              "      <td>0.000000</td>\n",
              "      <td>0.000000</td>\n",
              "      <td>0.376752</td>\n",
              "      <td>0.112114</td>\n",
              "      <td>0.000000</td>\n",
              "    </tr>\n",
              "    <tr>\n",
              "      <th>21</th>\n",
              "      <td>21</td>\n",
              "      <td>0.000000</td>\n",
              "      <td>0.000000</td>\n",
              "      <td>0.087115</td>\n",
              "      <td>0.072509</td>\n",
              "      <td>0.000000</td>\n",
              "      <td>0.000000</td>\n",
              "      <td>0.114907</td>\n",
              "      <td>0.000000</td>\n",
              "      <td>0.000000</td>\n",
              "      <td>0.613394</td>\n",
              "      <td>0.043283</td>\n",
              "      <td>0.000000</td>\n",
              "    </tr>\n",
              "    <tr>\n",
              "      <th>22</th>\n",
              "      <td>22</td>\n",
              "      <td>0.000000</td>\n",
              "      <td>0.000000</td>\n",
              "      <td>0.105111</td>\n",
              "      <td>0.000000</td>\n",
              "      <td>0.000000</td>\n",
              "      <td>0.000000</td>\n",
              "      <td>0.089540</td>\n",
              "      <td>0.000000</td>\n",
              "      <td>0.000000</td>\n",
              "      <td>0.686285</td>\n",
              "      <td>0.037293</td>\n",
              "      <td>0.038925</td>\n",
              "    </tr>\n",
              "    <tr>\n",
              "      <th>23</th>\n",
              "      <td>23</td>\n",
              "      <td>0.000000</td>\n",
              "      <td>0.083028</td>\n",
              "      <td>0.159687</td>\n",
              "      <td>0.000000</td>\n",
              "      <td>0.000000</td>\n",
              "      <td>0.000000</td>\n",
              "      <td>0.077375</td>\n",
              "      <td>0.000000</td>\n",
              "      <td>0.000000</td>\n",
              "      <td>0.471529</td>\n",
              "      <td>0.000000</td>\n",
              "      <td>0.155092</td>\n",
              "    </tr>\n",
              "    <tr>\n",
              "      <th>24</th>\n",
              "      <td>24</td>\n",
              "      <td>0.000000</td>\n",
              "      <td>0.000000</td>\n",
              "      <td>0.357062</td>\n",
              "      <td>0.095107</td>\n",
              "      <td>0.065774</td>\n",
              "      <td>0.000000</td>\n",
              "      <td>0.000000</td>\n",
              "      <td>0.000000</td>\n",
              "      <td>0.000000</td>\n",
              "      <td>0.271498</td>\n",
              "      <td>0.000000</td>\n",
              "      <td>0.086519</td>\n",
              "    </tr>\n",
              "    <tr>\n",
              "      <th>25</th>\n",
              "      <td>25</td>\n",
              "      <td>0.000000</td>\n",
              "      <td>0.000000</td>\n",
              "      <td>0.397396</td>\n",
              "      <td>0.071831</td>\n",
              "      <td>0.000000</td>\n",
              "      <td>0.000000</td>\n",
              "      <td>0.000000</td>\n",
              "      <td>0.000000</td>\n",
              "      <td>0.098156</td>\n",
              "      <td>0.135948</td>\n",
              "      <td>0.000000</td>\n",
              "      <td>0.083330</td>\n",
              "    </tr>\n",
              "    <tr>\n",
              "      <th>26</th>\n",
              "      <td>26</td>\n",
              "      <td>0.103024</td>\n",
              "      <td>0.000000</td>\n",
              "      <td>0.247126</td>\n",
              "      <td>0.000000</td>\n",
              "      <td>0.146069</td>\n",
              "      <td>0.000000</td>\n",
              "      <td>0.000000</td>\n",
              "      <td>0.190658</td>\n",
              "      <td>0.261096</td>\n",
              "      <td>0.000000</td>\n",
              "      <td>0.000000</td>\n",
              "      <td>0.000000</td>\n",
              "    </tr>\n",
              "    <tr>\n",
              "      <th>27</th>\n",
              "      <td>27</td>\n",
              "      <td>0.380128</td>\n",
              "      <td>0.000000</td>\n",
              "      <td>0.142042</td>\n",
              "      <td>0.000000</td>\n",
              "      <td>0.000000</td>\n",
              "      <td>0.000000</td>\n",
              "      <td>0.000000</td>\n",
              "      <td>0.292113</td>\n",
              "      <td>0.090555</td>\n",
              "      <td>0.000000</td>\n",
              "      <td>0.000000</td>\n",
              "      <td>0.000000</td>\n",
              "    </tr>\n",
              "    <tr>\n",
              "      <th>28</th>\n",
              "      <td>28</td>\n",
              "      <td>0.385976</td>\n",
              "      <td>0.000000</td>\n",
              "      <td>0.377807</td>\n",
              "      <td>0.000000</td>\n",
              "      <td>0.000000</td>\n",
              "      <td>0.000000</td>\n",
              "      <td>0.000000</td>\n",
              "      <td>0.000000</td>\n",
              "      <td>0.000000</td>\n",
              "      <td>0.095466</td>\n",
              "      <td>0.130503</td>\n",
              "      <td>0.000000</td>\n",
              "    </tr>\n",
              "  </tbody>\n",
              "</table>\n",
              "</div>\n",
              "    <div class=\"colab-df-buttons\">\n",
              "\n",
              "  <div class=\"colab-df-container\">\n",
              "    <button class=\"colab-df-convert\" onclick=\"convertToInteractive('df-cc656269-a273-4d51-a8c4-e72d3179c791')\"\n",
              "            title=\"Convert this dataframe to an interactive table.\"\n",
              "            style=\"display:none;\">\n",
              "\n",
              "  <svg xmlns=\"http://www.w3.org/2000/svg\" height=\"24px\" viewBox=\"0 -960 960 960\">\n",
              "    <path d=\"M120-120v-720h720v720H120Zm60-500h600v-160H180v160Zm220 220h160v-160H400v160Zm0 220h160v-160H400v160ZM180-400h160v-160H180v160Zm440 0h160v-160H620v160ZM180-180h160v-160H180v160Zm440 0h160v-160H620v160Z\"/>\n",
              "  </svg>\n",
              "    </button>\n",
              "\n",
              "  <style>\n",
              "    .colab-df-container {\n",
              "      display:flex;\n",
              "      gap: 12px;\n",
              "    }\n",
              "\n",
              "    .colab-df-convert {\n",
              "      background-color: #E8F0FE;\n",
              "      border: none;\n",
              "      border-radius: 50%;\n",
              "      cursor: pointer;\n",
              "      display: none;\n",
              "      fill: #1967D2;\n",
              "      height: 32px;\n",
              "      padding: 0 0 0 0;\n",
              "      width: 32px;\n",
              "    }\n",
              "\n",
              "    .colab-df-convert:hover {\n",
              "      background-color: #E2EBFA;\n",
              "      box-shadow: 0px 1px 2px rgba(60, 64, 67, 0.3), 0px 1px 3px 1px rgba(60, 64, 67, 0.15);\n",
              "      fill: #174EA6;\n",
              "    }\n",
              "\n",
              "    .colab-df-buttons div {\n",
              "      margin-bottom: 4px;\n",
              "    }\n",
              "\n",
              "    [theme=dark] .colab-df-convert {\n",
              "      background-color: #3B4455;\n",
              "      fill: #D2E3FC;\n",
              "    }\n",
              "\n",
              "    [theme=dark] .colab-df-convert:hover {\n",
              "      background-color: #434B5C;\n",
              "      box-shadow: 0px 1px 3px 1px rgba(0, 0, 0, 0.15);\n",
              "      filter: drop-shadow(0px 1px 2px rgba(0, 0, 0, 0.3));\n",
              "      fill: #FFFFFF;\n",
              "    }\n",
              "  </style>\n",
              "\n",
              "    <script>\n",
              "      const buttonEl =\n",
              "        document.querySelector('#df-cc656269-a273-4d51-a8c4-e72d3179c791 button.colab-df-convert');\n",
              "      buttonEl.style.display =\n",
              "        google.colab.kernel.accessAllowed ? 'block' : 'none';\n",
              "\n",
              "      async function convertToInteractive(key) {\n",
              "        const element = document.querySelector('#df-cc656269-a273-4d51-a8c4-e72d3179c791');\n",
              "        const dataTable =\n",
              "          await google.colab.kernel.invokeFunction('convertToInteractive',\n",
              "                                                    [key], {});\n",
              "        if (!dataTable) return;\n",
              "\n",
              "        const docLinkHtml = 'Like what you see? Visit the ' +\n",
              "          '<a target=\"_blank\" href=https://colab.research.google.com/notebooks/data_table.ipynb>data table notebook</a>'\n",
              "          + ' to learn more about interactive tables.';\n",
              "        element.innerHTML = '';\n",
              "        dataTable['output_type'] = 'display_data';\n",
              "        await google.colab.output.renderOutput(dataTable, element);\n",
              "        const docLink = document.createElement('div');\n",
              "        docLink.innerHTML = docLinkHtml;\n",
              "        element.appendChild(docLink);\n",
              "      }\n",
              "    </script>\n",
              "  </div>\n",
              "\n",
              "\n",
              "<div id=\"df-537f8295-0539-4c85-84a7-202af579f0c1\">\n",
              "  <button class=\"colab-df-quickchart\" onclick=\"quickchart('df-537f8295-0539-4c85-84a7-202af579f0c1')\"\n",
              "            title=\"Suggest charts.\"\n",
              "            style=\"display:none;\">\n",
              "\n",
              "<svg xmlns=\"http://www.w3.org/2000/svg\" height=\"24px\"viewBox=\"0 0 24 24\"\n",
              "     width=\"24px\">\n",
              "    <g>\n",
              "        <path d=\"M19 3H5c-1.1 0-2 .9-2 2v14c0 1.1.9 2 2 2h14c1.1 0 2-.9 2-2V5c0-1.1-.9-2-2-2zM9 17H7v-7h2v7zm4 0h-2V7h2v10zm4 0h-2v-4h2v4z\"/>\n",
              "    </g>\n",
              "</svg>\n",
              "  </button>\n",
              "\n",
              "<style>\n",
              "  .colab-df-quickchart {\n",
              "    background-color: #E8F0FE;\n",
              "    border: none;\n",
              "    border-radius: 50%;\n",
              "    cursor: pointer;\n",
              "    display: none;\n",
              "    fill: #1967D2;\n",
              "    height: 32px;\n",
              "    padding: 0 0 0 0;\n",
              "    width: 32px;\n",
              "  }\n",
              "\n",
              "  .colab-df-quickchart:hover {\n",
              "    background-color: #E2EBFA;\n",
              "    box-shadow: 0px 1px 2px rgba(60, 64, 67, 0.3), 0px 1px 3px 1px rgba(60, 64, 67, 0.15);\n",
              "    fill: #174EA6;\n",
              "  }\n",
              "\n",
              "  [theme=dark] .colab-df-quickchart {\n",
              "    background-color: #3B4455;\n",
              "    fill: #D2E3FC;\n",
              "  }\n",
              "\n",
              "  [theme=dark] .colab-df-quickchart:hover {\n",
              "    background-color: #434B5C;\n",
              "    box-shadow: 0px 1px 3px 1px rgba(0, 0, 0, 0.15);\n",
              "    filter: drop-shadow(0px 1px 2px rgba(0, 0, 0, 0.3));\n",
              "    fill: #FFFFFF;\n",
              "  }\n",
              "</style>\n",
              "\n",
              "  <script>\n",
              "    async function quickchart(key) {\n",
              "      const charts = await google.colab.kernel.invokeFunction(\n",
              "          'suggestCharts', [key], {});\n",
              "    }\n",
              "    (() => {\n",
              "      let quickchartButtonEl =\n",
              "        document.querySelector('#df-537f8295-0539-4c85-84a7-202af579f0c1 button');\n",
              "      quickchartButtonEl.style.display =\n",
              "        google.colab.kernel.accessAllowed ? 'block' : 'none';\n",
              "    })();\n",
              "  </script>\n",
              "</div>\n",
              "    </div>\n",
              "  </div>\n"
            ]
          },
          "metadata": {}
        },
        {
          "output_type": "display_data",
          "data": {
            "text/plain": [
              "{'admiration': 4.671438209196253,\n",
              " 'annoyance': 9.972635694743724,\n",
              " 'approval': 7.151382055749887,\n",
              " 'confusion': 5.408020852745345,\n",
              " 'curiosity': 3.017796953777341,\n",
              " 'disappointment': 12.857133319934228,\n",
              " 'disapproval': 5.746183027172615,\n",
              " 'excitement': 5.09527956321914,\n",
              " 'joy': 7.208366814398167,\n",
              " 'neutral': 13.17224980272328,\n",
              " 'optimism': 2.4795187572192154,\n",
              " 'realization': 4.043085273545598}"
            ]
          },
          "metadata": {}
        },
        {
          "output_type": "display_data",
          "data": {
            "text/plain": [
              "<Figure size 1000x700 with 2 Axes>"
            ],
            "image/png": "[encoded data removed]"
          },
          "metadata": {}
        },
        {
          "output_type": "stream",
          "name": "stderr",
          "text": [
            "100%|██████████| 999/999 [00:00<00:00, 1028.60it/s]\n",
            "/usr/local/lib/python3.10/dist-packages/SMjour/collinearity.py:66: RuntimeWarning:\n",
            "\n",
            "divide by zero encountered in divide\n",
            "\n"
          ]
        },
        {
          "output_type": "display_data",
          "data": {
            "text/html": [
              "<html>\n",
              "<head><meta charset=\"utf-8\" /></head>\n",
              "<body>\n",
              "    <div>            <script src=\"https://cdnjs.cloudflare.com/ajax/libs/mathjax/2.7.5/MathJax.js?config=TeX-AMS-MML_SVG\"></script><script type=\"text/javascript\">if (window.MathJax && window.MathJax.Hub && window.MathJax.Hub.Config) {window.MathJax.Hub.Config({SVG: {font: \"STIX-Web\"}});}</script>                <script type=\"text/javascript\">window.PlotlyConfig = {MathJaxConfig: 'local'};</script>\n",
              "        <script charset=\"utf-8\" src=\"https://cdn.plot.ly/plotly-2.24.1.min.js\"></script>                <div id=\"c8963f74-da83-41c0-92e2-df11778c847b\" class=\"plotly-graph-div\" style=\"height:525px; width:100%;\"></div>            <script type=\"text/javascript\">                                    window.PLOTLYENV=window.PLOTLYENV || {};                                    if (document.getElementById(\"c8963f74-da83-41c0-92e2-df11778c847b\")) {                    Plotly.newPlot(                        \"c8963f74-da83-41c0-92e2-df11778c847b\",                        [{\"hovertemplate\":\"variable=admiration\\u003cbr\\u003eWeeks=%{x}\\u003cbr\\u003evalue=%{y}\\u003cextra\\u003e\\u003c\\u002fextra\\u003e\",\"legendgroup\":\"admiration\",\"line\":{\"color\":\"#636efa\",\"dash\":\"solid\"},\"marker\":{\"symbol\":\"circle\"},\"mode\":\"lines\",\"name\":\"admiration\",\"orientation\":\"v\",\"showlegend\":true,\"x\":[0,1,2,3,4,5,6,7,8,9,10,11,12,13,14,15,16,17,18,19,20,21,22,23,24,25,26,27,28],\"xaxis\":\"x\",\"y\":[-0.30075318471340345,-0.30075318471340345,-0.30075318471340345,-0.30075318471340345,-0.30075318471340345,-0.30075318471340345,-0.30075318471340345,-0.30075318471340345,-0.30075318471340345,-0.30075318471340345,-0.30075318471340345,-0.30075318471340345,-0.30075318471340345,-0.30075318471340345,-0.30075318471340345,-0.30075318471340345,-0.30075318471340345,-0.30075318471340345,-0.30075318471340345,-0.30075318471340345,-0.30075318471340345,-0.30075318471340345,-0.30075318471340345,-0.30075318471340345,-0.30075318471340345,-0.30075318471340345,0.7331073781558167,3.5138934552094048,3.5725819691832683],\"yaxis\":\"y\",\"type\":\"scatter\"},{\"hovertemplate\":\"variable=annoyance\\u003cbr\\u003eWeeks=%{x}\\u003cbr\\u003evalue=%{y}\\u003cextra\\u003e\\u003c\\u002fextra\\u003e\",\"legendgroup\":\"annoyance\",\"line\":{\"color\":\"#EF553B\",\"dash\":\"solid\"},\"marker\":{\"symbol\":\"circle\"},\"mode\":\"lines\",\"name\":\"annoyance\",\"orientation\":\"v\",\"showlegend\":true,\"x\":[0,1,2,3,4,5,6,7,8,9,10,11,12,13,14,15,16,17,18,19,20,21,22,23,24,25,26,27,28],\"xaxis\":\"x\",\"y\":[1.5755415963815147,1.7614531470770942,2.6743229702886855,2.0477895620396303,2.385021306738026,-0.18272654732543087,-0.2738766422656757,-0.4939638393894775,-0.4939638393894775,-0.4939638393894775,-0.4939638393894775,-0.4939638393894775,-0.4939638393894775,-0.4939638393894775,-0.4939638393894775,-0.4939638393894775,-0.4939638393894775,-0.4939638393894775,-0.4939638393894775,-0.4939638393894775,-0.4939638393894775,-0.4939638393894775,-0.4939638393894775,0.38571523424518145,-0.4939638393894775,-0.4939638393894775,-0.4939638393894775,-0.4939638393894775,-0.4939638393894775],\"yaxis\":\"y\",\"type\":\"scatter\"},{\"hovertemplate\":\"variable=approval\\u003cbr\\u003eWeeks=%{x}\\u003cbr\\u003evalue=%{y}\\u003cextra\\u003e\\u003c\\u002fextra\\u003e\",\"legendgroup\":\"approval\",\"line\":{\"color\":\"#00cc96\",\"dash\":\"solid\"},\"marker\":{\"symbol\":\"circle\"},\"mode\":\"lines\",\"name\":\"approval\",\"orientation\":\"v\",\"showlegend\":true,\"x\":[0,1,2,3,4,5,6,7,8,9,10,11,12,13,14,15,16,17,18,19,20,21,22,23,24,25,26,27,28],\"xaxis\":\"x\",\"y\":[-1.5051430034738948,-1.5051430034738948,-1.5051430034738948,-1.5051430034738948,-1.5051430034738948,-0.31738124895352915,0.000127556697583415,0.7921388791357897,0.292111166226465,0.24086247128065322,-0.6801183762050033,-0.5476057175836714,-0.03402682779374672,-0.5043968747120533,0.15240228113955953,-0.11221944915641653,0.7924304928577477,0.400502053327604,0.5168941926203112,0.808404534023087,0.8877583741155978,-0.7202270107645901,-0.5580897142257215,-0.0663555385322294,1.7120107352110536,2.0754248037084357,0.7214821632057993,-0.22533509615139688,1.898921167898144],\"yaxis\":\"y\",\"type\":\"scatter\"},{\"hovertemplate\":\"variable=confusion\\u003cbr\\u003eWeeks=%{x}\\u003cbr\\u003evalue=%{y}\\u003cextra\\u003e\\u003c\\u002fextra\\u003e\",\"legendgroup\":\"confusion\",\"line\":{\"color\":\"#ab63fa\",\"dash\":\"solid\"},\"marker\":{\"symbol\":\"circle\"},\"mode\":\"lines\",\"name\":\"confusion\",\"orientation\":\"v\",\"showlegend\":true,\"x\":[0,1,2,3,4,5,6,7,8,9,10,11,12,13,14,15,16,17,18,19,20,21,22,23,24,25,26,27,28],\"xaxis\":\"x\",\"y\":[1.9996778955338534,1.893624709578851,0.028649949160773236,1.0865016677809956,0.5665101143848986,-0.8625299397209063,-0.8625299397209063,-0.38617117012831376,0.2549632630448627,-0.8625299397209063,-0.8625299397209063,-0.8625299397209063,1.6690885508204767,1.4080528320037013,0.29168565669685276,-0.8625299397209063,-0.8625299397209063,-0.8625299397209063,-0.8625299397209063,1.1340053790357847,1.3730841865873435,0.14988952540155082,-0.8625299397209063,-0.8625299397209063,0.4654277196385201,0.14042887655253944,-0.8625299397209063,-0.8625299397209063,-0.8625299397209063],\"yaxis\":\"y\",\"type\":\"scatter\"},{\"hovertemplate\":\"variable=curiosity\\u003cbr\\u003eWeeks=%{x}\\u003cbr\\u003evalue=%{y}\\u003cextra\\u003e\\u003c\\u002fextra\\u003e\",\"legendgroup\":\"curiosity\",\"line\":{\"color\":\"#FFA15A\",\"dash\":\"solid\"},\"marker\":{\"symbol\":\"circle\"},\"mode\":\"lines\",\"name\":\"curiosity\",\"orientation\":\"v\",\"showlegend\":true,\"x\":[0,1,2,3,4,5,6,7,8,9,10,11,12,13,14,15,16,17,18,19,20,21,22,23,24,25,26,27,28],\"xaxis\":\"x\",\"y\":[-0.5756935275105122,-0.5756935275105122,-0.5756935275105122,-0.5756935275105122,-0.5756935275105122,-0.5756935275105122,-0.5756935275105122,-0.5756935275105122,-0.5756935275105122,-0.5756935275105122,-0.5756935275105122,1.7296951216737102,2.067276886011519,1.363159220609909,-0.5756935275105122,-0.5756935275105122,-0.5756935275105122,-0.5756935275105122,1.0552650766153324,2.0680415436752946,2.134655318543256,-0.5756935275105122,-0.5756935275105122,-0.5756935275105122,0.30076201101737915,-0.5756935275105122,1.3707088995743564,-0.5756935275105122,-0.5756935275105122],\"yaxis\":\"y\",\"type\":\"scatter\"},{\"hovertemplate\":\"variable=disappointment\\u003cbr\\u003eWeeks=%{x}\\u003cbr\\u003evalue=%{y}\\u003cextra\\u003e\\u003c\\u002fextra\\u003e\",\"legendgroup\":\"disappointment\",\"line\":{\"color\":\"#19d3f3\",\"dash\":\"solid\"},\"marker\":{\"symbol\":\"circle\"},\"mode\":\"lines\",\"name\":\"disappointment\",\"orientation\":\"v\",\"showlegend\":true,\"x\":[0,1,2,3,4,5,6,7,8,9,10,11,12,13,14,15,16,17,18,19,20,21,22,23,24,25,26,27,28],\"xaxis\":\"x\",\"y\":[2.767626188626592,2.744873566571634,2.60352829948295,0.65672791933358,1.0725454370521605,0.08246041397689385,-0.06356902398410175,-0.4535189454262465,-0.4535189454262465,-0.4535189454262465,-0.4535189454262465,-0.4535189454262465,-0.4535189454262465,-0.4535189454262465,-0.4535189454262465,-0.3402949471085319,-0.4535189454262465,-0.4535189454262465,-0.4535189454262465,-0.4535189454262465,-0.4535189454262465,-0.4535189454262465,-0.4535189454262465,-0.4535189454262465,-0.4535189454262465,-0.4535189454262465,-0.4535189454262465,-0.4535189454262465,-0.4535189454262465],\"yaxis\":\"y\",\"type\":\"scatter\"},{\"hovertemplate\":\"variable=disapproval\\u003cbr\\u003eWeeks=%{x}\\u003cbr\\u003evalue=%{y}\\u003cextra\\u003e\\u003c\\u002fextra\\u003e\",\"legendgroup\":\"disapproval\",\"line\":{\"color\":\"#FF6692\",\"dash\":\"solid\"},\"marker\":{\"symbol\":\"circle\"},\"mode\":\"lines\",\"name\":\"disapproval\",\"orientation\":\"v\",\"showlegend\":true,\"x\":[0,1,2,3,4,5,6,7,8,9,10,11,12,13,14,15,16,17,18,19,20,21,22,23,24,25,26,27,28],\"xaxis\":\"x\",\"y\":[3.0534499446138987,2.1018803759272675,1.4049864509366472,-0.5216719126232967,1.2992645363895707,-0.5216719126232967,-0.5216719126232967,-0.5216719126232967,-0.5216719126232967,-0.5216719126232967,-0.5216719126232967,-0.5216719126232967,-0.5216719126232967,-0.5216719126232967,-0.5216719126232967,-0.5216719126232967,-0.5216719126232967,-0.5216719126232967,-0.5216719126232967,-0.5216719126232967,-0.5216719126232967,1.5912656437438544,1.1248140748601827,0.9011210512411073,-0.5216719126232967,-0.5216719126232967,-0.5216719126232967,-0.5216719126232967,-0.5216719126232967],\"yaxis\":\"y\",\"type\":\"scatter\"},{\"hovertemplate\":\"variable=excitement\\u003cbr\\u003eWeeks=%{x}\\u003cbr\\u003evalue=%{y}\\u003cextra\\u003e\\u003c\\u002fextra\\u003e\",\"legendgroup\":\"excitement\",\"line\":{\"color\":\"#B6E880\",\"dash\":\"solid\"},\"marker\":{\"symbol\":\"circle\"},\"mode\":\"lines\",\"name\":\"excitement\",\"orientation\":\"v\",\"showlegend\":true,\"x\":[0,1,2,3,4,5,6,7,8,9,10,11,12,13,14,15,16,17,18,19,20,21,22,23,24,25,26,27,28],\"xaxis\":\"x\",\"y\":[-0.43189353252604107,-0.43189353252604107,-0.43189353252604107,-0.43189353252604107,-0.43189353252604107,-0.43189353252604107,-0.43189353252604107,-0.43189353252604107,-0.43189353252604107,1.4600513052311344,1.6983354258037167,3.821432815852158,-0.43189353252604107,-0.43189353252604107,-0.43189353252604107,-0.43189353252604107,-0.43189353252604107,-0.43189353252604107,0.21209101162647165,-0.43189353252604107,-0.43189353252604107,-0.43189353252604107,-0.43189353252604107,-0.43189353252604107,-0.43189353252604107,-0.43189353252604107,0.9919785375675828,1.7496621520178823,-0.43189353252604107],\"yaxis\":\"y\",\"type\":\"scatter\"},{\"hovertemplate\":\"variable=joy\\u003cbr\\u003eWeeks=%{x}\\u003cbr\\u003evalue=%{y}\\u003cextra\\u003e\\u003c\\u002fextra\\u003e\",\"legendgroup\":\"joy\",\"line\":{\"color\":\"#FF97FF\",\"dash\":\"solid\"},\"marker\":{\"symbol\":\"circle\"},\"mode\":\"lines\",\"name\":\"joy\",\"orientation\":\"v\",\"showlegend\":true,\"x\":[0,1,2,3,4,5,6,7,8,9,10,11,12,13,14,15,16,17,18,19,20,21,22,23,24,25,26,27,28],\"xaxis\":\"x\",\"y\":[-0.5367270083524237,-0.5367270083524237,-0.5367270083524237,-0.5367270083524237,-0.5367270083524237,-0.5367270083524237,-0.5367270083524237,-0.5367270083524237,-0.5367270083524237,0.9741991788589897,1.9189134679127573,0.7450455494419512,-0.5367270083524237,-0.5367270083524237,-0.5367270083524237,-0.5367270083524237,1.1526952405434732,3.6234153237765003,1.2427604596141895,-0.5367270083524237,-0.5367270083524237,-0.5367270083524237,-0.5367270083524237,-0.5367270083524237,-0.5367270083524237,0.0497738268758521,1.0233775628870725,0.004359557137687759,-0.5367270083524237],\"yaxis\":\"y\",\"type\":\"scatter\"},{\"hovertemplate\":\"variable=neutral\\u003cbr\\u003eWeeks=%{x}\\u003cbr\\u003evalue=%{y}\\u003cextra\\u003e\\u003c\\u002fextra\\u003e\",\"legendgroup\":\"neutral\",\"line\":{\"color\":\"#FECB52\",\"dash\":\"solid\"},\"marker\":{\"symbol\":\"circle\"},\"mode\":\"lines\",\"name\":\"neutral\",\"orientation\":\"v\",\"showlegend\":true,\"x\":[0,1,2,3,4,5,6,7,8,9,10,11,12,13,14,15,16,17,18,19,20,21,22,23,24,25,26,27,28],\"xaxis\":\"x\",\"y\":[-0.8719082784005258,-0.898690523416637,-0.7801603988975119,-0.49056752001391046,0.2460119148620761,0.3504790994306488,0.570680397817063,0.27716535520977725,0.5719919807422374,-0.8134261508462969,-0.9138450930449689,-1.0331288568541956,0.4244337307626851,0.012917896239598603,1.2905117521655705,2.152809999630682,-0.024757414537167215,-0.8539681159083842,-0.874591860103962,0.1841898818435588,0.5832946500178765,1.790908317629389,2.1628795619539427,1.0669551496864849,0.04616783132564959,-0.6455603798619332,-1.339322426677804,-1.339322426677804,-0.8521480740761377],\"yaxis\":\"y\",\"type\":\"scatter\"},{\"hovertemplate\":\"variable=optimism\\u003cbr\\u003eWeeks=%{x}\\u003cbr\\u003evalue=%{y}\\u003cextra\\u003e\\u003c\\u002fextra\\u003e\",\"legendgroup\":\"optimism\",\"line\":{\"color\":\"#636efa\",\"dash\":\"solid\"},\"marker\":{\"symbol\":\"circle\"},\"mode\":\"lines\",\"name\":\"optimism\",\"orientation\":\"v\",\"showlegend\":true,\"x\":[0,1,2,3,4,5,6,7,8,9,10,11,12,13,14,15,16,17,18,19,20,21,22,23,24,25,26,27,28],\"xaxis\":\"x\",\"y\":[-0.5247709203410713,-0.5247709203410713,-0.5247709203410713,-0.5247709203410713,-0.5247709203410713,-0.5247709203410713,-0.5247709203410713,-0.5247709203410713,-0.5247709203410713,-0.5247709203410713,-0.5247709203410713,-0.5247709203410713,-0.5247709203410713,-0.5247709203410713,0.7646912387069505,0.8079039664328735,0.7941080341625941,-0.5247709203410713,-0.5247709203410713,2.7047974371150416,2.2669620676010056,0.5530060242725268,0.4038543547207753,-0.5247709203410713,-0.5247709203410713,-0.5247709203410713,-0.5247709203410713,-0.5247709203410713,2.7248662041507283],\"yaxis\":\"y\",\"type\":\"scatter\"},{\"hovertemplate\":\"variable=realization\\u003cbr\\u003eWeeks=%{x}\\u003cbr\\u003evalue=%{y}\\u003cextra\\u003e\\u003c\\u002fextra\\u003e\",\"legendgroup\":\"realization\",\"line\":{\"color\":\"#EF553B\",\"dash\":\"solid\"},\"marker\":{\"symbol\":\"circle\"},\"mode\":\"lines\",\"name\":\"realization\",\"orientation\":\"v\",\"showlegend\":true,\"x\":[0,1,2,3,4,5,6,7,8,9,10,11,12,13,14,15,16,17,18,19,20,21,22,23,24,25,26,27,28],\"xaxis\":\"x\",\"y\":[-0.6423549057353798,-0.6423549057353798,-0.6423549057353798,0.12330185049060066,-0.6423549057353798,2.8112884498631794,2.497266603383358,2.223420270274191,1.5736227383538157,0.20521961925641674,-0.24617874794446895,-0.6423549057353798,-0.18986459567694822,-0.6423549057353798,-0.09274087412756171,0.6578241629852631,-0.09621062187861942,-0.4071489972501558,-0.6423549057353798,-0.6423549057353798,-0.6423549057353798,-0.6423549057353798,-0.44335474773419525,0.1505405054358963,-0.20003363968849563,-0.21633820118233701,-0.6423549057353798,-0.6423549057353798,-0.6423549057353798],\"yaxis\":\"y\",\"type\":\"scatter\"}],                        {\"template\":{\"data\":{\"histogram2dcontour\":[{\"type\":\"histogram2dcontour\",\"colorbar\":{\"outlinewidth\":0,\"ticks\":\"\"},\"colorscale\":[[0.0,\"#0d0887\"],[0.1111111111111111,\"#46039f\"],[0.2222222222222222,\"#7201a8\"],[0.3333333333333333,\"#9c179e\"],[0.4444444444444444,\"#bd3786\"],[0.5555555555555556,\"#d8576b\"],[0.6666666666666666,\"#ed7953\"],[0.7777777777777778,\"#fb9f3a\"],[0.8888888888888888,\"#fdca26\"],[1.0,\"#f0f921\"]]}],\"choropleth\":[{\"type\":\"choropleth\",\"colorbar\":{\"outlinewidth\":0,\"ticks\":\"\"}}],\"histogram2d\":[{\"type\":\"histogram2d\",\"colorbar\":{\"outlinewidth\":0,\"ticks\":\"\"},\"colorscale\":[[0.0,\"#0d0887\"],[0.1111111111111111,\"#46039f\"],[0.2222222222222222,\"#7201a8\"],[0.3333333333333333,\"#9c179e\"],[0.4444444444444444,\"#bd3786\"],[0.5555555555555556,\"#d8576b\"],[0.6666666666666666,\"#ed7953\"],[0.7777777777777778,\"#fb9f3a\"],[0.8888888888888888,\"#fdca26\"],[1.0,\"#f0f921\"]]}],\"heatmap\":[{\"type\":\"heatmap\",\"colorbar\":{\"outlinewidth\":0,\"ticks\":\"\"},\"colorscale\":[[0.0,\"#0d0887\"],[0.1111111111111111,\"#46039f\"],[0.2222222222222222,\"#7201a8\"],[0.3333333333333333,\"#9c179e\"],[0.4444444444444444,\"#bd3786\"],[0.5555555555555556,\"#d8576b\"],[0.6666666666666666,\"#ed7953\"],[0.7777777777777778,\"#fb9f3a\"],[0.8888888888888888,\"#fdca26\"],[1.0,\"#f0f921\"]]}],\"heatmapgl\":[{\"type\":\"heatmapgl\",\"colorbar\":{\"outlinewidth\":0,\"ticks\":\"\"},\"colorscale\":[[0.0,\"#0d0887\"],[0.1111111111111111,\"#46039f\"],[0.2222222222222222,\"#7201a8\"],[0.3333333333333333,\"#9c179e\"],[0.4444444444444444,\"#bd3786\"],[0.5555555555555556,\"#d8576b\"],[0.6666666666666666,\"#ed7953\"],[0.7777777777777778,\"#fb9f3a\"],[0.8888888888888888,\"#fdca26\"],[1.0,\"#f0f921\"]]}],\"contourcarpet\":[{\"type\":\"contourcarpet\",\"colorbar\":{\"outlinewidth\":0,\"ticks\":\"\"}}],\"contour\":[{\"type\":\"contour\",\"colorbar\":{\"outlinewidth\":0,\"ticks\":\"\"},\"colorscale\":[[0.0,\"#0d0887\"],[0.1111111111111111,\"#46039f\"],[0.2222222222222222,\"#7201a8\"],[0.3333333333333333,\"#9c179e\"],[0.4444444444444444,\"#bd3786\"],[0.5555555555555556,\"#d8576b\"],[0.6666666666666666,\"#ed7953\"],[0.7777777777777778,\"#fb9f3a\"],[0.8888888888888888,\"#fdca26\"],[1.0,\"#f0f921\"]]}],\"surface\":[{\"type\":\"surface\",\"colorbar\":{\"outlinewidth\":0,\"ticks\":\"\"},\"colorscale\":[[0.0,\"#0d0887\"],[0.1111111111111111,\"#46039f\"],[0.2222222222222222,\"#7201a8\"],[0.3333333333333333,\"#9c179e\"],[0.4444444444444444,\"#bd3786\"],[0.5555555555555556,\"#d8576b\"],[0.6666666666666666,\"#ed7953\"],[0.7777777777777778,\"#fb9f3a\"],[0.8888888888888888,\"#fdca26\"],[1.0,\"#f0f921\"]]}],\"mesh3d\":[{\"type\":\"mesh3d\",\"colorbar\":{\"outlinewidth\":0,\"ticks\":\"\"}}],\"scatter\":[{\"fillpattern\":{\"fillmode\":\"overlay\",\"size\":10,\"solidity\":0.2},\"type\":\"scatter\"}],\"parcoords\":[{\"type\":\"parcoords\",\"line\":{\"colorbar\":{\"outlinewidth\":0,\"ticks\":\"\"}}}],\"scatterpolargl\":[{\"type\":\"scatterpolargl\",\"marker\":{\"colorbar\":{\"outlinewidth\":0,\"ticks\":\"\"}}}],\"bar\":[{\"error_x\":{\"color\":\"#2a3f5f\"},\"error_y\":{\"color\":\"#2a3f5f\"},\"marker\":{\"line\":{\"color\":\"#E5ECF6\",\"width\":0.5},\"pattern\":{\"fillmode\":\"overlay\",\"size\":10,\"solidity\":0.2}},\"type\":\"bar\"}],\"scattergeo\":[{\"type\":\"scattergeo\",\"marker\":{\"colorbar\":{\"outlinewidth\":0,\"ticks\":\"\"}}}],\"scatterpolar\":[{\"type\":\"scatterpolar\",\"marker\":{\"colorbar\":{\"outlinewidth\":0,\"ticks\":\"\"}}}],\"histogram\":[{\"marker\":{\"pattern\":{\"fillmode\":\"overlay\",\"size\":10,\"solidity\":0.2}},\"type\":\"histogram\"}],\"scattergl\":[{\"type\":\"scattergl\",\"marker\":{\"colorbar\":{\"outlinewidth\":0,\"ticks\":\"\"}}}],\"scatter3d\":[{\"type\":\"scatter3d\",\"line\":{\"colorbar\":{\"outlinewidth\":0,\"ticks\":\"\"}},\"marker\":{\"colorbar\":{\"outlinewidth\":0,\"ticks\":\"\"}}}],\"scattermapbox\":[{\"type\":\"scattermapbox\",\"marker\":{\"colorbar\":{\"outlinewidth\":0,\"ticks\":\"\"}}}],\"scatterternary\":[{\"type\":\"scatterternary\",\"marker\":{\"colorbar\":{\"outlinewidth\":0,\"ticks\":\"\"}}}],\"scattercarpet\":[{\"type\":\"scattercarpet\",\"marker\":{\"colorbar\":{\"outlinewidth\":0,\"ticks\":\"\"}}}],\"carpet\":[{\"aaxis\":{\"endlinecolor\":\"#2a3f5f\",\"gridcolor\":\"white\",\"linecolor\":\"white\",\"minorgridcolor\":\"white\",\"startlinecolor\":\"#2a3f5f\"},\"baxis\":{\"endlinecolor\":\"#2a3f5f\",\"gridcolor\":\"white\",\"linecolor\":\"white\",\"minorgridcolor\":\"white\",\"startlinecolor\":\"#2a3f5f\"},\"type\":\"carpet\"}],\"table\":[{\"cells\":{\"fill\":{\"color\":\"#EBF0F8\"},\"line\":{\"color\":\"white\"}},\"header\":{\"fill\":{\"color\":\"#C8D4E3\"},\"line\":{\"color\":\"white\"}},\"type\":\"table\"}],\"barpolar\":[{\"marker\":{\"line\":{\"color\":\"#E5ECF6\",\"width\":0.5},\"pattern\":{\"fillmode\":\"overlay\",\"size\":10,\"solidity\":0.2}},\"type\":\"barpolar\"}],\"pie\":[{\"automargin\":true,\"type\":\"pie\"}]},\"layout\":{\"autotypenumbers\":\"strict\",\"colorway\":[\"#636efa\",\"#EF553B\",\"#00cc96\",\"#ab63fa\",\"#FFA15A\",\"#19d3f3\",\"#FF6692\",\"#B6E880\",\"#FF97FF\",\"#FECB52\"],\"font\":{\"color\":\"#2a3f5f\"},\"hovermode\":\"closest\",\"hoverlabel\":{\"align\":\"left\"},\"paper_bgcolor\":\"white\",\"plot_bgcolor\":\"#E5ECF6\",\"polar\":{\"bgcolor\":\"#E5ECF6\",\"angularaxis\":{\"gridcolor\":\"white\",\"linecolor\":\"white\",\"ticks\":\"\"},\"radialaxis\":{\"gridcolor\":\"white\",\"linecolor\":\"white\",\"ticks\":\"\"}},\"ternary\":{\"bgcolor\":\"#E5ECF6\",\"aaxis\":{\"gridcolor\":\"white\",\"linecolor\":\"white\",\"ticks\":\"\"},\"baxis\":{\"gridcolor\":\"white\",\"linecolor\":\"white\",\"ticks\":\"\"},\"caxis\":{\"gridcolor\":\"white\",\"linecolor\":\"white\",\"ticks\":\"\"}},\"coloraxis\":{\"colorbar\":{\"outlinewidth\":0,\"ticks\":\"\"}},\"colorscale\":{\"sequential\":[[0.0,\"#0d0887\"],[0.1111111111111111,\"#46039f\"],[0.2222222222222222,\"#7201a8\"],[0.3333333333333333,\"#9c179e\"],[0.4444444444444444,\"#bd3786\"],[0.5555555555555556,\"#d8576b\"],[0.6666666666666666,\"#ed7953\"],[0.7777777777777778,\"#fb9f3a\"],[0.8888888888888888,\"#fdca26\"],[1.0,\"#f0f921\"]],\"sequentialminus\":[[0.0,\"#0d0887\"],[0.1111111111111111,\"#46039f\"],[0.2222222222222222,\"#7201a8\"],[0.3333333333333333,\"#9c179e\"],[0.4444444444444444,\"#bd3786\"],[0.5555555555555556,\"#d8576b\"],[0.6666666666666666,\"#ed7953\"],[0.7777777777777778,\"#fb9f3a\"],[0.8888888888888888,\"#fdca26\"],[1.0,\"#f0f921\"]],\"diverging\":[[0,\"#8e0152\"],[0.1,\"#c51b7d\"],[0.2,\"#de77ae\"],[0.3,\"#f1b6da\"],[0.4,\"#fde0ef\"],[0.5,\"#f7f7f7\"],[0.6,\"#e6f5d0\"],[0.7,\"#b8e186\"],[0.8,\"#7fbc41\"],[0.9,\"#4d9221\"],[1,\"#276419\"]]},\"xaxis\":{\"gridcolor\":\"white\",\"linecolor\":\"white\",\"ticks\":\"\",\"title\":{\"standoff\":15},\"zerolinecolor\":\"white\",\"automargin\":true,\"zerolinewidth\":2},\"yaxis\":{\"gridcolor\":\"white\",\"linecolor\":\"white\",\"ticks\":\"\",\"title\":{\"standoff\":15},\"zerolinecolor\":\"white\",\"automargin\":true,\"zerolinewidth\":2},\"scene\":{\"xaxis\":{\"backgroundcolor\":\"#E5ECF6\",\"gridcolor\":\"white\",\"linecolor\":\"white\",\"showbackground\":true,\"ticks\":\"\",\"zerolinecolor\":\"white\",\"gridwidth\":2},\"yaxis\":{\"backgroundcolor\":\"#E5ECF6\",\"gridcolor\":\"white\",\"linecolor\":\"white\",\"showbackground\":true,\"ticks\":\"\",\"zerolinecolor\":\"white\",\"gridwidth\":2},\"zaxis\":{\"backgroundcolor\":\"#E5ECF6\",\"gridcolor\":\"white\",\"linecolor\":\"white\",\"showbackground\":true,\"ticks\":\"\",\"zerolinecolor\":\"white\",\"gridwidth\":2}},\"shapedefaults\":{\"line\":{\"color\":\"#2a3f5f\"}},\"annotationdefaults\":{\"arrowcolor\":\"#2a3f5f\",\"arrowhead\":0,\"arrowwidth\":1},\"geo\":{\"bgcolor\":\"white\",\"landcolor\":\"#E5ECF6\",\"subunitcolor\":\"white\",\"showland\":true,\"showlakes\":true,\"lakecolor\":\"white\"},\"title\":{\"x\":0.05},\"mapbox\":{\"style\":\"light\"}}},\"xaxis\":{\"anchor\":\"y\",\"domain\":[0.0,1.0],\"title\":{\"text\":\"Weeks\"}},\"yaxis\":{\"anchor\":\"x\",\"domain\":[0.0,1.0],\"title\":{\"text\":\"value\"}},\"legend\":{\"title\":{\"text\":\"variable\"},\"tracegroupgap\":0},\"margin\":{\"t\":60}},                        {\"responsive\": true}                    ).then(function(){\n",
              "                            \n",
              "var gd = document.getElementById('c8963f74-da83-41c0-92e2-df11778c847b');\n",
              "var x = new MutationObserver(function (mutations, observer) {{\n",
              "        var display = window.getComputedStyle(gd).display;\n",
              "        if (!display || display === 'none') {{\n",
              "            console.log([gd, 'removed!']);\n",
              "            Plotly.purge(gd);\n",
              "            observer.disconnect();\n",
              "        }}\n",
              "}});\n",
              "\n",
              "// Listen for the removal of the full notebook cells\n",
              "var notebookContainer = gd.closest('#notebook-container');\n",
              "if (notebookContainer) {{\n",
              "    x.observe(notebookContainer, {childList: true});\n",
              "}}\n",
              "\n",
              "// Listen for the clearing of the current output cell\n",
              "var outputEl = gd.closest('.output');\n",
              "if (outputEl) {{\n",
              "    x.observe(outputEl, {childList: true});\n",
              "}}\n",
              "\n",
              "                        })                };                            </script>        </div>\n",
              "</body>\n",
              "</html>"
            ]
          },
          "metadata": {}
        },
        {
          "output_type": "display_data",
          "data": {
            "text/plain": [
              "<Figure size 1200x800 with 1 Axes>"
            ],
            "image/png": "[encoded data removed]"
          },
          "metadata": {}
        }
      ]
    },
    {
      "cell_type": "markdown",
      "source": [
        "## Findings\n",
        "\n",
        "Now i will present the main findings of the deep analysis output."
      ],
      "metadata": {
        "id": "oVmXEofGG1x_"
      }
    },
    {
      "cell_type": "markdown",
      "source": [
        "<h2> 1) The article starts with negative emotions:"
      ],
      "metadata": {
        "id": "2zp_YLPlHCwj"
      }
    },
    {
      "cell_type": "code",
      "source": [
        "#clustering and frecuency analysis\n",
        "px.line(movement,x='Weeks',y=[ 'annoyance','disappointment','disapproval'])\n"
      ],
      "metadata": {
        "colab": {
          "base_uri": "https://localhost:8080/",
          "height": 542
        },
        "id": "0e4efZ-TZSTg",
        "outputId": "d6038097-9459-4bc9-9d8c-c05d66262d50"
      },
      "execution_count": null,
      "outputs": [
        {
          "output_type": "display_data",
          "data": {
            "text/html": [
              "<html>\n",
              "<head><meta charset=\"utf-8\" /></head>\n",
              "<body>\n",
              "    <div>            <script src=\"https://cdnjs.cloudflare.com/ajax/libs/mathjax/2.7.5/MathJax.js?config=TeX-AMS-MML_SVG\"></script><script type=\"text/javascript\">if (window.MathJax && window.MathJax.Hub && window.MathJax.Hub.Config) {window.MathJax.Hub.Config({SVG: {font: \"STIX-Web\"}});}</script>                <script type=\"text/javascript\">window.PlotlyConfig = {MathJaxConfig: 'local'};</script>\n",
              "        <script charset=\"utf-8\" src=\"https://cdn.plot.ly/plotly-2.24.1.min.js\"></script>                <div id=\"a4db401a-b5d0-4614-b1da-d721cfabeb61\" class=\"plotly-graph-div\" style=\"height:525px; width:100%;\"></div>            <script type=\"text/javascript\">                                    window.PLOTLYENV=window.PLOTLYENV || {};                                    if (document.getElementById(\"a4db401a-b5d0-4614-b1da-d721cfabeb61\")) {                    Plotly.newPlot(                        \"a4db401a-b5d0-4614-b1da-d721cfabeb61\",                        [{\"hovertemplate\":\"variable=annoyance\\u003cbr\\u003eWeeks=%{x}\\u003cbr\\u003evalue=%{y}\\u003cextra\\u003e\\u003c\\u002fextra\\u003e\",\"legendgroup\":\"annoyance\",\"line\":{\"color\":\"#636efa\",\"dash\":\"solid\"},\"marker\":{\"symbol\":\"circle\"},\"mode\":\"lines\",\"name\":\"annoyance\",\"orientation\":\"v\",\"showlegend\":true,\"x\":[0,1,2,3,4,5,6,7,8,9,10,11,12,13,14,15,16,17,18,19,20,21,22,23,24,25,26,27,28],\"xaxis\":\"x\",\"y\":[0.19532930850982666,0.21287648379802704,0.29903727769851685,0.23990221321582794,0.2717316746711731,0.029375987127423286,0.02077282778918743,0.0,0.0,0.0,0.0,0.0,0.0,0.0,0.0,0.0,0.0,0.0,0.0,0.0,0.0,0.0,0.0,0.08302810043096542,0.0,0.0,0.0,0.0,0.0],\"yaxis\":\"y\",\"type\":\"scatter\"},{\"hovertemplate\":\"variable=disappointment\\u003cbr\\u003eWeeks=%{x}\\u003cbr\\u003evalue=%{y}\\u003cextra\\u003e\\u003c\\u002fextra\\u003e\",\"legendgroup\":\"disappointment\",\"line\":{\"color\":\"#EF553B\",\"dash\":\"solid\"},\"marker\":{\"symbol\":\"circle\"},\"mode\":\"lines\",\"name\":\"disappointment\",\"orientation\":\"v\",\"showlegend\":true,\"x\":[0,1,2,3,4,5,6,7,8,9,10,11,12,13,14,15,16,17,18,19,20,21,22,23,24,25,26,27,28],\"xaxis\":\"x\",\"y\":[0.6087192296981812,0.6044195294380188,0.5777086615562439,0.2098100483417511,0.2883895933628082,0.10128725320100784,0.07369118928909302,0.0,0.0,0.0,0.0,0.0,0.0,0.0,0.0,0.02139662206172943,0.0,0.0,0.0,0.0,0.0,0.0,0.0,0.0,0.0,0.0,0.0,0.0,0.0],\"yaxis\":\"y\",\"type\":\"scatter\"},{\"hovertemplate\":\"variable=disapproval\\u003cbr\\u003eWeeks=%{x}\\u003cbr\\u003evalue=%{y}\\u003cextra\\u003e\\u003c\\u002fextra\\u003e\",\"legendgroup\":\"disapproval\",\"line\":{\"color\":\"#00cc96\",\"dash\":\"solid\"},\"marker\":{\"symbol\":\"circle\"},\"mode\":\"lines\",\"name\":\"disapproval\",\"orientation\":\"v\",\"showlegend\":true,\"x\":[0,1,2,3,4,5,6,7,8,9,10,11,12,13,14,15,16,17,18,19,20,21,22,23,24,25,26,27,28],\"xaxis\":\"x\",\"y\":[0.19442397356033325,0.1426752656698227,0.10477644950151443,0.0,0.09902703016996384,0.0,0.0,0.0,0.0,0.0,0.0,0.0,0.0,0.0,0.0,0.0,0.0,0.0,0.0,0.0,0.0,0.11490677297115326,0.08953998237848282,0.07737500220537186,0.0,0.0,0.0,0.0,0.0],\"yaxis\":\"y\",\"type\":\"scatter\"}],                        {\"template\":{\"data\":{\"histogram2dcontour\":[{\"type\":\"histogram2dcontour\",\"colorbar\":{\"outlinewidth\":0,\"ticks\":\"\"},\"colorscale\":[[0.0,\"#0d0887\"],[0.1111111111111111,\"#46039f\"],[0.2222222222222222,\"#7201a8\"],[0.3333333333333333,\"#9c179e\"],[0.4444444444444444,\"#bd3786\"],[0.5555555555555556,\"#d8576b\"],[0.6666666666666666,\"#ed7953\"],[0.7777777777777778,\"#fb9f3a\"],[0.8888888888888888,\"#fdca26\"],[1.0,\"#f0f921\"]]}],\"choropleth\":[{\"type\":\"choropleth\",\"colorbar\":{\"outlinewidth\":0,\"ticks\":\"\"}}],\"histogram2d\":[{\"type\":\"histogram2d\",\"colorbar\":{\"outlinewidth\":0,\"ticks\":\"\"},\"colorscale\":[[0.0,\"#0d0887\"],[0.1111111111111111,\"#46039f\"],[0.2222222222222222,\"#7201a8\"],[0.3333333333333333,\"#9c179e\"],[0.4444444444444444,\"#bd3786\"],[0.5555555555555556,\"#d8576b\"],[0.6666666666666666,\"#ed7953\"],[0.7777777777777778,\"#fb9f3a\"],[0.8888888888888888,\"#fdca26\"],[1.0,\"#f0f921\"]]}],\"heatmap\":[{\"type\":\"heatmap\",\"colorbar\":{\"outlinewidth\":0,\"ticks\":\"\"},\"colorscale\":[[0.0,\"#0d0887\"],[0.1111111111111111,\"#46039f\"],[0.2222222222222222,\"#7201a8\"],[0.3333333333333333,\"#9c179e\"],[0.4444444444444444,\"#bd3786\"],[0.5555555555555556,\"#d8576b\"],[0.6666666666666666,\"#ed7953\"],[0.7777777777777778,\"#fb9f3a\"],[0.8888888888888888,\"#fdca26\"],[1.0,\"#f0f921\"]]}],\"heatmapgl\":[{\"type\":\"heatmapgl\",\"colorbar\":{\"outlinewidth\":0,\"ticks\":\"\"},\"colorscale\":[[0.0,\"#0d0887\"],[0.1111111111111111,\"#46039f\"],[0.2222222222222222,\"#7201a8\"],[0.3333333333333333,\"#9c179e\"],[0.4444444444444444,\"#bd3786\"],[0.5555555555555556,\"#d8576b\"],[0.6666666666666666,\"#ed7953\"],[0.7777777777777778,\"#fb9f3a\"],[0.8888888888888888,\"#fdca26\"],[1.0,\"#f0f921\"]]}],\"contourcarpet\":[{\"type\":\"contourcarpet\",\"colorbar\":{\"outlinewidth\":0,\"ticks\":\"\"}}],\"contour\":[{\"type\":\"contour\",\"colorbar\":{\"outlinewidth\":0,\"ticks\":\"\"},\"colorscale\":[[0.0,\"#0d0887\"],[0.1111111111111111,\"#46039f\"],[0.2222222222222222,\"#7201a8\"],[0.3333333333333333,\"#9c179e\"],[0.4444444444444444,\"#bd3786\"],[0.5555555555555556,\"#d8576b\"],[0.6666666666666666,\"#ed7953\"],[0.7777777777777778,\"#fb9f3a\"],[0.8888888888888888,\"#fdca26\"],[1.0,\"#f0f921\"]]}],\"surface\":[{\"type\":\"surface\",\"colorbar\":{\"outlinewidth\":0,\"ticks\":\"\"},\"colorscale\":[[0.0,\"#0d0887\"],[0.1111111111111111,\"#46039f\"],[0.2222222222222222,\"#7201a8\"],[0.3333333333333333,\"#9c179e\"],[0.4444444444444444,\"#bd3786\"],[0.5555555555555556,\"#d8576b\"],[0.6666666666666666,\"#ed7953\"],[0.7777777777777778,\"#fb9f3a\"],[0.8888888888888888,\"#fdca26\"],[1.0,\"#f0f921\"]]}],\"mesh3d\":[{\"type\":\"mesh3d\",\"colorbar\":{\"outlinewidth\":0,\"ticks\":\"\"}}],\"scatter\":[{\"fillpattern\":{\"fillmode\":\"overlay\",\"size\":10,\"solidity\":0.2},\"type\":\"scatter\"}],\"parcoords\":[{\"type\":\"parcoords\",\"line\":{\"colorbar\":{\"outlinewidth\":0,\"ticks\":\"\"}}}],\"scatterpolargl\":[{\"type\":\"scatterpolargl\",\"marker\":{\"colorbar\":{\"outlinewidth\":0,\"ticks\":\"\"}}}],\"bar\":[{\"error_x\":{\"color\":\"#2a3f5f\"},\"error_y\":{\"color\":\"#2a3f5f\"},\"marker\":{\"line\":{\"color\":\"#E5ECF6\",\"width\":0.5},\"pattern\":{\"fillmode\":\"overlay\",\"size\":10,\"solidity\":0.2}},\"type\":\"bar\"}],\"scattergeo\":[{\"type\":\"scattergeo\",\"marker\":{\"colorbar\":{\"outlinewidth\":0,\"ticks\":\"\"}}}],\"scatterpolar\":[{\"type\":\"scatterpolar\",\"marker\":{\"colorbar\":{\"outlinewidth\":0,\"ticks\":\"\"}}}],\"histogram\":[{\"marker\":{\"pattern\":{\"fillmode\":\"overlay\",\"size\":10,\"solidity\":0.2}},\"type\":\"histogram\"}],\"scattergl\":[{\"type\":\"scattergl\",\"marker\":{\"colorbar\":{\"outlinewidth\":0,\"ticks\":\"\"}}}],\"scatter3d\":[{\"type\":\"scatter3d\",\"line\":{\"colorbar\":{\"outlinewidth\":0,\"ticks\":\"\"}},\"marker\":{\"colorbar\":{\"outlinewidth\":0,\"ticks\":\"\"}}}],\"scattermapbox\":[{\"type\":\"scattermapbox\",\"marker\":{\"colorbar\":{\"outlinewidth\":0,\"ticks\":\"\"}}}],\"scatterternary\":[{\"type\":\"scatterternary\",\"marker\":{\"colorbar\":{\"outlinewidth\":0,\"ticks\":\"\"}}}],\"scattercarpet\":[{\"type\":\"scattercarpet\",\"marker\":{\"colorbar\":{\"outlinewidth\":0,\"ticks\":\"\"}}}],\"carpet\":[{\"aaxis\":{\"endlinecolor\":\"#2a3f5f\",\"gridcolor\":\"white\",\"linecolor\":\"white\",\"minorgridcolor\":\"white\",\"startlinecolor\":\"#2a3f5f\"},\"baxis\":{\"endlinecolor\":\"#2a3f5f\",\"gridcolor\":\"white\",\"linecolor\":\"white\",\"minorgridcolor\":\"white\",\"startlinecolor\":\"#2a3f5f\"},\"type\":\"carpet\"}],\"table\":[{\"cells\":{\"fill\":{\"color\":\"#EBF0F8\"},\"line\":{\"color\":\"white\"}},\"header\":{\"fill\":{\"color\":\"#C8D4E3\"},\"line\":{\"color\":\"white\"}},\"type\":\"table\"}],\"barpolar\":[{\"marker\":{\"line\":{\"color\":\"#E5ECF6\",\"width\":0.5},\"pattern\":{\"fillmode\":\"overlay\",\"size\":10,\"solidity\":0.2}},\"type\":\"barpolar\"}],\"pie\":[{\"automargin\":true,\"type\":\"pie\"}]},\"layout\":{\"autotypenumbers\":\"strict\",\"colorway\":[\"#636efa\",\"#EF553B\",\"#00cc96\",\"#ab63fa\",\"#FFA15A\",\"#19d3f3\",\"#FF6692\",\"#B6E880\",\"#FF97FF\",\"#FECB52\"],\"font\":{\"color\":\"#2a3f5f\"},\"hovermode\":\"closest\",\"hoverlabel\":{\"align\":\"left\"},\"paper_bgcolor\":\"white\",\"plot_bgcolor\":\"#E5ECF6\",\"polar\":{\"bgcolor\":\"#E5ECF6\",\"angularaxis\":{\"gridcolor\":\"white\",\"linecolor\":\"white\",\"ticks\":\"\"},\"radialaxis\":{\"gridcolor\":\"white\",\"linecolor\":\"white\",\"ticks\":\"\"}},\"ternary\":{\"bgcolor\":\"#E5ECF6\",\"aaxis\":{\"gridcolor\":\"white\",\"linecolor\":\"white\",\"ticks\":\"\"},\"baxis\":{\"gridcolor\":\"white\",\"linecolor\":\"white\",\"ticks\":\"\"},\"caxis\":{\"gridcolor\":\"white\",\"linecolor\":\"white\",\"ticks\":\"\"}},\"coloraxis\":{\"colorbar\":{\"outlinewidth\":0,\"ticks\":\"\"}},\"colorscale\":{\"sequential\":[[0.0,\"#0d0887\"],[0.1111111111111111,\"#46039f\"],[0.2222222222222222,\"#7201a8\"],[0.3333333333333333,\"#9c179e\"],[0.4444444444444444,\"#bd3786\"],[0.5555555555555556,\"#d8576b\"],[0.6666666666666666,\"#ed7953\"],[0.7777777777777778,\"#fb9f3a\"],[0.8888888888888888,\"#fdca26\"],[1.0,\"#f0f921\"]],\"sequentialminus\":[[0.0,\"#0d0887\"],[0.1111111111111111,\"#46039f\"],[0.2222222222222222,\"#7201a8\"],[0.3333333333333333,\"#9c179e\"],[0.4444444444444444,\"#bd3786\"],[0.5555555555555556,\"#d8576b\"],[0.6666666666666666,\"#ed7953\"],[0.7777777777777778,\"#fb9f3a\"],[0.8888888888888888,\"#fdca26\"],[1.0,\"#f0f921\"]],\"diverging\":[[0,\"#8e0152\"],[0.1,\"#c51b7d\"],[0.2,\"#de77ae\"],[0.3,\"#f1b6da\"],[0.4,\"#fde0ef\"],[0.5,\"#f7f7f7\"],[0.6,\"#e6f5d0\"],[0.7,\"#b8e186\"],[0.8,\"#7fbc41\"],[0.9,\"#4d9221\"],[1,\"#276419\"]]},\"xaxis\":{\"gridcolor\":\"white\",\"linecolor\":\"white\",\"ticks\":\"\",\"title\":{\"standoff\":15},\"zerolinecolor\":\"white\",\"automargin\":true,\"zerolinewidth\":2},\"yaxis\":{\"gridcolor\":\"white\",\"linecolor\":\"white\",\"ticks\":\"\",\"title\":{\"standoff\":15},\"zerolinecolor\":\"white\",\"automargin\":true,\"zerolinewidth\":2},\"scene\":{\"xaxis\":{\"backgroundcolor\":\"#E5ECF6\",\"gridcolor\":\"white\",\"linecolor\":\"white\",\"showbackground\":true,\"ticks\":\"\",\"zerolinecolor\":\"white\",\"gridwidth\":2},\"yaxis\":{\"backgroundcolor\":\"#E5ECF6\",\"gridcolor\":\"white\",\"linecolor\":\"white\",\"showbackground\":true,\"ticks\":\"\",\"zerolinecolor\":\"white\",\"gridwidth\":2},\"zaxis\":{\"backgroundcolor\":\"#E5ECF6\",\"gridcolor\":\"white\",\"linecolor\":\"white\",\"showbackground\":true,\"ticks\":\"\",\"zerolinecolor\":\"white\",\"gridwidth\":2}},\"shapedefaults\":{\"line\":{\"color\":\"#2a3f5f\"}},\"annotationdefaults\":{\"arrowcolor\":\"#2a3f5f\",\"arrowhead\":0,\"arrowwidth\":1},\"geo\":{\"bgcolor\":\"white\",\"landcolor\":\"#E5ECF6\",\"subunitcolor\":\"white\",\"showland\":true,\"showlakes\":true,\"lakecolor\":\"white\"},\"title\":{\"x\":0.05},\"mapbox\":{\"style\":\"light\"}}},\"xaxis\":{\"anchor\":\"y\",\"domain\":[0.0,1.0],\"title\":{\"text\":\"Weeks\"}},\"yaxis\":{\"anchor\":\"x\",\"domain\":[0.0,1.0],\"title\":{\"text\":\"value\"}},\"legend\":{\"title\":{\"text\":\"variable\"},\"tracegroupgap\":0},\"margin\":{\"t\":60}},                        {\"responsive\": true}                    ).then(function(){\n",
              "                            \n",
              "var gd = document.getElementById('a4db401a-b5d0-4614-b1da-d721cfabeb61');\n",
              "var x = new MutationObserver(function (mutations, observer) {{\n",
              "        var display = window.getComputedStyle(gd).display;\n",
              "        if (!display || display === 'none') {{\n",
              "            console.log([gd, 'removed!']);\n",
              "            Plotly.purge(gd);\n",
              "            observer.disconnect();\n",
              "        }}\n",
              "}});\n",
              "\n",
              "// Listen for the removal of the full notebook cells\n",
              "var notebookContainer = gd.closest('#notebook-container');\n",
              "if (notebookContainer) {{\n",
              "    x.observe(notebookContainer, {childList: true});\n",
              "}}\n",
              "\n",
              "// Listen for the clearing of the current output cell\n",
              "var outputEl = gd.closest('.output');\n",
              "if (outputEl) {{\n",
              "    x.observe(outputEl, {childList: true});\n",
              "}}\n",
              "\n",
              "                        })                };                            </script>        </div>\n",
              "</body>\n",
              "</html>"
            ]
          },
          "metadata": {}
        }
      ]
    },
    {
      "cell_type": "markdown",
      "source": [
        "<h2> 2) The main emotions are intercepted by a realization that is generally followed by exitement."
      ],
      "metadata": {
        "id": "iVSlAo6eHPTd"
      }
    },
    {
      "cell_type": "code",
      "source": [
        "px.line(movement,x='Weeks',y=[ 'disappointment','realization','excitement'])"
      ],
      "metadata": {
        "colab": {
          "base_uri": "https://localhost:8080/",
          "height": 542
        },
        "id": "zOYsijTtaAcn",
        "outputId": "233ec62b-190f-4bfc-9378-eadf59c3c643"
      },
      "execution_count": null,
      "outputs": [
        {
          "output_type": "display_data",
          "data": {
            "text/html": [
              "<html>\n",
              "<head><meta charset=\"utf-8\" /></head>\n",
              "<body>\n",
              "    <div>            <script src=\"https://cdnjs.cloudflare.com/ajax/libs/mathjax/2.7.5/MathJax.js?config=TeX-AMS-MML_SVG\"></script><script type=\"text/javascript\">if (window.MathJax && window.MathJax.Hub && window.MathJax.Hub.Config) {window.MathJax.Hub.Config({SVG: {font: \"STIX-Web\"}});}</script>                <script type=\"text/javascript\">window.PlotlyConfig = {MathJaxConfig: 'local'};</script>\n",
              "        <script charset=\"utf-8\" src=\"https://cdn.plot.ly/plotly-2.24.1.min.js\"></script>                <div id=\"9c255906-616b-4a1d-a925-e69f3bbd7d53\" class=\"plotly-graph-div\" style=\"height:525px; width:100%;\"></div>            <script type=\"text/javascript\">                                    window.PLOTLYENV=window.PLOTLYENV || {};                                    if (document.getElementById(\"9c255906-616b-4a1d-a925-e69f3bbd7d53\")) {                    Plotly.newPlot(                        \"9c255906-616b-4a1d-a925-e69f3bbd7d53\",                        [{\"hovertemplate\":\"variable=disappointment\\u003cbr\\u003eWeeks=%{x}\\u003cbr\\u003evalue=%{y}\\u003cextra\\u003e\\u003c\\u002fextra\\u003e\",\"legendgroup\":\"disappointment\",\"line\":{\"color\":\"#636efa\",\"dash\":\"solid\"},\"marker\":{\"symbol\":\"circle\"},\"mode\":\"lines\",\"name\":\"disappointment\",\"orientation\":\"v\",\"showlegend\":true,\"x\":[0,1,2,3,4,5,6,7,8,9,10,11,12,13,14,15,16,17,18,19,20,21,22,23,24,25,26,27,28],\"xaxis\":\"x\",\"y\":[0.6087192296981812,0.6044195294380188,0.5777086615562439,0.2098100483417511,0.2883895933628082,0.10128725320100784,0.07369118928909302,0.0,0.0,0.0,0.0,0.0,0.0,0.0,0.0,0.02139662206172943,0.0,0.0,0.0,0.0,0.0,0.0,0.0,0.0,0.0,0.0,0.0,0.0,0.0],\"yaxis\":\"y\",\"type\":\"scatter\"},{\"hovertemplate\":\"variable=realization\\u003cbr\\u003eWeeks=%{x}\\u003cbr\\u003evalue=%{y}\\u003cextra\\u003e\\u003c\\u002fextra\\u003e\",\"legendgroup\":\"realization\",\"line\":{\"color\":\"#EF553B\",\"dash\":\"solid\"},\"marker\":{\"symbol\":\"circle\"},\"mode\":\"lines\",\"name\":\"realization\",\"orientation\":\"v\",\"showlegend\":true,\"x\":[0,1,2,3,4,5,6,7,8,9,10,11,12,13,14,15,16,17,18,19,20,21,22,23,24,25,26,27,28],\"xaxis\":\"x\",\"y\":[0.0,0.0,0.0,0.14976370334625244,0.0,0.6755382418632507,0.6141150593757629,0.5605502724647522,0.43344882130622864,0.1657869517803192,0.07749269902706146,0.0,0.08850783854722977,0.0,0.10750539600849152,0.25431713461875916,0.10682670772075653,0.04600665718317032,0.0,0.0,0.0,0.0,0.03892475366592407,0.15509162843227386,0.08651875704526901,0.08332955837249756,0.0,0.0,0.0],\"yaxis\":\"y\",\"type\":\"scatter\"},{\"hovertemplate\":\"variable=excitement\\u003cbr\\u003eWeeks=%{x}\\u003cbr\\u003evalue=%{y}\\u003cextra\\u003e\\u003c\\u002fextra\\u003e\",\"legendgroup\":\"excitement\",\"line\":{\"color\":\"#00cc96\",\"dash\":\"solid\"},\"marker\":{\"symbol\":\"circle\"},\"mode\":\"lines\",\"name\":\"excitement\",\"orientation\":\"v\",\"showlegend\":true,\"x\":[0,1,2,3,4,5,6,7,8,9,10,11,12,13,14,15,16,17,18,19,20,21,22,23,24,25,26,27,28],\"xaxis\":\"x\",\"y\":[0.0,0.0,0.0,0.0,0.0,0.0,0.0,0.0,0.0,0.25333380699157715,0.2852403521537781,0.5695257782936096,0.0,0.0,0.0,0.0,0.0,0.0,0.08623034507036209,0.0,0.0,0.0,0.0,0.0,0.0,0.0,0.19065827131271362,0.2921130657196045,0.0],\"yaxis\":\"y\",\"type\":\"scatter\"}],                        {\"template\":{\"data\":{\"histogram2dcontour\":[{\"type\":\"histogram2dcontour\",\"colorbar\":{\"outlinewidth\":0,\"ticks\":\"\"},\"colorscale\":[[0.0,\"#0d0887\"],[0.1111111111111111,\"#46039f\"],[0.2222222222222222,\"#7201a8\"],[0.3333333333333333,\"#9c179e\"],[0.4444444444444444,\"#bd3786\"],[0.5555555555555556,\"#d8576b\"],[0.6666666666666666,\"#ed7953\"],[0.7777777777777778,\"#fb9f3a\"],[0.8888888888888888,\"#fdca26\"],[1.0,\"#f0f921\"]]}],\"choropleth\":[{\"type\":\"choropleth\",\"colorbar\":{\"outlinewidth\":0,\"ticks\":\"\"}}],\"histogram2d\":[{\"type\":\"histogram2d\",\"colorbar\":{\"outlinewidth\":0,\"ticks\":\"\"},\"colorscale\":[[0.0,\"#0d0887\"],[0.1111111111111111,\"#46039f\"],[0.2222222222222222,\"#7201a8\"],[0.3333333333333333,\"#9c179e\"],[0.4444444444444444,\"#bd3786\"],[0.5555555555555556,\"#d8576b\"],[0.6666666666666666,\"#ed7953\"],[0.7777777777777778,\"#fb9f3a\"],[0.8888888888888888,\"#fdca26\"],[1.0,\"#f0f921\"]]}],\"heatmap\":[{\"type\":\"heatmap\",\"colorbar\":{\"outlinewidth\":0,\"ticks\":\"\"},\"colorscale\":[[0.0,\"#0d0887\"],[0.1111111111111111,\"#46039f\"],[0.2222222222222222,\"#7201a8\"],[0.3333333333333333,\"#9c179e\"],[0.4444444444444444,\"#bd3786\"],[0.5555555555555556,\"#d8576b\"],[0.6666666666666666,\"#ed7953\"],[0.7777777777777778,\"#fb9f3a\"],[0.8888888888888888,\"#fdca26\"],[1.0,\"#f0f921\"]]}],\"heatmapgl\":[{\"type\":\"heatmapgl\",\"colorbar\":{\"outlinewidth\":0,\"ticks\":\"\"},\"colorscale\":[[0.0,\"#0d0887\"],[0.1111111111111111,\"#46039f\"],[0.2222222222222222,\"#7201a8\"],[0.3333333333333333,\"#9c179e\"],[0.4444444444444444,\"#bd3786\"],[0.5555555555555556,\"#d8576b\"],[0.6666666666666666,\"#ed7953\"],[0.7777777777777778,\"#fb9f3a\"],[0.8888888888888888,\"#fdca26\"],[1.0,\"#f0f921\"]]}],\"contourcarpet\":[{\"type\":\"contourcarpet\",\"colorbar\":{\"outlinewidth\":0,\"ticks\":\"\"}}],\"contour\":[{\"type\":\"contour\",\"colorbar\":{\"outlinewidth\":0,\"ticks\":\"\"},\"colorscale\":[[0.0,\"#0d0887\"],[0.1111111111111111,\"#46039f\"],[0.2222222222222222,\"#7201a8\"],[0.3333333333333333,\"#9c179e\"],[0.4444444444444444,\"#bd3786\"],[0.5555555555555556,\"#d8576b\"],[0.6666666666666666,\"#ed7953\"],[0.7777777777777778,\"#fb9f3a\"],[0.8888888888888888,\"#fdca26\"],[1.0,\"#f0f921\"]]}],\"surface\":[{\"type\":\"surface\",\"colorbar\":{\"outlinewidth\":0,\"ticks\":\"\"},\"colorscale\":[[0.0,\"#0d0887\"],[0.1111111111111111,\"#46039f\"],[0.2222222222222222,\"#7201a8\"],[0.3333333333333333,\"#9c179e\"],[0.4444444444444444,\"#bd3786\"],[0.5555555555555556,\"#d8576b\"],[0.6666666666666666,\"#ed7953\"],[0.7777777777777778,\"#fb9f3a\"],[0.8888888888888888,\"#fdca26\"],[1.0,\"#f0f921\"]]}],\"mesh3d\":[{\"type\":\"mesh3d\",\"colorbar\":{\"outlinewidth\":0,\"ticks\":\"\"}}],\"scatter\":[{\"fillpattern\":{\"fillmode\":\"overlay\",\"size\":10,\"solidity\":0.2},\"type\":\"scatter\"}],\"parcoords\":[{\"type\":\"parcoords\",\"line\":{\"colorbar\":{\"outlinewidth\":0,\"ticks\":\"\"}}}],\"scatterpolargl\":[{\"type\":\"scatterpolargl\",\"marker\":{\"colorbar\":{\"outlinewidth\":0,\"ticks\":\"\"}}}],\"bar\":[{\"error_x\":{\"color\":\"#2a3f5f\"},\"error_y\":{\"color\":\"#2a3f5f\"},\"marker\":{\"line\":{\"color\":\"#E5ECF6\",\"width\":0.5},\"pattern\":{\"fillmode\":\"overlay\",\"size\":10,\"solidity\":0.2}},\"type\":\"bar\"}],\"scattergeo\":[{\"type\":\"scattergeo\",\"marker\":{\"colorbar\":{\"outlinewidth\":0,\"ticks\":\"\"}}}],\"scatterpolar\":[{\"type\":\"scatterpolar\",\"marker\":{\"colorbar\":{\"outlinewidth\":0,\"ticks\":\"\"}}}],\"histogram\":[{\"marker\":{\"pattern\":{\"fillmode\":\"overlay\",\"size\":10,\"solidity\":0.2}},\"type\":\"histogram\"}],\"scattergl\":[{\"type\":\"scattergl\",\"marker\":{\"colorbar\":{\"outlinewidth\":0,\"ticks\":\"\"}}}],\"scatter3d\":[{\"type\":\"scatter3d\",\"line\":{\"colorbar\":{\"outlinewidth\":0,\"ticks\":\"\"}},\"marker\":{\"colorbar\":{\"outlinewidth\":0,\"ticks\":\"\"}}}],\"scattermapbox\":[{\"type\":\"scattermapbox\",\"marker\":{\"colorbar\":{\"outlinewidth\":0,\"ticks\":\"\"}}}],\"scatterternary\":[{\"type\":\"scatterternary\",\"marker\":{\"colorbar\":{\"outlinewidth\":0,\"ticks\":\"\"}}}],\"scattercarpet\":[{\"type\":\"scattercarpet\",\"marker\":{\"colorbar\":{\"outlinewidth\":0,\"ticks\":\"\"}}}],\"carpet\":[{\"aaxis\":{\"endlinecolor\":\"#2a3f5f\",\"gridcolor\":\"white\",\"linecolor\":\"white\",\"minorgridcolor\":\"white\",\"startlinecolor\":\"#2a3f5f\"},\"baxis\":{\"endlinecolor\":\"#2a3f5f\",\"gridcolor\":\"white\",\"linecolor\":\"white\",\"minorgridcolor\":\"white\",\"startlinecolor\":\"#2a3f5f\"},\"type\":\"carpet\"}],\"table\":[{\"cells\":{\"fill\":{\"color\":\"#EBF0F8\"},\"line\":{\"color\":\"white\"}},\"header\":{\"fill\":{\"color\":\"#C8D4E3\"},\"line\":{\"color\":\"white\"}},\"type\":\"table\"}],\"barpolar\":[{\"marker\":{\"line\":{\"color\":\"#E5ECF6\",\"width\":0.5},\"pattern\":{\"fillmode\":\"overlay\",\"size\":10,\"solidity\":0.2}},\"type\":\"barpolar\"}],\"pie\":[{\"automargin\":true,\"type\":\"pie\"}]},\"layout\":{\"autotypenumbers\":\"strict\",\"colorway\":[\"#636efa\",\"#EF553B\",\"#00cc96\",\"#ab63fa\",\"#FFA15A\",\"#19d3f3\",\"#FF6692\",\"#B6E880\",\"#FF97FF\",\"#FECB52\"],\"font\":{\"color\":\"#2a3f5f\"},\"hovermode\":\"closest\",\"hoverlabel\":{\"align\":\"left\"},\"paper_bgcolor\":\"white\",\"plot_bgcolor\":\"#E5ECF6\",\"polar\":{\"bgcolor\":\"#E5ECF6\",\"angularaxis\":{\"gridcolor\":\"white\",\"linecolor\":\"white\",\"ticks\":\"\"},\"radialaxis\":{\"gridcolor\":\"white\",\"linecolor\":\"white\",\"ticks\":\"\"}},\"ternary\":{\"bgcolor\":\"#E5ECF6\",\"aaxis\":{\"gridcolor\":\"white\",\"linecolor\":\"white\",\"ticks\":\"\"},\"baxis\":{\"gridcolor\":\"white\",\"linecolor\":\"white\",\"ticks\":\"\"},\"caxis\":{\"gridcolor\":\"white\",\"linecolor\":\"white\",\"ticks\":\"\"}},\"coloraxis\":{\"colorbar\":{\"outlinewidth\":0,\"ticks\":\"\"}},\"colorscale\":{\"sequential\":[[0.0,\"#0d0887\"],[0.1111111111111111,\"#46039f\"],[0.2222222222222222,\"#7201a8\"],[0.3333333333333333,\"#9c179e\"],[0.4444444444444444,\"#bd3786\"],[0.5555555555555556,\"#d8576b\"],[0.6666666666666666,\"#ed7953\"],[0.7777777777777778,\"#fb9f3a\"],[0.8888888888888888,\"#fdca26\"],[1.0,\"#f0f921\"]],\"sequentialminus\":[[0.0,\"#0d0887\"],[0.1111111111111111,\"#46039f\"],[0.2222222222222222,\"#7201a8\"],[0.3333333333333333,\"#9c179e\"],[0.4444444444444444,\"#bd3786\"],[0.5555555555555556,\"#d8576b\"],[0.6666666666666666,\"#ed7953\"],[0.7777777777777778,\"#fb9f3a\"],[0.8888888888888888,\"#fdca26\"],[1.0,\"#f0f921\"]],\"diverging\":[[0,\"#8e0152\"],[0.1,\"#c51b7d\"],[0.2,\"#de77ae\"],[0.3,\"#f1b6da\"],[0.4,\"#fde0ef\"],[0.5,\"#f7f7f7\"],[0.6,\"#e6f5d0\"],[0.7,\"#b8e186\"],[0.8,\"#7fbc41\"],[0.9,\"#4d9221\"],[1,\"#276419\"]]},\"xaxis\":{\"gridcolor\":\"white\",\"linecolor\":\"white\",\"ticks\":\"\",\"title\":{\"standoff\":15},\"zerolinecolor\":\"white\",\"automargin\":true,\"zerolinewidth\":2},\"yaxis\":{\"gridcolor\":\"white\",\"linecolor\":\"white\",\"ticks\":\"\",\"title\":{\"standoff\":15},\"zerolinecolor\":\"white\",\"automargin\":true,\"zerolinewidth\":2},\"scene\":{\"xaxis\":{\"backgroundcolor\":\"#E5ECF6\",\"gridcolor\":\"white\",\"linecolor\":\"white\",\"showbackground\":true,\"ticks\":\"\",\"zerolinecolor\":\"white\",\"gridwidth\":2},\"yaxis\":{\"backgroundcolor\":\"#E5ECF6\",\"gridcolor\":\"white\",\"linecolor\":\"white\",\"showbackground\":true,\"ticks\":\"\",\"zerolinecolor\":\"white\",\"gridwidth\":2},\"zaxis\":{\"backgroundcolor\":\"#E5ECF6\",\"gridcolor\":\"white\",\"linecolor\":\"white\",\"showbackground\":true,\"ticks\":\"\",\"zerolinecolor\":\"white\",\"gridwidth\":2}},\"shapedefaults\":{\"line\":{\"color\":\"#2a3f5f\"}},\"annotationdefaults\":{\"arrowcolor\":\"#2a3f5f\",\"arrowhead\":0,\"arrowwidth\":1},\"geo\":{\"bgcolor\":\"white\",\"landcolor\":\"#E5ECF6\",\"subunitcolor\":\"white\",\"showland\":true,\"showlakes\":true,\"lakecolor\":\"white\"},\"title\":{\"x\":0.05},\"mapbox\":{\"style\":\"light\"}}},\"xaxis\":{\"anchor\":\"y\",\"domain\":[0.0,1.0],\"title\":{\"text\":\"Weeks\"}},\"yaxis\":{\"anchor\":\"x\",\"domain\":[0.0,1.0],\"title\":{\"text\":\"value\"}},\"legend\":{\"title\":{\"text\":\"variable\"},\"tracegroupgap\":0},\"margin\":{\"t\":60}},                        {\"responsive\": true}                    ).then(function(){\n",
              "                            \n",
              "var gd = document.getElementById('9c255906-616b-4a1d-a925-e69f3bbd7d53');\n",
              "var x = new MutationObserver(function (mutations, observer) {{\n",
              "        var display = window.getComputedStyle(gd).display;\n",
              "        if (!display || display === 'none') {{\n",
              "            console.log([gd, 'removed!']);\n",
              "            Plotly.purge(gd);\n",
              "            observer.disconnect();\n",
              "        }}\n",
              "}});\n",
              "\n",
              "// Listen for the removal of the full notebook cells\n",
              "var notebookContainer = gd.closest('#notebook-container');\n",
              "if (notebookContainer) {{\n",
              "    x.observe(notebookContainer, {childList: true});\n",
              "}}\n",
              "\n",
              "// Listen for the clearing of the current output cell\n",
              "var outputEl = gd.closest('.output');\n",
              "if (outputEl) {{\n",
              "    x.observe(outputEl, {childList: true});\n",
              "}}\n",
              "\n",
              "                        })                };                            </script>        </div>\n",
              "</body>\n",
              "</html>"
            ]
          },
          "metadata": {}
        }
      ]
    },
    {
      "cell_type": "markdown",
      "source": [
        "<h2> 3) There is a simbiotic relationship between confusion and curiosity:\n",
        "\n",
        "That is generally my case when doing an investigation."
      ],
      "metadata": {
        "id": "MTY4JAFDHphQ"
      }
    },
    {
      "cell_type": "code",
      "source": [
        "px.line(movement,x='Weeks',y=[ 'confusion','curiosity'])"
      ],
      "metadata": {
        "colab": {
          "base_uri": "https://localhost:8080/",
          "height": 542
        },
        "id": "qTtsVwHaaQVo",
        "outputId": "92270d61-9449-4feb-f22b-0a4cc50ddc17"
      },
      "execution_count": null,
      "outputs": [
        {
          "output_type": "display_data",
          "data": {
            "text/html": [
              "<html>\n",
              "<head><meta charset=\"utf-8\" /></head>\n",
              "<body>\n",
              "    <div>            <script src=\"https://cdnjs.cloudflare.com/ajax/libs/mathjax/2.7.5/MathJax.js?config=TeX-AMS-MML_SVG\"></script><script type=\"text/javascript\">if (window.MathJax && window.MathJax.Hub && window.MathJax.Hub.Config) {window.MathJax.Hub.Config({SVG: {font: \"STIX-Web\"}});}</script>                <script type=\"text/javascript\">window.PlotlyConfig = {MathJaxConfig: 'local'};</script>\n",
              "        <script charset=\"utf-8\" src=\"https://cdn.plot.ly/plotly-2.24.1.min.js\"></script>                <div id=\"ea54edf8-bbd6-4aa2-931f-8aa3397f8940\" class=\"plotly-graph-div\" style=\"height:525px; width:100%;\"></div>            <script type=\"text/javascript\">                                    window.PLOTLYENV=window.PLOTLYENV || {};                                    if (document.getElementById(\"ea54edf8-bbd6-4aa2-931f-8aa3397f8940\")) {                    Plotly.newPlot(                        \"ea54edf8-bbd6-4aa2-931f-8aa3397f8940\",                        [{\"hovertemplate\":\"variable=confusion\\u003cbr\\u003eWeeks=%{x}\\u003cbr\\u003evalue=%{y}\\u003cextra\\u003e\\u003c\\u002fextra\\u003e\",\"legendgroup\":\"confusion\",\"line\":{\"color\":\"#636efa\",\"dash\":\"solid\"},\"marker\":{\"symbol\":\"circle\"},\"mode\":\"lines\",\"name\":\"confusion\",\"orientation\":\"v\",\"showlegend\":true,\"x\":[0,1,2,3,4,5,6,7,8,9,10,11,12,13,14,15,16,17,18,19,20,21,22,23,24,25,26,27,28],\"xaxis\":\"x\",\"y\":[0.2049887776374817,0.19739334285259247,0.06382551044225693,0.1395879089832306,0.10234657675027847,0.0,0.0,0.034116391092538834,0.08003386855125427,0.0,0.0,0.0,0.18131226301193237,0.16261711716651917,0.082663893699646,0.0,0.0,0.0,0.0,0.1429900825023651,0.16011269390583038,0.07250858098268509,0.0,0.0,0.09510714560747147,0.07183101773262024,0.0,0.0,0.0],\"yaxis\":\"y\",\"type\":\"scatter\"},{\"hovertemplate\":\"variable=curiosity\\u003cbr\\u003eWeeks=%{x}\\u003cbr\\u003evalue=%{y}\\u003cextra\\u003e\\u003c\\u002fextra\\u003e\",\"legendgroup\":\"curiosity\",\"line\":{\"color\":\"#EF553B\",\"dash\":\"solid\"},\"marker\":{\"symbol\":\"circle\"},\"mode\":\"lines\",\"name\":\"curiosity\",\"orientation\":\"v\",\"showlegend\":true,\"x\":[0,1,2,3,4,5,6,7,8,9,10,11,12,13,14,15,16,17,18,19,20,21,22,23,24,25,26,27,28],\"xaxis\":\"x\",\"y\":[0.0,0.0,0.0,0.0,0.0,0.0,0.0,0.0,0.0,0.0,0.0,0.17300981283187866,0.1983439177274704,0.14550282061100006,0.0,0.0,0.0,0.0,0.12239664793014526,0.1984013020992279,0.2034003883600235,0.0,0.0,0.0,0.0657743364572525,0.0,0.14606939256191254,0.0,0.0],\"yaxis\":\"y\",\"type\":\"scatter\"}],                        {\"template\":{\"data\":{\"histogram2dcontour\":[{\"type\":\"histogram2dcontour\",\"colorbar\":{\"outlinewidth\":0,\"ticks\":\"\"},\"colorscale\":[[0.0,\"#0d0887\"],[0.1111111111111111,\"#46039f\"],[0.2222222222222222,\"#7201a8\"],[0.3333333333333333,\"#9c179e\"],[0.4444444444444444,\"#bd3786\"],[0.5555555555555556,\"#d8576b\"],[0.6666666666666666,\"#ed7953\"],[0.7777777777777778,\"#fb9f3a\"],[0.8888888888888888,\"#fdca26\"],[1.0,\"#f0f921\"]]}],\"choropleth\":[{\"type\":\"choropleth\",\"colorbar\":{\"outlinewidth\":0,\"ticks\":\"\"}}],\"histogram2d\":[{\"type\":\"histogram2d\",\"colorbar\":{\"outlinewidth\":0,\"ticks\":\"\"},\"colorscale\":[[0.0,\"#0d0887\"],[0.1111111111111111,\"#46039f\"],[0.2222222222222222,\"#7201a8\"],[0.3333333333333333,\"#9c179e\"],[0.4444444444444444,\"#bd3786\"],[0.5555555555555556,\"#d8576b\"],[0.6666666666666666,\"#ed7953\"],[0.7777777777777778,\"#fb9f3a\"],[0.8888888888888888,\"#fdca26\"],[1.0,\"#f0f921\"]]}],\"heatmap\":[{\"type\":\"heatmap\",\"colorbar\":{\"outlinewidth\":0,\"ticks\":\"\"},\"colorscale\":[[0.0,\"#0d0887\"],[0.1111111111111111,\"#46039f\"],[0.2222222222222222,\"#7201a8\"],[0.3333333333333333,\"#9c179e\"],[0.4444444444444444,\"#bd3786\"],[0.5555555555555556,\"#d8576b\"],[0.6666666666666666,\"#ed7953\"],[0.7777777777777778,\"#fb9f3a\"],[0.8888888888888888,\"#fdca26\"],[1.0,\"#f0f921\"]]}],\"heatmapgl\":[{\"type\":\"heatmapgl\",\"colorbar\":{\"outlinewidth\":0,\"ticks\":\"\"},\"colorscale\":[[0.0,\"#0d0887\"],[0.1111111111111111,\"#46039f\"],[0.2222222222222222,\"#7201a8\"],[0.3333333333333333,\"#9c179e\"],[0.4444444444444444,\"#bd3786\"],[0.5555555555555556,\"#d8576b\"],[0.6666666666666666,\"#ed7953\"],[0.7777777777777778,\"#fb9f3a\"],[0.8888888888888888,\"#fdca26\"],[1.0,\"#f0f921\"]]}],\"contourcarpet\":[{\"type\":\"contourcarpet\",\"colorbar\":{\"outlinewidth\":0,\"ticks\":\"\"}}],\"contour\":[{\"type\":\"contour\",\"colorbar\":{\"outlinewidth\":0,\"ticks\":\"\"},\"colorscale\":[[0.0,\"#0d0887\"],[0.1111111111111111,\"#46039f\"],[0.2222222222222222,\"#7201a8\"],[0.3333333333333333,\"#9c179e\"],[0.4444444444444444,\"#bd3786\"],[0.5555555555555556,\"#d8576b\"],[0.6666666666666666,\"#ed7953\"],[0.7777777777777778,\"#fb9f3a\"],[0.8888888888888888,\"#fdca26\"],[1.0,\"#f0f921\"]]}],\"surface\":[{\"type\":\"surface\",\"colorbar\":{\"outlinewidth\":0,\"ticks\":\"\"},\"colorscale\":[[0.0,\"#0d0887\"],[0.1111111111111111,\"#46039f\"],[0.2222222222222222,\"#7201a8\"],[0.3333333333333333,\"#9c179e\"],[0.4444444444444444,\"#bd3786\"],[0.5555555555555556,\"#d8576b\"],[0.6666666666666666,\"#ed7953\"],[0.7777777777777778,\"#fb9f3a\"],[0.8888888888888888,\"#fdca26\"],[1.0,\"#f0f921\"]]}],\"mesh3d\":[{\"type\":\"mesh3d\",\"colorbar\":{\"outlinewidth\":0,\"ticks\":\"\"}}],\"scatter\":[{\"fillpattern\":{\"fillmode\":\"overlay\",\"size\":10,\"solidity\":0.2},\"type\":\"scatter\"}],\"parcoords\":[{\"type\":\"parcoords\",\"line\":{\"colorbar\":{\"outlinewidth\":0,\"ticks\":\"\"}}}],\"scatterpolargl\":[{\"type\":\"scatterpolargl\",\"marker\":{\"colorbar\":{\"outlinewidth\":0,\"ticks\":\"\"}}}],\"bar\":[{\"error_x\":{\"color\":\"#2a3f5f\"},\"error_y\":{\"color\":\"#2a3f5f\"},\"marker\":{\"line\":{\"color\":\"#E5ECF6\",\"width\":0.5},\"pattern\":{\"fillmode\":\"overlay\",\"size\":10,\"solidity\":0.2}},\"type\":\"bar\"}],\"scattergeo\":[{\"type\":\"scattergeo\",\"marker\":{\"colorbar\":{\"outlinewidth\":0,\"ticks\":\"\"}}}],\"scatterpolar\":[{\"type\":\"scatterpolar\",\"marker\":{\"colorbar\":{\"outlinewidth\":0,\"ticks\":\"\"}}}],\"histogram\":[{\"marker\":{\"pattern\":{\"fillmode\":\"overlay\",\"size\":10,\"solidity\":0.2}},\"type\":\"histogram\"}],\"scattergl\":[{\"type\":\"scattergl\",\"marker\":{\"colorbar\":{\"outlinewidth\":0,\"ticks\":\"\"}}}],\"scatter3d\":[{\"type\":\"scatter3d\",\"line\":{\"colorbar\":{\"outlinewidth\":0,\"ticks\":\"\"}},\"marker\":{\"colorbar\":{\"outlinewidth\":0,\"ticks\":\"\"}}}],\"scattermapbox\":[{\"type\":\"scattermapbox\",\"marker\":{\"colorbar\":{\"outlinewidth\":0,\"ticks\":\"\"}}}],\"scatterternary\":[{\"type\":\"scatterternary\",\"marker\":{\"colorbar\":{\"outlinewidth\":0,\"ticks\":\"\"}}}],\"scattercarpet\":[{\"type\":\"scattercarpet\",\"marker\":{\"colorbar\":{\"outlinewidth\":0,\"ticks\":\"\"}}}],\"carpet\":[{\"aaxis\":{\"endlinecolor\":\"#2a3f5f\",\"gridcolor\":\"white\",\"linecolor\":\"white\",\"minorgridcolor\":\"white\",\"startlinecolor\":\"#2a3f5f\"},\"baxis\":{\"endlinecolor\":\"#2a3f5f\",\"gridcolor\":\"white\",\"linecolor\":\"white\",\"minorgridcolor\":\"white\",\"startlinecolor\":\"#2a3f5f\"},\"type\":\"carpet\"}],\"table\":[{\"cells\":{\"fill\":{\"color\":\"#EBF0F8\"},\"line\":{\"color\":\"white\"}},\"header\":{\"fill\":{\"color\":\"#C8D4E3\"},\"line\":{\"color\":\"white\"}},\"type\":\"table\"}],\"barpolar\":[{\"marker\":{\"line\":{\"color\":\"#E5ECF6\",\"width\":0.5},\"pattern\":{\"fillmode\":\"overlay\",\"size\":10,\"solidity\":0.2}},\"type\":\"barpolar\"}],\"pie\":[{\"automargin\":true,\"type\":\"pie\"}]},\"layout\":{\"autotypenumbers\":\"strict\",\"colorway\":[\"#636efa\",\"#EF553B\",\"#00cc96\",\"#ab63fa\",\"#FFA15A\",\"#19d3f3\",\"#FF6692\",\"#B6E880\",\"#FF97FF\",\"#FECB52\"],\"font\":{\"color\":\"#2a3f5f\"},\"hovermode\":\"closest\",\"hoverlabel\":{\"align\":\"left\"},\"paper_bgcolor\":\"white\",\"plot_bgcolor\":\"#E5ECF6\",\"polar\":{\"bgcolor\":\"#E5ECF6\",\"angularaxis\":{\"gridcolor\":\"white\",\"linecolor\":\"white\",\"ticks\":\"\"},\"radialaxis\":{\"gridcolor\":\"white\",\"linecolor\":\"white\",\"ticks\":\"\"}},\"ternary\":{\"bgcolor\":\"#E5ECF6\",\"aaxis\":{\"gridcolor\":\"white\",\"linecolor\":\"white\",\"ticks\":\"\"},\"baxis\":{\"gridcolor\":\"white\",\"linecolor\":\"white\",\"ticks\":\"\"},\"caxis\":{\"gridcolor\":\"white\",\"linecolor\":\"white\",\"ticks\":\"\"}},\"coloraxis\":{\"colorbar\":{\"outlinewidth\":0,\"ticks\":\"\"}},\"colorscale\":{\"sequential\":[[0.0,\"#0d0887\"],[0.1111111111111111,\"#46039f\"],[0.2222222222222222,\"#7201a8\"],[0.3333333333333333,\"#9c179e\"],[0.4444444444444444,\"#bd3786\"],[0.5555555555555556,\"#d8576b\"],[0.6666666666666666,\"#ed7953\"],[0.7777777777777778,\"#fb9f3a\"],[0.8888888888888888,\"#fdca26\"],[1.0,\"#f0f921\"]],\"sequentialminus\":[[0.0,\"#0d0887\"],[0.1111111111111111,\"#46039f\"],[0.2222222222222222,\"#7201a8\"],[0.3333333333333333,\"#9c179e\"],[0.4444444444444444,\"#bd3786\"],[0.5555555555555556,\"#d8576b\"],[0.6666666666666666,\"#ed7953\"],[0.7777777777777778,\"#fb9f3a\"],[0.8888888888888888,\"#fdca26\"],[1.0,\"#f0f921\"]],\"diverging\":[[0,\"#8e0152\"],[0.1,\"#c51b7d\"],[0.2,\"#de77ae\"],[0.3,\"#f1b6da\"],[0.4,\"#fde0ef\"],[0.5,\"#f7f7f7\"],[0.6,\"#e6f5d0\"],[0.7,\"#b8e186\"],[0.8,\"#7fbc41\"],[0.9,\"#4d9221\"],[1,\"#276419\"]]},\"xaxis\":{\"gridcolor\":\"white\",\"linecolor\":\"white\",\"ticks\":\"\",\"title\":{\"standoff\":15},\"zerolinecolor\":\"white\",\"automargin\":true,\"zerolinewidth\":2},\"yaxis\":{\"gridcolor\":\"white\",\"linecolor\":\"white\",\"ticks\":\"\",\"title\":{\"standoff\":15},\"zerolinecolor\":\"white\",\"automargin\":true,\"zerolinewidth\":2},\"scene\":{\"xaxis\":{\"backgroundcolor\":\"#E5ECF6\",\"gridcolor\":\"white\",\"linecolor\":\"white\",\"showbackground\":true,\"ticks\":\"\",\"zerolinecolor\":\"white\",\"gridwidth\":2},\"yaxis\":{\"backgroundcolor\":\"#E5ECF6\",\"gridcolor\":\"white\",\"linecolor\":\"white\",\"showbackground\":true,\"ticks\":\"\",\"zerolinecolor\":\"white\",\"gridwidth\":2},\"zaxis\":{\"backgroundcolor\":\"#E5ECF6\",\"gridcolor\":\"white\",\"linecolor\":\"white\",\"showbackground\":true,\"ticks\":\"\",\"zerolinecolor\":\"white\",\"gridwidth\":2}},\"shapedefaults\":{\"line\":{\"color\":\"#2a3f5f\"}},\"annotationdefaults\":{\"arrowcolor\":\"#2a3f5f\",\"arrowhead\":0,\"arrowwidth\":1},\"geo\":{\"bgcolor\":\"white\",\"landcolor\":\"#E5ECF6\",\"subunitcolor\":\"white\",\"showland\":true,\"showlakes\":true,\"lakecolor\":\"white\"},\"title\":{\"x\":0.05},\"mapbox\":{\"style\":\"light\"}}},\"xaxis\":{\"anchor\":\"y\",\"domain\":[0.0,1.0],\"title\":{\"text\":\"Weeks\"}},\"yaxis\":{\"anchor\":\"x\",\"domain\":[0.0,1.0],\"title\":{\"text\":\"value\"}},\"legend\":{\"title\":{\"text\":\"variable\"},\"tracegroupgap\":0},\"margin\":{\"t\":60}},                        {\"responsive\": true}                    ).then(function(){\n",
              "                            \n",
              "var gd = document.getElementById('ea54edf8-bbd6-4aa2-931f-8aa3397f8940');\n",
              "var x = new MutationObserver(function (mutations, observer) {{\n",
              "        var display = window.getComputedStyle(gd).display;\n",
              "        if (!display || display === 'none') {{\n",
              "            console.log([gd, 'removed!']);\n",
              "            Plotly.purge(gd);\n",
              "            observer.disconnect();\n",
              "        }}\n",
              "}});\n",
              "\n",
              "// Listen for the removal of the full notebook cells\n",
              "var notebookContainer = gd.closest('#notebook-container');\n",
              "if (notebookContainer) {{\n",
              "    x.observe(notebookContainer, {childList: true});\n",
              "}}\n",
              "\n",
              "// Listen for the clearing of the current output cell\n",
              "var outputEl = gd.closest('.output');\n",
              "if (outputEl) {{\n",
              "    x.observe(outputEl, {childList: true});\n",
              "}}\n",
              "\n",
              "                        })                };                            </script>        </div>\n",
              "</body>\n",
              "</html>"
            ]
          },
          "metadata": {}
        }
      ]
    },
    {
      "cell_type": "markdown",
      "source": [
        "<h2> 4) There is a repeating cycle of realization, joy and curiosity:"
      ],
      "metadata": {
        "id": "nNzszPkYIKnO"
      }
    },
    {
      "cell_type": "code",
      "source": [
        "px.line(movement,x='Weeks',y=[ 'realization','curiosity','joy'])"
      ],
      "metadata": {
        "colab": {
          "base_uri": "https://localhost:8080/",
          "height": 542
        },
        "id": "dLdqFxjtaq4B",
        "outputId": "59ead2a7-86a4-45e5-b1a6-9d7005664a0b"
      },
      "execution_count": null,
      "outputs": [
        {
          "output_type": "display_data",
          "data": {
            "text/html": [
              "<html>\n",
              "<head><meta charset=\"utf-8\" /></head>\n",
              "<body>\n",
              "    <div>            <script src=\"https://cdnjs.cloudflare.com/ajax/libs/mathjax/2.7.5/MathJax.js?config=TeX-AMS-MML_SVG\"></script><script type=\"text/javascript\">if (window.MathJax && window.MathJax.Hub && window.MathJax.Hub.Config) {window.MathJax.Hub.Config({SVG: {font: \"STIX-Web\"}});}</script>                <script type=\"text/javascript\">window.PlotlyConfig = {MathJaxConfig: 'local'};</script>\n",
              "        <script charset=\"utf-8\" src=\"https://cdn.plot.ly/plotly-2.24.1.min.js\"></script>                <div id=\"63ae79fc-b973-4c9c-9600-4c7ae990b7d2\" class=\"plotly-graph-div\" style=\"height:525px; width:100%;\"></div>            <script type=\"text/javascript\">                                    window.PLOTLYENV=window.PLOTLYENV || {};                                    if (document.getElementById(\"63ae79fc-b973-4c9c-9600-4c7ae990b7d2\")) {                    Plotly.newPlot(                        \"63ae79fc-b973-4c9c-9600-4c7ae990b7d2\",                        [{\"hovertemplate\":\"variable=realization\\u003cbr\\u003eWeeks=%{x}\\u003cbr\\u003evalue=%{y}\\u003cextra\\u003e\\u003c\\u002fextra\\u003e\",\"legendgroup\":\"realization\",\"line\":{\"color\":\"#636efa\",\"dash\":\"solid\"},\"marker\":{\"symbol\":\"circle\"},\"mode\":\"lines\",\"name\":\"realization\",\"orientation\":\"v\",\"showlegend\":true,\"x\":[0,1,2,3,4,5,6,7,8,9,10,11,12,13,14,15,16,17,18,19,20,21,22,23,24,25,26,27,28],\"xaxis\":\"x\",\"y\":[0.0,0.0,0.0,0.14976370334625244,0.0,0.6755382418632507,0.6141150593757629,0.5605502724647522,0.43344882130622864,0.1657869517803192,0.07749269902706146,0.0,0.08850783854722977,0.0,0.10750539600849152,0.25431713461875916,0.10682670772075653,0.04600665718317032,0.0,0.0,0.0,0.0,0.03892475366592407,0.15509162843227386,0.08651875704526901,0.08332955837249756,0.0,0.0,0.0],\"yaxis\":\"y\",\"type\":\"scatter\"},{\"hovertemplate\":\"variable=curiosity\\u003cbr\\u003eWeeks=%{x}\\u003cbr\\u003evalue=%{y}\\u003cextra\\u003e\\u003c\\u002fextra\\u003e\",\"legendgroup\":\"curiosity\",\"line\":{\"color\":\"#EF553B\",\"dash\":\"solid\"},\"marker\":{\"symbol\":\"circle\"},\"mode\":\"lines\",\"name\":\"curiosity\",\"orientation\":\"v\",\"showlegend\":true,\"x\":[0,1,2,3,4,5,6,7,8,9,10,11,12,13,14,15,16,17,18,19,20,21,22,23,24,25,26,27,28],\"xaxis\":\"x\",\"y\":[0.0,0.0,0.0,0.0,0.0,0.0,0.0,0.0,0.0,0.0,0.0,0.17300981283187866,0.1983439177274704,0.14550282061100006,0.0,0.0,0.0,0.0,0.12239664793014526,0.1984013020992279,0.2034003883600235,0.0,0.0,0.0,0.0657743364572525,0.0,0.14606939256191254,0.0,0.0],\"yaxis\":\"y\",\"type\":\"scatter\"},{\"hovertemplate\":\"variable=joy\\u003cbr\\u003eWeeks=%{x}\\u003cbr\\u003evalue=%{y}\\u003cextra\\u003e\\u003c\\u002fextra\\u003e\",\"legendgroup\":\"joy\",\"line\":{\"color\":\"#00cc96\",\"dash\":\"solid\"},\"marker\":{\"symbol\":\"circle\"},\"mode\":\"lines\",\"name\":\"joy\",\"orientation\":\"v\",\"showlegend\":true,\"x\":[0,1,2,3,4,5,6,7,8,9,10,11,12,13,14,15,16,17,18,19,20,21,22,23,24,25,26,27,28],\"xaxis\":\"x\",\"y\":[0.0,0.0,0.0,0.0,0.0,0.0,0.0,0.0,0.0,0.25286534428596497,0.41097068786621094,0.21451468765735626,0.0,0.0,0.0,0.0,0.28273805975914,0.6962324380874634,0.2978111803531647,0.0,0.0,0.0,0.0,0.0,0.0,0.09815551340579987,0.26109573245048523,0.09055507928133011,0.0],\"yaxis\":\"y\",\"type\":\"scatter\"}],                        {\"template\":{\"data\":{\"histogram2dcontour\":[{\"type\":\"histogram2dcontour\",\"colorbar\":{\"outlinewidth\":0,\"ticks\":\"\"},\"colorscale\":[[0.0,\"#0d0887\"],[0.1111111111111111,\"#46039f\"],[0.2222222222222222,\"#7201a8\"],[0.3333333333333333,\"#9c179e\"],[0.4444444444444444,\"#bd3786\"],[0.5555555555555556,\"#d8576b\"],[0.6666666666666666,\"#ed7953\"],[0.7777777777777778,\"#fb9f3a\"],[0.8888888888888888,\"#fdca26\"],[1.0,\"#f0f921\"]]}],\"choropleth\":[{\"type\":\"choropleth\",\"colorbar\":{\"outlinewidth\":0,\"ticks\":\"\"}}],\"histogram2d\":[{\"type\":\"histogram2d\",\"colorbar\":{\"outlinewidth\":0,\"ticks\":\"\"},\"colorscale\":[[0.0,\"#0d0887\"],[0.1111111111111111,\"#46039f\"],[0.2222222222222222,\"#7201a8\"],[0.3333333333333333,\"#9c179e\"],[0.4444444444444444,\"#bd3786\"],[0.5555555555555556,\"#d8576b\"],[0.6666666666666666,\"#ed7953\"],[0.7777777777777778,\"#fb9f3a\"],[0.8888888888888888,\"#fdca26\"],[1.0,\"#f0f921\"]]}],\"heatmap\":[{\"type\":\"heatmap\",\"colorbar\":{\"outlinewidth\":0,\"ticks\":\"\"},\"colorscale\":[[0.0,\"#0d0887\"],[0.1111111111111111,\"#46039f\"],[0.2222222222222222,\"#7201a8\"],[0.3333333333333333,\"#9c179e\"],[0.4444444444444444,\"#bd3786\"],[0.5555555555555556,\"#d8576b\"],[0.6666666666666666,\"#ed7953\"],[0.7777777777777778,\"#fb9f3a\"],[0.8888888888888888,\"#fdca26\"],[1.0,\"#f0f921\"]]}],\"heatmapgl\":[{\"type\":\"heatmapgl\",\"colorbar\":{\"outlinewidth\":0,\"ticks\":\"\"},\"colorscale\":[[0.0,\"#0d0887\"],[0.1111111111111111,\"#46039f\"],[0.2222222222222222,\"#7201a8\"],[0.3333333333333333,\"#9c179e\"],[0.4444444444444444,\"#bd3786\"],[0.5555555555555556,\"#d8576b\"],[0.6666666666666666,\"#ed7953\"],[0.7777777777777778,\"#fb9f3a\"],[0.8888888888888888,\"#fdca26\"],[1.0,\"#f0f921\"]]}],\"contourcarpet\":[{\"type\":\"contourcarpet\",\"colorbar\":{\"outlinewidth\":0,\"ticks\":\"\"}}],\"contour\":[{\"type\":\"contour\",\"colorbar\":{\"outlinewidth\":0,\"ticks\":\"\"},\"colorscale\":[[0.0,\"#0d0887\"],[0.1111111111111111,\"#46039f\"],[0.2222222222222222,\"#7201a8\"],[0.3333333333333333,\"#9c179e\"],[0.4444444444444444,\"#bd3786\"],[0.5555555555555556,\"#d8576b\"],[0.6666666666666666,\"#ed7953\"],[0.7777777777777778,\"#fb9f3a\"],[0.8888888888888888,\"#fdca26\"],[1.0,\"#f0f921\"]]}],\"surface\":[{\"type\":\"surface\",\"colorbar\":{\"outlinewidth\":0,\"ticks\":\"\"},\"colorscale\":[[0.0,\"#0d0887\"],[0.1111111111111111,\"#46039f\"],[0.2222222222222222,\"#7201a8\"],[0.3333333333333333,\"#9c179e\"],[0.4444444444444444,\"#bd3786\"],[0.5555555555555556,\"#d8576b\"],[0.6666666666666666,\"#ed7953\"],[0.7777777777777778,\"#fb9f3a\"],[0.8888888888888888,\"#fdca26\"],[1.0,\"#f0f921\"]]}],\"mesh3d\":[{\"type\":\"mesh3d\",\"colorbar\":{\"outlinewidth\":0,\"ticks\":\"\"}}],\"scatter\":[{\"fillpattern\":{\"fillmode\":\"overlay\",\"size\":10,\"solidity\":0.2},\"type\":\"scatter\"}],\"parcoords\":[{\"type\":\"parcoords\",\"line\":{\"colorbar\":{\"outlinewidth\":0,\"ticks\":\"\"}}}],\"scatterpolargl\":[{\"type\":\"scatterpolargl\",\"marker\":{\"colorbar\":{\"outlinewidth\":0,\"ticks\":\"\"}}}],\"bar\":[{\"error_x\":{\"color\":\"#2a3f5f\"},\"error_y\":{\"color\":\"#2a3f5f\"},\"marker\":{\"line\":{\"color\":\"#E5ECF6\",\"width\":0.5},\"pattern\":{\"fillmode\":\"overlay\",\"size\":10,\"solidity\":0.2}},\"type\":\"bar\"}],\"scattergeo\":[{\"type\":\"scattergeo\",\"marker\":{\"colorbar\":{\"outlinewidth\":0,\"ticks\":\"\"}}}],\"scatterpolar\":[{\"type\":\"scatterpolar\",\"marker\":{\"colorbar\":{\"outlinewidth\":0,\"ticks\":\"\"}}}],\"histogram\":[{\"marker\":{\"pattern\":{\"fillmode\":\"overlay\",\"size\":10,\"solidity\":0.2}},\"type\":\"histogram\"}],\"scattergl\":[{\"type\":\"scattergl\",\"marker\":{\"colorbar\":{\"outlinewidth\":0,\"ticks\":\"\"}}}],\"scatter3d\":[{\"type\":\"scatter3d\",\"line\":{\"colorbar\":{\"outlinewidth\":0,\"ticks\":\"\"}},\"marker\":{\"colorbar\":{\"outlinewidth\":0,\"ticks\":\"\"}}}],\"scattermapbox\":[{\"type\":\"scattermapbox\",\"marker\":{\"colorbar\":{\"outlinewidth\":0,\"ticks\":\"\"}}}],\"scatterternary\":[{\"type\":\"scatterternary\",\"marker\":{\"colorbar\":{\"outlinewidth\":0,\"ticks\":\"\"}}}],\"scattercarpet\":[{\"type\":\"scattercarpet\",\"marker\":{\"colorbar\":{\"outlinewidth\":0,\"ticks\":\"\"}}}],\"carpet\":[{\"aaxis\":{\"endlinecolor\":\"#2a3f5f\",\"gridcolor\":\"white\",\"linecolor\":\"white\",\"minorgridcolor\":\"white\",\"startlinecolor\":\"#2a3f5f\"},\"baxis\":{\"endlinecolor\":\"#2a3f5f\",\"gridcolor\":\"white\",\"linecolor\":\"white\",\"minorgridcolor\":\"white\",\"startlinecolor\":\"#2a3f5f\"},\"type\":\"carpet\"}],\"table\":[{\"cells\":{\"fill\":{\"color\":\"#EBF0F8\"},\"line\":{\"color\":\"white\"}},\"header\":{\"fill\":{\"color\":\"#C8D4E3\"},\"line\":{\"color\":\"white\"}},\"type\":\"table\"}],\"barpolar\":[{\"marker\":{\"line\":{\"color\":\"#E5ECF6\",\"width\":0.5},\"pattern\":{\"fillmode\":\"overlay\",\"size\":10,\"solidity\":0.2}},\"type\":\"barpolar\"}],\"pie\":[{\"automargin\":true,\"type\":\"pie\"}]},\"layout\":{\"autotypenumbers\":\"strict\",\"colorway\":[\"#636efa\",\"#EF553B\",\"#00cc96\",\"#ab63fa\",\"#FFA15A\",\"#19d3f3\",\"#FF6692\",\"#B6E880\",\"#FF97FF\",\"#FECB52\"],\"font\":{\"color\":\"#2a3f5f\"},\"hovermode\":\"closest\",\"hoverlabel\":{\"align\":\"left\"},\"paper_bgcolor\":\"white\",\"plot_bgcolor\":\"#E5ECF6\",\"polar\":{\"bgcolor\":\"#E5ECF6\",\"angularaxis\":{\"gridcolor\":\"white\",\"linecolor\":\"white\",\"ticks\":\"\"},\"radialaxis\":{\"gridcolor\":\"white\",\"linecolor\":\"white\",\"ticks\":\"\"}},\"ternary\":{\"bgcolor\":\"#E5ECF6\",\"aaxis\":{\"gridcolor\":\"white\",\"linecolor\":\"white\",\"ticks\":\"\"},\"baxis\":{\"gridcolor\":\"white\",\"linecolor\":\"white\",\"ticks\":\"\"},\"caxis\":{\"gridcolor\":\"white\",\"linecolor\":\"white\",\"ticks\":\"\"}},\"coloraxis\":{\"colorbar\":{\"outlinewidth\":0,\"ticks\":\"\"}},\"colorscale\":{\"sequential\":[[0.0,\"#0d0887\"],[0.1111111111111111,\"#46039f\"],[0.2222222222222222,\"#7201a8\"],[0.3333333333333333,\"#9c179e\"],[0.4444444444444444,\"#bd3786\"],[0.5555555555555556,\"#d8576b\"],[0.6666666666666666,\"#ed7953\"],[0.7777777777777778,\"#fb9f3a\"],[0.8888888888888888,\"#fdca26\"],[1.0,\"#f0f921\"]],\"sequentialminus\":[[0.0,\"#0d0887\"],[0.1111111111111111,\"#46039f\"],[0.2222222222222222,\"#7201a8\"],[0.3333333333333333,\"#9c179e\"],[0.4444444444444444,\"#bd3786\"],[0.5555555555555556,\"#d8576b\"],[0.6666666666666666,\"#ed7953\"],[0.7777777777777778,\"#fb9f3a\"],[0.8888888888888888,\"#fdca26\"],[1.0,\"#f0f921\"]],\"diverging\":[[0,\"#8e0152\"],[0.1,\"#c51b7d\"],[0.2,\"#de77ae\"],[0.3,\"#f1b6da\"],[0.4,\"#fde0ef\"],[0.5,\"#f7f7f7\"],[0.6,\"#e6f5d0\"],[0.7,\"#b8e186\"],[0.8,\"#7fbc41\"],[0.9,\"#4d9221\"],[1,\"#276419\"]]},\"xaxis\":{\"gridcolor\":\"white\",\"linecolor\":\"white\",\"ticks\":\"\",\"title\":{\"standoff\":15},\"zerolinecolor\":\"white\",\"automargin\":true,\"zerolinewidth\":2},\"yaxis\":{\"gridcolor\":\"white\",\"linecolor\":\"white\",\"ticks\":\"\",\"title\":{\"standoff\":15},\"zerolinecolor\":\"white\",\"automargin\":true,\"zerolinewidth\":2},\"scene\":{\"xaxis\":{\"backgroundcolor\":\"#E5ECF6\",\"gridcolor\":\"white\",\"linecolor\":\"white\",\"showbackground\":true,\"ticks\":\"\",\"zerolinecolor\":\"white\",\"gridwidth\":2},\"yaxis\":{\"backgroundcolor\":\"#E5ECF6\",\"gridcolor\":\"white\",\"linecolor\":\"white\",\"showbackground\":true,\"ticks\":\"\",\"zerolinecolor\":\"white\",\"gridwidth\":2},\"zaxis\":{\"backgroundcolor\":\"#E5ECF6\",\"gridcolor\":\"white\",\"linecolor\":\"white\",\"showbackground\":true,\"ticks\":\"\",\"zerolinecolor\":\"white\",\"gridwidth\":2}},\"shapedefaults\":{\"line\":{\"color\":\"#2a3f5f\"}},\"annotationdefaults\":{\"arrowcolor\":\"#2a3f5f\",\"arrowhead\":0,\"arrowwidth\":1},\"geo\":{\"bgcolor\":\"white\",\"landcolor\":\"#E5ECF6\",\"subunitcolor\":\"white\",\"showland\":true,\"showlakes\":true,\"lakecolor\":\"white\"},\"title\":{\"x\":0.05},\"mapbox\":{\"style\":\"light\"}}},\"xaxis\":{\"anchor\":\"y\",\"domain\":[0.0,1.0],\"title\":{\"text\":\"Weeks\"}},\"yaxis\":{\"anchor\":\"x\",\"domain\":[0.0,1.0],\"title\":{\"text\":\"value\"}},\"legend\":{\"title\":{\"text\":\"variable\"},\"tracegroupgap\":0},\"margin\":{\"t\":60}},                        {\"responsive\": true}                    ).then(function(){\n",
              "                            \n",
              "var gd = document.getElementById('63ae79fc-b973-4c9c-9600-4c7ae990b7d2');\n",
              "var x = new MutationObserver(function (mutations, observer) {{\n",
              "        var display = window.getComputedStyle(gd).display;\n",
              "        if (!display || display === 'none') {{\n",
              "            console.log([gd, 'removed!']);\n",
              "            Plotly.purge(gd);\n",
              "            observer.disconnect();\n",
              "        }}\n",
              "}});\n",
              "\n",
              "// Listen for the removal of the full notebook cells\n",
              "var notebookContainer = gd.closest('#notebook-container');\n",
              "if (notebookContainer) {{\n",
              "    x.observe(notebookContainer, {childList: true});\n",
              "}}\n",
              "\n",
              "// Listen for the clearing of the current output cell\n",
              "var outputEl = gd.closest('.output');\n",
              "if (outputEl) {{\n",
              "    x.observe(outputEl, {childList: true});\n",
              "}}\n",
              "\n",
              "                        })                };                            </script>        </div>\n",
              "</body>\n",
              "</html>"
            ]
          },
          "metadata": {}
        }
      ]
    },
    {
      "cell_type": "markdown",
      "source": [
        "<h2> 5) A general upwards trend of approval:"
      ],
      "metadata": {
        "id": "LbG725m1IZBe"
      }
    },
    {
      "cell_type": "code",
      "source": [
        "\n",
        "px.line(movement,x='Weeks',y='approval')\n"
      ],
      "metadata": {
        "colab": {
          "base_uri": "https://localhost:8080/",
          "height": 542
        },
        "id": "lU8kxd69bGGk",
        "outputId": "cc2d5766-2934-47c4-b869-7ee408130f2e"
      },
      "execution_count": null,
      "outputs": [
        {
          "output_type": "display_data",
          "data": {
            "text/html": [
              "<html>\n",
              "<head><meta charset=\"utf-8\" /></head>\n",
              "<body>\n",
              "    <div>            <script src=\"https://cdnjs.cloudflare.com/ajax/libs/mathjax/2.7.5/MathJax.js?config=TeX-AMS-MML_SVG\"></script><script type=\"text/javascript\">if (window.MathJax && window.MathJax.Hub && window.MathJax.Hub.Config) {window.MathJax.Hub.Config({SVG: {font: \"STIX-Web\"}});}</script>                <script type=\"text/javascript\">window.PlotlyConfig = {MathJaxConfig: 'local'};</script>\n",
              "        <script charset=\"utf-8\" src=\"https://cdn.plot.ly/plotly-2.24.1.min.js\"></script>                <div id=\"ab594c59-d375-418a-99f8-c45cdc4ba407\" class=\"plotly-graph-div\" style=\"height:525px; width:100%;\"></div>            <script type=\"text/javascript\">                                    window.PLOTLYENV=window.PLOTLYENV || {};                                    if (document.getElementById(\"ab594c59-d375-418a-99f8-c45cdc4ba407\")) {                    Plotly.newPlot(                        \"ab594c59-d375-418a-99f8-c45cdc4ba407\",                        [{\"hovertemplate\":\"Weeks=%{x}\\u003cbr\\u003eapproval=%{y}\\u003cextra\\u003e\\u003c\\u002fextra\\u003e\",\"legendgroup\":\"\",\"line\":{\"color\":\"#636efa\",\"dash\":\"solid\"},\"marker\":{\"symbol\":\"circle\"},\"mode\":\"lines\",\"name\":\"\",\"orientation\":\"v\",\"showlegend\":false,\"x\":[0,1,2,3,4,5,6,7,8,9,10,11,12,13,14,15,16,17,18,19,20,21,22,23,24,25,26,27,28],\"xaxis\":\"x\",\"y\":[0.0,0.0,0.0,0.0,0.0,0.13182607293128967,0.16706541180610657,0.2549683451652527,0.19947178661823273,0.19378384947776794,0.09156697988510132,0.10627415776252747,0.16327472031116486,0.11106977611780167,0.18396592140197754,0.15459635853767395,0.2550007104873657,0.21150176227092743,0.22441977262496948,0.25677362084388733,0.2655808627605438,0.08711544424295425,0.10511057078838348,0.15968665480613708,0.35706213116645813,0.39739635586738586,0.24712637066841125,0.14204199612140656,0.37780675292015076],\"yaxis\":\"y\",\"type\":\"scatter\"}],                        {\"template\":{\"data\":{\"histogram2dcontour\":[{\"type\":\"histogram2dcontour\",\"colorbar\":{\"outlinewidth\":0,\"ticks\":\"\"},\"colorscale\":[[0.0,\"#0d0887\"],[0.1111111111111111,\"#46039f\"],[0.2222222222222222,\"#7201a8\"],[0.3333333333333333,\"#9c179e\"],[0.4444444444444444,\"#bd3786\"],[0.5555555555555556,\"#d8576b\"],[0.6666666666666666,\"#ed7953\"],[0.7777777777777778,\"#fb9f3a\"],[0.8888888888888888,\"#fdca26\"],[1.0,\"#f0f921\"]]}],\"choropleth\":[{\"type\":\"choropleth\",\"colorbar\":{\"outlinewidth\":0,\"ticks\":\"\"}}],\"histogram2d\":[{\"type\":\"histogram2d\",\"colorbar\":{\"outlinewidth\":0,\"ticks\":\"\"},\"colorscale\":[[0.0,\"#0d0887\"],[0.1111111111111111,\"#46039f\"],[0.2222222222222222,\"#7201a8\"],[0.3333333333333333,\"#9c179e\"],[0.4444444444444444,\"#bd3786\"],[0.5555555555555556,\"#d8576b\"],[0.6666666666666666,\"#ed7953\"],[0.7777777777777778,\"#fb9f3a\"],[0.8888888888888888,\"#fdca26\"],[1.0,\"#f0f921\"]]}],\"heatmap\":[{\"type\":\"heatmap\",\"colorbar\":{\"outlinewidth\":0,\"ticks\":\"\"},\"colorscale\":[[0.0,\"#0d0887\"],[0.1111111111111111,\"#46039f\"],[0.2222222222222222,\"#7201a8\"],[0.3333333333333333,\"#9c179e\"],[0.4444444444444444,\"#bd3786\"],[0.5555555555555556,\"#d8576b\"],[0.6666666666666666,\"#ed7953\"],[0.7777777777777778,\"#fb9f3a\"],[0.8888888888888888,\"#fdca26\"],[1.0,\"#f0f921\"]]}],\"heatmapgl\":[{\"type\":\"heatmapgl\",\"colorbar\":{\"outlinewidth\":0,\"ticks\":\"\"},\"colorscale\":[[0.0,\"#0d0887\"],[0.1111111111111111,\"#46039f\"],[0.2222222222222222,\"#7201a8\"],[0.3333333333333333,\"#9c179e\"],[0.4444444444444444,\"#bd3786\"],[0.5555555555555556,\"#d8576b\"],[0.6666666666666666,\"#ed7953\"],[0.7777777777777778,\"#fb9f3a\"],[0.8888888888888888,\"#fdca26\"],[1.0,\"#f0f921\"]]}],\"contourcarpet\":[{\"type\":\"contourcarpet\",\"colorbar\":{\"outlinewidth\":0,\"ticks\":\"\"}}],\"contour\":[{\"type\":\"contour\",\"colorbar\":{\"outlinewidth\":0,\"ticks\":\"\"},\"colorscale\":[[0.0,\"#0d0887\"],[0.1111111111111111,\"#46039f\"],[0.2222222222222222,\"#7201a8\"],[0.3333333333333333,\"#9c179e\"],[0.4444444444444444,\"#bd3786\"],[0.5555555555555556,\"#d8576b\"],[0.6666666666666666,\"#ed7953\"],[0.7777777777777778,\"#fb9f3a\"],[0.8888888888888888,\"#fdca26\"],[1.0,\"#f0f921\"]]}],\"surface\":[{\"type\":\"surface\",\"colorbar\":{\"outlinewidth\":0,\"ticks\":\"\"},\"colorscale\":[[0.0,\"#0d0887\"],[0.1111111111111111,\"#46039f\"],[0.2222222222222222,\"#7201a8\"],[0.3333333333333333,\"#9c179e\"],[0.4444444444444444,\"#bd3786\"],[0.5555555555555556,\"#d8576b\"],[0.6666666666666666,\"#ed7953\"],[0.7777777777777778,\"#fb9f3a\"],[0.8888888888888888,\"#fdca26\"],[1.0,\"#f0f921\"]]}],\"mesh3d\":[{\"type\":\"mesh3d\",\"colorbar\":{\"outlinewidth\":0,\"ticks\":\"\"}}],\"scatter\":[{\"fillpattern\":{\"fillmode\":\"overlay\",\"size\":10,\"solidity\":0.2},\"type\":\"scatter\"}],\"parcoords\":[{\"type\":\"parcoords\",\"line\":{\"colorbar\":{\"outlinewidth\":0,\"ticks\":\"\"}}}],\"scatterpolargl\":[{\"type\":\"scatterpolargl\",\"marker\":{\"colorbar\":{\"outlinewidth\":0,\"ticks\":\"\"}}}],\"bar\":[{\"error_x\":{\"color\":\"#2a3f5f\"},\"error_y\":{\"color\":\"#2a3f5f\"},\"marker\":{\"line\":{\"color\":\"#E5ECF6\",\"width\":0.5},\"pattern\":{\"fillmode\":\"overlay\",\"size\":10,\"solidity\":0.2}},\"type\":\"bar\"}],\"scattergeo\":[{\"type\":\"scattergeo\",\"marker\":{\"colorbar\":{\"outlinewidth\":0,\"ticks\":\"\"}}}],\"scatterpolar\":[{\"type\":\"scatterpolar\",\"marker\":{\"colorbar\":{\"outlinewidth\":0,\"ticks\":\"\"}}}],\"histogram\":[{\"marker\":{\"pattern\":{\"fillmode\":\"overlay\",\"size\":10,\"solidity\":0.2}},\"type\":\"histogram\"}],\"scattergl\":[{\"type\":\"scattergl\",\"marker\":{\"colorbar\":{\"outlinewidth\":0,\"ticks\":\"\"}}}],\"scatter3d\":[{\"type\":\"scatter3d\",\"line\":{\"colorbar\":{\"outlinewidth\":0,\"ticks\":\"\"}},\"marker\":{\"colorbar\":{\"outlinewidth\":0,\"ticks\":\"\"}}}],\"scattermapbox\":[{\"type\":\"scattermapbox\",\"marker\":{\"colorbar\":{\"outlinewidth\":0,\"ticks\":\"\"}}}],\"scatterternary\":[{\"type\":\"scatterternary\",\"marker\":{\"colorbar\":{\"outlinewidth\":0,\"ticks\":\"\"}}}],\"scattercarpet\":[{\"type\":\"scattercarpet\",\"marker\":{\"colorbar\":{\"outlinewidth\":0,\"ticks\":\"\"}}}],\"carpet\":[{\"aaxis\":{\"endlinecolor\":\"#2a3f5f\",\"gridcolor\":\"white\",\"linecolor\":\"white\",\"minorgridcolor\":\"white\",\"startlinecolor\":\"#2a3f5f\"},\"baxis\":{\"endlinecolor\":\"#2a3f5f\",\"gridcolor\":\"white\",\"linecolor\":\"white\",\"minorgridcolor\":\"white\",\"startlinecolor\":\"#2a3f5f\"},\"type\":\"carpet\"}],\"table\":[{\"cells\":{\"fill\":{\"color\":\"#EBF0F8\"},\"line\":{\"color\":\"white\"}},\"header\":{\"fill\":{\"color\":\"#C8D4E3\"},\"line\":{\"color\":\"white\"}},\"type\":\"table\"}],\"barpolar\":[{\"marker\":{\"line\":{\"color\":\"#E5ECF6\",\"width\":0.5},\"pattern\":{\"fillmode\":\"overlay\",\"size\":10,\"solidity\":0.2}},\"type\":\"barpolar\"}],\"pie\":[{\"automargin\":true,\"type\":\"pie\"}]},\"layout\":{\"autotypenumbers\":\"strict\",\"colorway\":[\"#636efa\",\"#EF553B\",\"#00cc96\",\"#ab63fa\",\"#FFA15A\",\"#19d3f3\",\"#FF6692\",\"#B6E880\",\"#FF97FF\",\"#FECB52\"],\"font\":{\"color\":\"#2a3f5f\"},\"hovermode\":\"closest\",\"hoverlabel\":{\"align\":\"left\"},\"paper_bgcolor\":\"white\",\"plot_bgcolor\":\"#E5ECF6\",\"polar\":{\"bgcolor\":\"#E5ECF6\",\"angularaxis\":{\"gridcolor\":\"white\",\"linecolor\":\"white\",\"ticks\":\"\"},\"radialaxis\":{\"gridcolor\":\"white\",\"linecolor\":\"white\",\"ticks\":\"\"}},\"ternary\":{\"bgcolor\":\"#E5ECF6\",\"aaxis\":{\"gridcolor\":\"white\",\"linecolor\":\"white\",\"ticks\":\"\"},\"baxis\":{\"gridcolor\":\"white\",\"linecolor\":\"white\",\"ticks\":\"\"},\"caxis\":{\"gridcolor\":\"white\",\"linecolor\":\"white\",\"ticks\":\"\"}},\"coloraxis\":{\"colorbar\":{\"outlinewidth\":0,\"ticks\":\"\"}},\"colorscale\":{\"sequential\":[[0.0,\"#0d0887\"],[0.1111111111111111,\"#46039f\"],[0.2222222222222222,\"#7201a8\"],[0.3333333333333333,\"#9c179e\"],[0.4444444444444444,\"#bd3786\"],[0.5555555555555556,\"#d8576b\"],[0.6666666666666666,\"#ed7953\"],[0.7777777777777778,\"#fb9f3a\"],[0.8888888888888888,\"#fdca26\"],[1.0,\"#f0f921\"]],\"sequentialminus\":[[0.0,\"#0d0887\"],[0.1111111111111111,\"#46039f\"],[0.2222222222222222,\"#7201a8\"],[0.3333333333333333,\"#9c179e\"],[0.4444444444444444,\"#bd3786\"],[0.5555555555555556,\"#d8576b\"],[0.6666666666666666,\"#ed7953\"],[0.7777777777777778,\"#fb9f3a\"],[0.8888888888888888,\"#fdca26\"],[1.0,\"#f0f921\"]],\"diverging\":[[0,\"#8e0152\"],[0.1,\"#c51b7d\"],[0.2,\"#de77ae\"],[0.3,\"#f1b6da\"],[0.4,\"#fde0ef\"],[0.5,\"#f7f7f7\"],[0.6,\"#e6f5d0\"],[0.7,\"#b8e186\"],[0.8,\"#7fbc41\"],[0.9,\"#4d9221\"],[1,\"#276419\"]]},\"xaxis\":{\"gridcolor\":\"white\",\"linecolor\":\"white\",\"ticks\":\"\",\"title\":{\"standoff\":15},\"zerolinecolor\":\"white\",\"automargin\":true,\"zerolinewidth\":2},\"yaxis\":{\"gridcolor\":\"white\",\"linecolor\":\"white\",\"ticks\":\"\",\"title\":{\"standoff\":15},\"zerolinecolor\":\"white\",\"automargin\":true,\"zerolinewidth\":2},\"scene\":{\"xaxis\":{\"backgroundcolor\":\"#E5ECF6\",\"gridcolor\":\"white\",\"linecolor\":\"white\",\"showbackground\":true,\"ticks\":\"\",\"zerolinecolor\":\"white\",\"gridwidth\":2},\"yaxis\":{\"backgroundcolor\":\"#E5ECF6\",\"gridcolor\":\"white\",\"linecolor\":\"white\",\"showbackground\":true,\"ticks\":\"\",\"zerolinecolor\":\"white\",\"gridwidth\":2},\"zaxis\":{\"backgroundcolor\":\"#E5ECF6\",\"gridcolor\":\"white\",\"linecolor\":\"white\",\"showbackground\":true,\"ticks\":\"\",\"zerolinecolor\":\"white\",\"gridwidth\":2}},\"shapedefaults\":{\"line\":{\"color\":\"#2a3f5f\"}},\"annotationdefaults\":{\"arrowcolor\":\"#2a3f5f\",\"arrowhead\":0,\"arrowwidth\":1},\"geo\":{\"bgcolor\":\"white\",\"landcolor\":\"#E5ECF6\",\"subunitcolor\":\"white\",\"showland\":true,\"showlakes\":true,\"lakecolor\":\"white\"},\"title\":{\"x\":0.05},\"mapbox\":{\"style\":\"light\"}}},\"xaxis\":{\"anchor\":\"y\",\"domain\":[0.0,1.0],\"title\":{\"text\":\"Weeks\"}},\"yaxis\":{\"anchor\":\"x\",\"domain\":[0.0,1.0],\"title\":{\"text\":\"approval\"}},\"legend\":{\"tracegroupgap\":0},\"margin\":{\"t\":60}},                        {\"responsive\": true}                    ).then(function(){\n",
              "                            \n",
              "var gd = document.getElementById('ab594c59-d375-418a-99f8-c45cdc4ba407');\n",
              "var x = new MutationObserver(function (mutations, observer) {{\n",
              "        var display = window.getComputedStyle(gd).display;\n",
              "        if (!display || display === 'none') {{\n",
              "            console.log([gd, 'removed!']);\n",
              "            Plotly.purge(gd);\n",
              "            observer.disconnect();\n",
              "        }}\n",
              "}});\n",
              "\n",
              "// Listen for the removal of the full notebook cells\n",
              "var notebookContainer = gd.closest('#notebook-container');\n",
              "if (notebookContainer) {{\n",
              "    x.observe(notebookContainer, {childList: true});\n",
              "}}\n",
              "\n",
              "// Listen for the clearing of the current output cell\n",
              "var outputEl = gd.closest('.output');\n",
              "if (outputEl) {{\n",
              "    x.observe(outputEl, {childList: true});\n",
              "}}\n",
              "\n",
              "                        })                };                            </script>        </div>\n",
              "</body>\n",
              "</html>"
            ]
          },
          "metadata": {}
        }
      ]
    },
    {
      "cell_type": "markdown",
      "source": [
        "## Sentiments and Creativity\n",
        "\n",
        "Now i will look in which paragraphs are the tips located, and then compare it with the sentiments"
      ],
      "metadata": {
        "id": "aIZaIvFyIyZA"
      }
    },
    {
      "cell_type": "markdown",
      "source": [
        "<h3> Remember the tips recomended by LLaMA2 in the previous section? lets use them!!"
      ],
      "metadata": {
        "id": "7G61dT1yJYL2"
      }
    },
    {
      "cell_type": "code",
      "source": [
        "tips=['''Write in a foreign language''',\n",
        "      '''Ditch the expectations''',\n",
        "      '''Embrace simplicity''',\n",
        "      '''Seek inspiration''',\n",
        "      '''Practice translation''',\n",
        "      '''Trust the process''',\n",
        "      '''Embrace the unknown''']"
      ],
      "metadata": {
        "id": "1J10_H0DI23Q"
      },
      "execution_count": null,
      "outputs": []
    },
    {
      "cell_type": "code",
      "source": [
        "#i will get a zero shot classifier and you can guess the following steps\n",
        "classifier = pipeline(\"zero-shot-classification\",\n",
        "                      model=\"facebook/bart-large-mnli\")"
      ],
      "metadata": {
        "id": "tUNsFY8bJmIJ"
      },
      "execution_count": null,
      "outputs": []
    },
    {
      "cell_type": "code",
      "source": [
        "#as usual, lets use convolutions\n",
        "cassifications=[]\n",
        "for i in convolution(par_list, 3,2):\n",
        "  sequence_to_classify = '''\\n'''.join(i)\n",
        "\n",
        "  cassifications.append(classifier(sequence_to_classify, tips)['scores'])\n",
        "distances=torch.tensor(cassifications)\n"
      ],
      "metadata": {
        "id": "CRHopPV6Jxxd"
      },
      "execution_count": null,
      "outputs": []
    },
    {
      "cell_type": "markdown",
      "source": [
        "<h2> These are the main predictions of the tips locations:"
      ],
      "metadata": {
        "id": "X-pB6ExVJ9Yh"
      }
    },
    {
      "cell_type": "code",
      "source": [
        "tograph2=pd.DataFrame(distances.numpy()).reset_index()\n",
        "tograph2.columns=['Paragraph']+tips\n",
        "px.line(tograph2, x='Paragraph',y=tips)"
      ],
      "metadata": {
        "colab": {
          "base_uri": "https://localhost:8080/",
          "height": 542
        },
        "id": "quGfP7SeQVoT",
        "outputId": "4bba6edd-c865-45a6-dc9f-631c8233b10f"
      },
      "execution_count": null,
      "outputs": [
        {
          "output_type": "display_data",
          "data": {
            "text/html": [
              "<html>\n",
              "<head><meta charset=\"utf-8\" /></head>\n",
              "<body>\n",
              "    <div>            <script src=\"https://cdnjs.cloudflare.com/ajax/libs/mathjax/2.7.5/MathJax.js?config=TeX-AMS-MML_SVG\"></script><script type=\"text/javascript\">if (window.MathJax && window.MathJax.Hub && window.MathJax.Hub.Config) {window.MathJax.Hub.Config({SVG: {font: \"STIX-Web\"}});}</script>                <script type=\"text/javascript\">window.PlotlyConfig = {MathJaxConfig: 'local'};</script>\n",
              "        <script charset=\"utf-8\" src=\"https://cdn.plot.ly/plotly-2.24.1.min.js\"></script>                <div id=\"93911018-29f0-46c0-8c80-39c7fd6b74cb\" class=\"plotly-graph-div\" style=\"height:525px; width:100%;\"></div>            <script type=\"text/javascript\">                                    window.PLOTLYENV=window.PLOTLYENV || {};                                    if (document.getElementById(\"93911018-29f0-46c0-8c80-39c7fd6b74cb\")) {                    Plotly.newPlot(                        \"93911018-29f0-46c0-8c80-39c7fd6b74cb\",                        [{\"hovertemplate\":\"variable=Write in a foreign language\\u003cbr\\u003eParagraph=%{x}\\u003cbr\\u003evalue=%{y}\\u003cextra\\u003e\\u003c\\u002fextra\\u003e\",\"legendgroup\":\"Write in a foreign language\",\"line\":{\"color\":\"#636efa\",\"dash\":\"solid\"},\"marker\":{\"symbol\":\"circle\"},\"mode\":\"lines\",\"name\":\"Write in a foreign language\",\"orientation\":\"v\",\"showlegend\":true,\"x\":[0,1,2,3,4,5,6,7,8,9,10,11,12,13,14,15,16,17,18,19,20,21,22,23,24,25,26,27,28],\"xaxis\":\"x\",\"y\":[0.1730828732252121,0.15234458446502686,0.17048059403896332,0.16805928945541382,0.2173633873462677,0.21019120514392853,0.17263667285442352,0.18652643263339996,0.17679068446159363,0.2299547791481018,0.15317855775356293,0.15624116361141205,0.17221981287002563,0.15510253608226776,0.1648617535829544,0.15384577214717865,0.15708088874816895,0.16278371214866638,0.19652891159057617,0.23224979639053345,0.183274045586586,0.16077083349227905,0.17353321611881256,0.14693574607372284,0.15370900928974152,0.1577109396457672,0.1875198930501938,0.15469495952129364,0.16760584712028503],\"yaxis\":\"y\",\"type\":\"scatter\"},{\"hovertemplate\":\"variable=Ditch the expectations\\u003cbr\\u003eParagraph=%{x}\\u003cbr\\u003evalue=%{y}\\u003cextra\\u003e\\u003c\\u002fextra\\u003e\",\"legendgroup\":\"Ditch the expectations\",\"line\":{\"color\":\"#EF553B\",\"dash\":\"solid\"},\"marker\":{\"symbol\":\"circle\"},\"mode\":\"lines\",\"name\":\"Ditch the expectations\",\"orientation\":\"v\",\"showlegend\":true,\"x\":[0,1,2,3,4,5,6,7,8,9,10,11,12,13,14,15,16,17,18,19,20,21,22,23,24,25,26,27,28],\"xaxis\":\"x\",\"y\":[0.14745865762233734,0.14578777551651,0.15163399279117584,0.15856938064098358,0.13701172173023224,0.14008358120918274,0.14964787662029266,0.16046948730945587,0.1574234962463379,0.13604889810085297,0.1525871753692627,0.14889167249202728,0.14963337779045105,0.1543913632631302,0.14529579877853394,0.1485353708267212,0.15317970514297485,0.15876303613185883,0.17123326659202576,0.14011912047863007,0.1460755169391632,0.14770549535751343,0.14477677643299103,0.1458951234817505,0.15366490185260773,0.15563984215259552,0.14303912222385406,0.14825178682804108,0.14565050601959229],\"yaxis\":\"y\",\"type\":\"scatter\"},{\"hovertemplate\":\"variable=Embrace simplicity\\u003cbr\\u003eParagraph=%{x}\\u003cbr\\u003evalue=%{y}\\u003cextra\\u003e\\u003c\\u002fextra\\u003e\",\"legendgroup\":\"Embrace simplicity\",\"line\":{\"color\":\"#00cc96\",\"dash\":\"solid\"},\"marker\":{\"symbol\":\"circle\"},\"mode\":\"lines\",\"name\":\"Embrace simplicity\",\"orientation\":\"v\",\"showlegend\":true,\"x\":[0,1,2,3,4,5,6,7,8,9,10,11,12,13,14,15,16,17,18,19,20,21,22,23,24,25,26,27,28],\"xaxis\":\"x\",\"y\":[0.1446031928062439,0.14497607946395874,0.14917951822280884,0.14406868815422058,0.13190646469593048,0.1383027732372284,0.14923597872257233,0.14728336036205292,0.15122807025909424,0.13227522373199463,0.15188099443912506,0.14522069692611694,0.14381708204746246,0.14670582115650177,0.1433359682559967,0.14247658848762512,0.1467546820640564,0.14840543270111084,0.13001616299152374,0.1279739886522293,0.1436479687690735,0.14377674460411072,0.14412330090999603,0.1441049873828888,0.15287795662879944,0.15095679461956024,0.1394662857055664,0.14569222927093506,0.14494894444942474],\"yaxis\":\"y\",\"type\":\"scatter\"},{\"hovertemplate\":\"variable=Seek inspiration\\u003cbr\\u003eParagraph=%{x}\\u003cbr\\u003evalue=%{y}\\u003cextra\\u003e\\u003c\\u002fextra\\u003e\",\"legendgroup\":\"Seek inspiration\",\"line\":{\"color\":\"#ab63fa\",\"dash\":\"solid\"},\"marker\":{\"symbol\":\"circle\"},\"mode\":\"lines\",\"name\":\"Seek inspiration\",\"orientation\":\"v\",\"showlegend\":true,\"x\":[0,1,2,3,4,5,6,7,8,9,10,11,12,13,14,15,16,17,18,19,20,21,22,23,24,25,26,27,28],\"xaxis\":\"x\",\"y\":[0.14054782688617706,0.1438349187374115,0.13825899362564087,0.137343630194664,0.1300964206457138,0.1301596760749817,0.14248058199882507,0.1305282711982727,0.1381743997335434,0.1300739198923111,0.1388043910264969,0.14225907623767853,0.1387941688299179,0.14062310755252838,0.14243939518928528,0.14145642518997192,0.14137500524520874,0.1388547420501709,0.12654073536396027,0.12726140022277832,0.13457748293876648,0.14094728231430054,0.13720282912254333,0.1437552124261856,0.1389440894126892,0.13869614899158478,0.13799233734607697,0.1447056084871292,0.14433306455612183],\"yaxis\":\"y\",\"type\":\"scatter\"},{\"hovertemplate\":\"variable=Practice translation\\u003cbr\\u003eParagraph=%{x}\\u003cbr\\u003evalue=%{y}\\u003cextra\\u003e\\u003c\\u002fextra\\u003e\",\"legendgroup\":\"Practice translation\",\"line\":{\"color\":\"#FFA15A\",\"dash\":\"solid\"},\"marker\":{\"symbol\":\"circle\"},\"mode\":\"lines\",\"name\":\"Practice translation\",\"orientation\":\"v\",\"showlegend\":true,\"x\":[0,1,2,3,4,5,6,7,8,9,10,11,12,13,14,15,16,17,18,19,20,21,22,23,24,25,26,27,28],\"xaxis\":\"x\",\"y\":[0.13453292846679688,0.143181711435318,0.13565750420093536,0.1314748078584671,0.12837328016757965,0.1299520879983902,0.13345485925674438,0.12620078027248383,0.12694492936134338,0.1251998096704483,0.13650953769683838,0.13893654942512512,0.1339656561613083,0.14008831977844238,0.13700614869594574,0.13906942307949066,0.1363319605588913,0.13194608688354492,0.12650609016418457,0.12540386617183685,0.13140450417995453,0.1405334174633026,0.13534457981586456,0.1434287428855896,0.1354687511920929,0.13407424092292786,0.13430941104888916,0.14035135507583618,0.13862453401088715],\"yaxis\":\"y\",\"type\":\"scatter\"},{\"hovertemplate\":\"variable=Trust the process\\u003cbr\\u003eParagraph=%{x}\\u003cbr\\u003evalue=%{y}\\u003cextra\\u003e\\u003c\\u002fextra\\u003e\",\"legendgroup\":\"Trust the process\",\"line\":{\"color\":\"#19d3f3\",\"dash\":\"solid\"},\"marker\":{\"symbol\":\"circle\"},\"mode\":\"lines\",\"name\":\"Trust the process\",\"orientation\":\"v\",\"showlegend\":true,\"x\":[0,1,2,3,4,5,6,7,8,9,10,11,12,13,14,15,16,17,18,19,20,21,22,23,24,25,26,27,28],\"xaxis\":\"x\",\"y\":[0.13079538941383362,0.13585443794727325,0.1295391321182251,0.13034942746162415,0.12833145260810852,0.12571904063224792,0.12668153643608093,0.1253645122051239,0.12514421343803406,0.12347926199436188,0.13449755311012268,0.13806913793087006,0.13273465633392334,0.1331714689731598,0.13577549159526825,0.13892464339733124,0.13467645645141602,0.13193337619304657,0.12539342045783997,0.12437377870082855,0.13137982785701752,0.13381193578243256,0.1347454935312271,0.13909092545509338,0.13352905213832855,0.13341881334781647,0.1314568668603897,0.13746444880962372,0.13330847024917603],\"yaxis\":\"y\",\"type\":\"scatter\"},{\"hovertemplate\":\"variable=Embrace the unknown\\u003cbr\\u003eParagraph=%{x}\\u003cbr\\u003evalue=%{y}\\u003cextra\\u003e\\u003c\\u002fextra\\u003e\",\"legendgroup\":\"Embrace the unknown\",\"line\":{\"color\":\"#FF6692\",\"dash\":\"solid\"},\"marker\":{\"symbol\":\"circle\"},\"mode\":\"lines\",\"name\":\"Embrace the unknown\",\"orientation\":\"v\",\"showlegend\":true,\"x\":[0,1,2,3,4,5,6,7,8,9,10,11,12,13,14,15,16,17,18,19,20,21,22,23,24,25,26,27,28],\"xaxis\":\"x\",\"y\":[0.1289791315793991,0.13402055203914642,0.1252502202987671,0.13013477623462677,0.12691722810268402,0.12559175491333008,0.1258624643087387,0.12362711876630783,0.12429414689540863,0.12296809256076813,0.13254176080226898,0.130381777882576,0.1288352608680725,0.12991748750209808,0.13128545880317688,0.1356918066740036,0.13060124218463898,0.12731361389160156,0.12378150224685669,0.12261809408664703,0.12964071333408356,0.13245439529418945,0.13027378916740417,0.13678938150405884,0.13180629909038544,0.12950317561626434,0.1262160986661911,0.12883953750133514,0.12552864849567413],\"yaxis\":\"y\",\"type\":\"scatter\"}],                        {\"template\":{\"data\":{\"histogram2dcontour\":[{\"type\":\"histogram2dcontour\",\"colorbar\":{\"outlinewidth\":0,\"ticks\":\"\"},\"colorscale\":[[0.0,\"#0d0887\"],[0.1111111111111111,\"#46039f\"],[0.2222222222222222,\"#7201a8\"],[0.3333333333333333,\"#9c179e\"],[0.4444444444444444,\"#bd3786\"],[0.5555555555555556,\"#d8576b\"],[0.6666666666666666,\"#ed7953\"],[0.7777777777777778,\"#fb9f3a\"],[0.8888888888888888,\"#fdca26\"],[1.0,\"#f0f921\"]]}],\"choropleth\":[{\"type\":\"choropleth\",\"colorbar\":{\"outlinewidth\":0,\"ticks\":\"\"}}],\"histogram2d\":[{\"type\":\"histogram2d\",\"colorbar\":{\"outlinewidth\":0,\"ticks\":\"\"},\"colorscale\":[[0.0,\"#0d0887\"],[0.1111111111111111,\"#46039f\"],[0.2222222222222222,\"#7201a8\"],[0.3333333333333333,\"#9c179e\"],[0.4444444444444444,\"#bd3786\"],[0.5555555555555556,\"#d8576b\"],[0.6666666666666666,\"#ed7953\"],[0.7777777777777778,\"#fb9f3a\"],[0.8888888888888888,\"#fdca26\"],[1.0,\"#f0f921\"]]}],\"heatmap\":[{\"type\":\"heatmap\",\"colorbar\":{\"outlinewidth\":0,\"ticks\":\"\"},\"colorscale\":[[0.0,\"#0d0887\"],[0.1111111111111111,\"#46039f\"],[0.2222222222222222,\"#7201a8\"],[0.3333333333333333,\"#9c179e\"],[0.4444444444444444,\"#bd3786\"],[0.5555555555555556,\"#d8576b\"],[0.6666666666666666,\"#ed7953\"],[0.7777777777777778,\"#fb9f3a\"],[0.8888888888888888,\"#fdca26\"],[1.0,\"#f0f921\"]]}],\"heatmapgl\":[{\"type\":\"heatmapgl\",\"colorbar\":{\"outlinewidth\":0,\"ticks\":\"\"},\"colorscale\":[[0.0,\"#0d0887\"],[0.1111111111111111,\"#46039f\"],[0.2222222222222222,\"#7201a8\"],[0.3333333333333333,\"#9c179e\"],[0.4444444444444444,\"#bd3786\"],[0.5555555555555556,\"#d8576b\"],[0.6666666666666666,\"#ed7953\"],[0.7777777777777778,\"#fb9f3a\"],[0.8888888888888888,\"#fdca26\"],[1.0,\"#f0f921\"]]}],\"contourcarpet\":[{\"type\":\"contourcarpet\",\"colorbar\":{\"outlinewidth\":0,\"ticks\":\"\"}}],\"contour\":[{\"type\":\"contour\",\"colorbar\":{\"outlinewidth\":0,\"ticks\":\"\"},\"colorscale\":[[0.0,\"#0d0887\"],[0.1111111111111111,\"#46039f\"],[0.2222222222222222,\"#7201a8\"],[0.3333333333333333,\"#9c179e\"],[0.4444444444444444,\"#bd3786\"],[0.5555555555555556,\"#d8576b\"],[0.6666666666666666,\"#ed7953\"],[0.7777777777777778,\"#fb9f3a\"],[0.8888888888888888,\"#fdca26\"],[1.0,\"#f0f921\"]]}],\"surface\":[{\"type\":\"surface\",\"colorbar\":{\"outlinewidth\":0,\"ticks\":\"\"},\"colorscale\":[[0.0,\"#0d0887\"],[0.1111111111111111,\"#46039f\"],[0.2222222222222222,\"#7201a8\"],[0.3333333333333333,\"#9c179e\"],[0.4444444444444444,\"#bd3786\"],[0.5555555555555556,\"#d8576b\"],[0.6666666666666666,\"#ed7953\"],[0.7777777777777778,\"#fb9f3a\"],[0.8888888888888888,\"#fdca26\"],[1.0,\"#f0f921\"]]}],\"mesh3d\":[{\"type\":\"mesh3d\",\"colorbar\":{\"outlinewidth\":0,\"ticks\":\"\"}}],\"scatter\":[{\"fillpattern\":{\"fillmode\":\"overlay\",\"size\":10,\"solidity\":0.2},\"type\":\"scatter\"}],\"parcoords\":[{\"type\":\"parcoords\",\"line\":{\"colorbar\":{\"outlinewidth\":0,\"ticks\":\"\"}}}],\"scatterpolargl\":[{\"type\":\"scatterpolargl\",\"marker\":{\"colorbar\":{\"outlinewidth\":0,\"ticks\":\"\"}}}],\"bar\":[{\"error_x\":{\"color\":\"#2a3f5f\"},\"error_y\":{\"color\":\"#2a3f5f\"},\"marker\":{\"line\":{\"color\":\"#E5ECF6\",\"width\":0.5},\"pattern\":{\"fillmode\":\"overlay\",\"size\":10,\"solidity\":0.2}},\"type\":\"bar\"}],\"scattergeo\":[{\"type\":\"scattergeo\",\"marker\":{\"colorbar\":{\"outlinewidth\":0,\"ticks\":\"\"}}}],\"scatterpolar\":[{\"type\":\"scatterpolar\",\"marker\":{\"colorbar\":{\"outlinewidth\":0,\"ticks\":\"\"}}}],\"histogram\":[{\"marker\":{\"pattern\":{\"fillmode\":\"overlay\",\"size\":10,\"solidity\":0.2}},\"type\":\"histogram\"}],\"scattergl\":[{\"type\":\"scattergl\",\"marker\":{\"colorbar\":{\"outlinewidth\":0,\"ticks\":\"\"}}}],\"scatter3d\":[{\"type\":\"scatter3d\",\"line\":{\"colorbar\":{\"outlinewidth\":0,\"ticks\":\"\"}},\"marker\":{\"colorbar\":{\"outlinewidth\":0,\"ticks\":\"\"}}}],\"scattermapbox\":[{\"type\":\"scattermapbox\",\"marker\":{\"colorbar\":{\"outlinewidth\":0,\"ticks\":\"\"}}}],\"scatterternary\":[{\"type\":\"scatterternary\",\"marker\":{\"colorbar\":{\"outlinewidth\":0,\"ticks\":\"\"}}}],\"scattercarpet\":[{\"type\":\"scattercarpet\",\"marker\":{\"colorbar\":{\"outlinewidth\":0,\"ticks\":\"\"}}}],\"carpet\":[{\"aaxis\":{\"endlinecolor\":\"#2a3f5f\",\"gridcolor\":\"white\",\"linecolor\":\"white\",\"minorgridcolor\":\"white\",\"startlinecolor\":\"#2a3f5f\"},\"baxis\":{\"endlinecolor\":\"#2a3f5f\",\"gridcolor\":\"white\",\"linecolor\":\"white\",\"minorgridcolor\":\"white\",\"startlinecolor\":\"#2a3f5f\"},\"type\":\"carpet\"}],\"table\":[{\"cells\":{\"fill\":{\"color\":\"#EBF0F8\"},\"line\":{\"color\":\"white\"}},\"header\":{\"fill\":{\"color\":\"#C8D4E3\"},\"line\":{\"color\":\"white\"}},\"type\":\"table\"}],\"barpolar\":[{\"marker\":{\"line\":{\"color\":\"#E5ECF6\",\"width\":0.5},\"pattern\":{\"fillmode\":\"overlay\",\"size\":10,\"solidity\":0.2}},\"type\":\"barpolar\"}],\"pie\":[{\"automargin\":true,\"type\":\"pie\"}]},\"layout\":{\"autotypenumbers\":\"strict\",\"colorway\":[\"#636efa\",\"#EF553B\",\"#00cc96\",\"#ab63fa\",\"#FFA15A\",\"#19d3f3\",\"#FF6692\",\"#B6E880\",\"#FF97FF\",\"#FECB52\"],\"font\":{\"color\":\"#2a3f5f\"},\"hovermode\":\"closest\",\"hoverlabel\":{\"align\":\"left\"},\"paper_bgcolor\":\"white\",\"plot_bgcolor\":\"#E5ECF6\",\"polar\":{\"bgcolor\":\"#E5ECF6\",\"angularaxis\":{\"gridcolor\":\"white\",\"linecolor\":\"white\",\"ticks\":\"\"},\"radialaxis\":{\"gridcolor\":\"white\",\"linecolor\":\"white\",\"ticks\":\"\"}},\"ternary\":{\"bgcolor\":\"#E5ECF6\",\"aaxis\":{\"gridcolor\":\"white\",\"linecolor\":\"white\",\"ticks\":\"\"},\"baxis\":{\"gridcolor\":\"white\",\"linecolor\":\"white\",\"ticks\":\"\"},\"caxis\":{\"gridcolor\":\"white\",\"linecolor\":\"white\",\"ticks\":\"\"}},\"coloraxis\":{\"colorbar\":{\"outlinewidth\":0,\"ticks\":\"\"}},\"colorscale\":{\"sequential\":[[0.0,\"#0d0887\"],[0.1111111111111111,\"#46039f\"],[0.2222222222222222,\"#7201a8\"],[0.3333333333333333,\"#9c179e\"],[0.4444444444444444,\"#bd3786\"],[0.5555555555555556,\"#d8576b\"],[0.6666666666666666,\"#ed7953\"],[0.7777777777777778,\"#fb9f3a\"],[0.8888888888888888,\"#fdca26\"],[1.0,\"#f0f921\"]],\"sequentialminus\":[[0.0,\"#0d0887\"],[0.1111111111111111,\"#46039f\"],[0.2222222222222222,\"#7201a8\"],[0.3333333333333333,\"#9c179e\"],[0.4444444444444444,\"#bd3786\"],[0.5555555555555556,\"#d8576b\"],[0.6666666666666666,\"#ed7953\"],[0.7777777777777778,\"#fb9f3a\"],[0.8888888888888888,\"#fdca26\"],[1.0,\"#f0f921\"]],\"diverging\":[[0,\"#8e0152\"],[0.1,\"#c51b7d\"],[0.2,\"#de77ae\"],[0.3,\"#f1b6da\"],[0.4,\"#fde0ef\"],[0.5,\"#f7f7f7\"],[0.6,\"#e6f5d0\"],[0.7,\"#b8e186\"],[0.8,\"#7fbc41\"],[0.9,\"#4d9221\"],[1,\"#276419\"]]},\"xaxis\":{\"gridcolor\":\"white\",\"linecolor\":\"white\",\"ticks\":\"\",\"title\":{\"standoff\":15},\"zerolinecolor\":\"white\",\"automargin\":true,\"zerolinewidth\":2},\"yaxis\":{\"gridcolor\":\"white\",\"linecolor\":\"white\",\"ticks\":\"\",\"title\":{\"standoff\":15},\"zerolinecolor\":\"white\",\"automargin\":true,\"zerolinewidth\":2},\"scene\":{\"xaxis\":{\"backgroundcolor\":\"#E5ECF6\",\"gridcolor\":\"white\",\"linecolor\":\"white\",\"showbackground\":true,\"ticks\":\"\",\"zerolinecolor\":\"white\",\"gridwidth\":2},\"yaxis\":{\"backgroundcolor\":\"#E5ECF6\",\"gridcolor\":\"white\",\"linecolor\":\"white\",\"showbackground\":true,\"ticks\":\"\",\"zerolinecolor\":\"white\",\"gridwidth\":2},\"zaxis\":{\"backgroundcolor\":\"#E5ECF6\",\"gridcolor\":\"white\",\"linecolor\":\"white\",\"showbackground\":true,\"ticks\":\"\",\"zerolinecolor\":\"white\",\"gridwidth\":2}},\"shapedefaults\":{\"line\":{\"color\":\"#2a3f5f\"}},\"annotationdefaults\":{\"arrowcolor\":\"#2a3f5f\",\"arrowhead\":0,\"arrowwidth\":1},\"geo\":{\"bgcolor\":\"white\",\"landcolor\":\"#E5ECF6\",\"subunitcolor\":\"white\",\"showland\":true,\"showlakes\":true,\"lakecolor\":\"white\"},\"title\":{\"x\":0.05},\"mapbox\":{\"style\":\"light\"}}},\"xaxis\":{\"anchor\":\"y\",\"domain\":[0.0,1.0],\"title\":{\"text\":\"Paragraph\"}},\"yaxis\":{\"anchor\":\"x\",\"domain\":[0.0,1.0],\"title\":{\"text\":\"value\"}},\"legend\":{\"title\":{\"text\":\"variable\"},\"tracegroupgap\":0},\"margin\":{\"t\":60}},                        {\"responsive\": true}                    ).then(function(){\n",
              "                            \n",
              "var gd = document.getElementById('93911018-29f0-46c0-8c80-39c7fd6b74cb');\n",
              "var x = new MutationObserver(function (mutations, observer) {{\n",
              "        var display = window.getComputedStyle(gd).display;\n",
              "        if (!display || display === 'none') {{\n",
              "            console.log([gd, 'removed!']);\n",
              "            Plotly.purge(gd);\n",
              "            observer.disconnect();\n",
              "        }}\n",
              "}});\n",
              "\n",
              "// Listen for the removal of the full notebook cells\n",
              "var notebookContainer = gd.closest('#notebook-container');\n",
              "if (notebookContainer) {{\n",
              "    x.observe(notebookContainer, {childList: true});\n",
              "}}\n",
              "\n",
              "// Listen for the clearing of the current output cell\n",
              "var outputEl = gd.closest('.output');\n",
              "if (outputEl) {{\n",
              "    x.observe(outputEl, {childList: true});\n",
              "}}\n",
              "\n",
              "                        })                };                            </script>        </div>\n",
              "</body>\n",
              "</html>"
            ]
          },
          "metadata": {}
        }
      ]
    },
    {
      "cell_type": "markdown",
      "source": [
        "<h2> The block modeling matrix rearragement tells us which variables move in simmilar directions:"
      ],
      "metadata": {
        "id": "Vn9lSMboKp8G"
      }
    },
    {
      "cell_type": "code",
      "source": [
        "sns.heatmap(cluster_corr(tograph2[tips].corr()))"
      ],
      "metadata": {
        "colab": {
          "base_uri": "https://localhost:8080/",
          "height": 628
        },
        "id": "Q5w7PJZlphpz",
        "outputId": "9acd6250-60fc-451f-a5ec-33f9f4f92ca9"
      },
      "execution_count": null,
      "outputs": [
        {
          "output_type": "execute_result",
          "data": {
            "text/plain": [
              "<Axes: >"
            ]
          },
          "metadata": {},
          "execution_count": 195
        },
        {
          "output_type": "display_data",
          "data": {
            "text/plain": [
              "<Figure size 640x480 with 2 Axes>"
            ],
            "image/png": "[encoded data removed]"
          },
          "metadata": {}
        }
      ]
    },
    {
      "cell_type": "code",
      "source": [
        "tograph2=(tograph2-tograph2.mean())/tograph2.std()\n",
        "px.line(tograph2, x='Paragraph',y=tips[2:])"
      ],
      "metadata": {
        "colab": {
          "base_uri": "https://localhost:8080/",
          "height": 542
        },
        "id": "IL5baTklhEy8",
        "outputId": "d18aa5a5-47eb-4ab8-d1a4-53762608a755"
      },
      "execution_count": null,
      "outputs": [
        {
          "output_type": "display_data",
          "data": {
            "text/html": [
              "<html>\n",
              "<head><meta charset=\"utf-8\" /></head>\n",
              "<body>\n",
              "    <div>            <script src=\"https://cdnjs.cloudflare.com/ajax/libs/mathjax/2.7.5/MathJax.js?config=TeX-AMS-MML_SVG\"></script><script type=\"text/javascript\">if (window.MathJax && window.MathJax.Hub && window.MathJax.Hub.Config) {window.MathJax.Hub.Config({SVG: {font: \"STIX-Web\"}});}</script>                <script type=\"text/javascript\">window.PlotlyConfig = {MathJaxConfig: 'local'};</script>\n",
              "        <script charset=\"utf-8\" src=\"https://cdn.plot.ly/plotly-2.24.1.min.js\"></script>                <div id=\"cbad936a-0aa3-404a-8ae8-ed513106d6da\" class=\"plotly-graph-div\" style=\"height:525px; width:100%;\"></div>            <script type=\"text/javascript\">                                    window.PLOTLYENV=window.PLOTLYENV || {};                                    if (document.getElementById(\"cbad936a-0aa3-404a-8ae8-ed513106d6da\")) {                    Plotly.newPlot(                        \"cbad936a-0aa3-404a-8ae8-ed513106d6da\",                        [{\"hovertemplate\":\"variable=Embrace simplicity\\u003cbr\\u003eParagraph=%{x}\\u003cbr\\u003evalue=%{y}\\u003cextra\\u003e\\u003c\\u002fextra\\u003e\",\"legendgroup\":\"Embrace simplicity\",\"line\":{\"color\":\"#636efa\",\"dash\":\"solid\"},\"marker\":{\"symbol\":\"circle\"},\"mode\":\"lines\",\"name\":\"Embrace simplicity\",\"orientation\":\"v\",\"showlegend\":true,\"x\":[-1.6442166146411696,-1.526772570738229,-1.4093285268352882,-1.2918844829323475,-1.174440439029407,-1.0569963951264663,-0.9395523512235255,-0.8221083073205848,-0.7046642634176441,-0.5872202195147035,-0.46977617561176277,-0.35233213170882205,-0.23488808780588138,-0.11744404390294069,0.0,0.11744404390294069,0.23488808780588138,0.35233213170882205,0.46977617561176277,0.5872202195147035,0.7046642634176441,0.8221083073205848,0.9395523512235255,1.0569963951264663,1.174440439029407,1.2918844829323475,1.4093285268352882,1.526772570738229,1.6442166146411696],\"xaxis\":\"x\",\"y\":[0.13116493698072534,0.18965472408633813,0.8489924424786053,0.047324277474717936,-1.860402497105341,-0.8570983640611766,0.8578486526505669,0.5515672938452085,1.1703216453291176,-1.8025601552933765,1.2727372064547025,0.2280246227886135,0.007858162733738416,0.46097637438231936,-0.06760778021219026,-0.20240729275834193,0.46864053726272636,0.7275719077694311,-2.1569090681199516,-2.4772378861846103,-0.01866839552479736,0.0015309626979769964,0.055890656540497616,0.05301805630261406,1.4291174496732535,1.127770231715879,-0.6745935863765355,0.30198765120813115,0.18539841405119903],\"yaxis\":\"y\",\"type\":\"scatter\"},{\"hovertemplate\":\"variable=Seek inspiration\\u003cbr\\u003eParagraph=%{x}\\u003cbr\\u003evalue=%{y}\\u003cextra\\u003e\\u003c\\u002fextra\\u003e\",\"legendgroup\":\"Seek inspiration\",\"line\":{\"color\":\"#EF553B\",\"dash\":\"solid\"},\"marker\":{\"symbol\":\"circle\"},\"mode\":\"lines\",\"name\":\"Seek inspiration\",\"orientation\":\"v\",\"showlegend\":true,\"x\":[-1.6442166146411696,-1.526772570738229,-1.4093285268352882,-1.2918844829323475,-1.174440439029407,-1.0569963951264663,-0.9395523512235255,-0.8221083073205848,-0.7046642634176441,-0.5872202195147035,-0.46977617561176277,-0.35233213170882205,-0.23488808780588138,-0.11744404390294069,0.0,0.11744404390294069,0.23488808780588138,0.35233213170882205,0.46977617561176277,0.5872202195147035,0.7046642634176441,0.8221083073205848,0.9395523512235255,1.0569963951264663,1.174440439029407,1.2918844829323475,1.4093285268352882,1.526772570738229,1.6442166146411696],\"xaxis\":\"x\",\"y\":[0.49492111974924385,1.1254357747317736,0.05588777997884522,-0.11969297163576548,-1.509818966023907,-1.497685604084041,0.8656532070072667,-1.4269834036259674,0.03966137344583728,-1.5141349557834352,0.16050337016990102,0.8231650031825065,0.15854259601424778,0.5093611066797981,0.8577529449573751,0.6692042161646321,0.6535866214321404,0.170161469108607,-2.1918539623412028,-2.0536193843676496,-0.650282459735442,0.5715428002020083,-0.14670077775350232,1.1101468812061333,0.18729966420670732,0.1397408869823425,0.00473901392138932,1.292447428797334,1.22098778642782],\"yaxis\":\"y\",\"type\":\"scatter\"},{\"hovertemplate\":\"variable=Practice translation\\u003cbr\\u003eParagraph=%{x}\\u003cbr\\u003evalue=%{y}\\u003cextra\\u003e\\u003c\\u002fextra\\u003e\",\"legendgroup\":\"Practice translation\",\"line\":{\"color\":\"#00cc96\",\"dash\":\"solid\"},\"marker\":{\"symbol\":\"circle\"},\"mode\":\"lines\",\"name\":\"Practice translation\",\"orientation\":\"v\",\"showlegend\":true,\"x\":[-1.6442166146411696,-1.526772570738229,-1.4093285268352882,-1.2918844829323475,-1.174440439029407,-1.0569963951264663,-0.9395523512235255,-0.8221083073205848,-0.7046642634176441,-0.5872202195147035,-0.46977617561176277,-0.35233213170882205,-0.23488808780588138,-0.11744404390294069,0.0,0.11744404390294069,0.23488808780588138,0.35233213170882205,0.46977617561176277,0.5872202195147035,0.7046642634176441,0.8221083073205848,0.9395523512235255,1.0569963951264663,1.174440439029407,1.2918844829323475,1.4093285268352882,1.526772570738229,1.6442166146411696],\"xaxis\":\"x\",\"y\":[0.047083313701115334,1.692037632924877,0.2609718709580511,-0.534555596847178,-1.1244503126570946,-0.8241691320599375,-0.15795994035584562,-1.5376486896955832,-1.3961153361218759,-1.7280281825360526,0.4230242873859132,0.884629514362104,-0.06080897964071093,1.1036903492031327,0.5174771613832088,0.9099014043442172,0.38925002329296243,-0.4449207348460238,-1.4795803086432655,-1.6892176788447824,-0.547926997198822,1.1883456541000397,0.20145525218218746,1.7390217522613658,0.22507201333739085,-0.040156712925486254,0.0045714431469270475,1.1537183184713016,0.8252857771931609],\"yaxis\":\"y\",\"type\":\"scatter\"},{\"hovertemplate\":\"variable=Trust the process\\u003cbr\\u003eParagraph=%{x}\\u003cbr\\u003evalue=%{y}\\u003cextra\\u003e\\u003c\\u002fextra\\u003e\",\"legendgroup\":\"Trust the process\",\"line\":{\"color\":\"#ab63fa\",\"dash\":\"solid\"},\"marker\":{\"symbol\":\"circle\"},\"mode\":\"lines\",\"name\":\"Trust the process\",\"orientation\":\"v\",\"showlegend\":true,\"x\":[-1.6442166146411696,-1.526772570738229,-1.4093285268352882,-1.2918844829323475,-1.174440439029407,-1.0569963951264663,-0.9395523512235255,-0.8221083073205848,-0.7046642634176441,-0.5872202195147035,-0.46977617561176277,-0.35233213170882205,-0.23488808780588138,-0.11744404390294069,0.0,0.11744404390294069,0.23488808780588138,0.35233213170882205,0.46977617561176277,0.5872202195147035,0.7046642634176441,0.8221083073205848,0.9395523512235255,1.0569963951264663,1.174440439029407,1.2918844829323475,1.4093285268352882,1.526772570738229,1.6442166146411696],\"xaxis\":\"x\",\"y\":[-0.1964240588886172,0.9141801938692311,-0.4722080696247822,-0.2943253218273398,-0.7373278823797845,-1.3108262054673643,-1.099531151479862,-1.3886552233716039,-1.437017034093539,-1.8025209706055776,0.6163055914254614,1.4003694850190098,0.22929988395324435,0.32519261389796883,0.8968492365366545,1.5881771336369577,0.6555799352787862,0.05339622811242878,-1.3823090442048998,-1.606149251338954,-0.06812328925083191,0.4657931947042116,0.6707355270722606,1.6246807487510049,0.4036922332089995,0.37949170048978437,-0.05121104889420281,1.267623118738157,0.3552682691859471],\"yaxis\":\"y\",\"type\":\"scatter\"},{\"hovertemplate\":\"variable=Embrace the unknown\\u003cbr\\u003eParagraph=%{x}\\u003cbr\\u003evalue=%{y}\\u003cextra\\u003e\\u003c\\u002fextra\\u003e\",\"legendgroup\":\"Embrace the unknown\",\"line\":{\"color\":\"#FFA15A\",\"dash\":\"solid\"},\"marker\":{\"symbol\":\"circle\"},\"mode\":\"lines\",\"name\":\"Embrace the unknown\",\"orientation\":\"v\",\"showlegend\":true,\"x\":[-1.6442166146411696,-1.526772570738229,-1.4093285268352882,-1.2918844829323475,-1.174440439029407,-1.0569963951264663,-0.9395523512235255,-0.8221083073205848,-0.7046642634176441,-0.5872202195147035,-0.46977617561176277,-0.35233213170882205,-0.23488808780588138,-0.11744404390294069,0.0,0.11744404390294069,0.23488808780588138,0.35233213170882205,0.46977617561176277,0.5872202195147035,0.7046642634176441,0.8221083073205848,0.9395523512235255,1.0569963951264663,1.174440439029407,1.2918844829323475,1.4093285268352882,1.526772570738229,1.6442166146411696],\"xaxis\":\"x\",\"y\":[0.08044290389425043,1.4277580037515962,-0.9161052940863887,0.38928790234052263,-0.47059895242531496,-0.8248304744202393,-0.7524836311010884,-1.3498777240482345,-1.171615054321983,-1.5260018868739307,1.0325523709562787,0.4552988713975075,0.041993585225983704,0.3312176833016137,0.6968067875691322,1.8743993071755345,0.5139505094447611,-0.3646652055693271,-1.3086188772266314,-1.619538665421859,0.25725003493865295,1.0092040172170713,0.42643898404495145,2.1677251968853763,0.8360008875600101,0.22049320310974546,-0.657975165991269,0.04313651163279805,-0.8416956079842071],\"yaxis\":\"y\",\"type\":\"scatter\"}],                        {\"template\":{\"data\":{\"histogram2dcontour\":[{\"type\":\"histogram2dcontour\",\"colorbar\":{\"outlinewidth\":0,\"ticks\":\"\"},\"colorscale\":[[0.0,\"#0d0887\"],[0.1111111111111111,\"#46039f\"],[0.2222222222222222,\"#7201a8\"],[0.3333333333333333,\"#9c179e\"],[0.4444444444444444,\"#bd3786\"],[0.5555555555555556,\"#d8576b\"],[0.6666666666666666,\"#ed7953\"],[0.7777777777777778,\"#fb9f3a\"],[0.8888888888888888,\"#fdca26\"],[1.0,\"#f0f921\"]]}],\"choropleth\":[{\"type\":\"choropleth\",\"colorbar\":{\"outlinewidth\":0,\"ticks\":\"\"}}],\"histogram2d\":[{\"type\":\"histogram2d\",\"colorbar\":{\"outlinewidth\":0,\"ticks\":\"\"},\"colorscale\":[[0.0,\"#0d0887\"],[0.1111111111111111,\"#46039f\"],[0.2222222222222222,\"#7201a8\"],[0.3333333333333333,\"#9c179e\"],[0.4444444444444444,\"#bd3786\"],[0.5555555555555556,\"#d8576b\"],[0.6666666666666666,\"#ed7953\"],[0.7777777777777778,\"#fb9f3a\"],[0.8888888888888888,\"#fdca26\"],[1.0,\"#f0f921\"]]}],\"heatmap\":[{\"type\":\"heatmap\",\"colorbar\":{\"outlinewidth\":0,\"ticks\":\"\"},\"colorscale\":[[0.0,\"#0d0887\"],[0.1111111111111111,\"#46039f\"],[0.2222222222222222,\"#7201a8\"],[0.3333333333333333,\"#9c179e\"],[0.4444444444444444,\"#bd3786\"],[0.5555555555555556,\"#d8576b\"],[0.6666666666666666,\"#ed7953\"],[0.7777777777777778,\"#fb9f3a\"],[0.8888888888888888,\"#fdca26\"],[1.0,\"#f0f921\"]]}],\"heatmapgl\":[{\"type\":\"heatmapgl\",\"colorbar\":{\"outlinewidth\":0,\"ticks\":\"\"},\"colorscale\":[[0.0,\"#0d0887\"],[0.1111111111111111,\"#46039f\"],[0.2222222222222222,\"#7201a8\"],[0.3333333333333333,\"#9c179e\"],[0.4444444444444444,\"#bd3786\"],[0.5555555555555556,\"#d8576b\"],[0.6666666666666666,\"#ed7953\"],[0.7777777777777778,\"#fb9f3a\"],[0.8888888888888888,\"#fdca26\"],[1.0,\"#f0f921\"]]}],\"contourcarpet\":[{\"type\":\"contourcarpet\",\"colorbar\":{\"outlinewidth\":0,\"ticks\":\"\"}}],\"contour\":[{\"type\":\"contour\",\"colorbar\":{\"outlinewidth\":0,\"ticks\":\"\"},\"colorscale\":[[0.0,\"#0d0887\"],[0.1111111111111111,\"#46039f\"],[0.2222222222222222,\"#7201a8\"],[0.3333333333333333,\"#9c179e\"],[0.4444444444444444,\"#bd3786\"],[0.5555555555555556,\"#d8576b\"],[0.6666666666666666,\"#ed7953\"],[0.7777777777777778,\"#fb9f3a\"],[0.8888888888888888,\"#fdca26\"],[1.0,\"#f0f921\"]]}],\"surface\":[{\"type\":\"surface\",\"colorbar\":{\"outlinewidth\":0,\"ticks\":\"\"},\"colorscale\":[[0.0,\"#0d0887\"],[0.1111111111111111,\"#46039f\"],[0.2222222222222222,\"#7201a8\"],[0.3333333333333333,\"#9c179e\"],[0.4444444444444444,\"#bd3786\"],[0.5555555555555556,\"#d8576b\"],[0.6666666666666666,\"#ed7953\"],[0.7777777777777778,\"#fb9f3a\"],[0.8888888888888888,\"#fdca26\"],[1.0,\"#f0f921\"]]}],\"mesh3d\":[{\"type\":\"mesh3d\",\"colorbar\":{\"outlinewidth\":0,\"ticks\":\"\"}}],\"scatter\":[{\"fillpattern\":{\"fillmode\":\"overlay\",\"size\":10,\"solidity\":0.2},\"type\":\"scatter\"}],\"parcoords\":[{\"type\":\"parcoords\",\"line\":{\"colorbar\":{\"outlinewidth\":0,\"ticks\":\"\"}}}],\"scatterpolargl\":[{\"type\":\"scatterpolargl\",\"marker\":{\"colorbar\":{\"outlinewidth\":0,\"ticks\":\"\"}}}],\"bar\":[{\"error_x\":{\"color\":\"#2a3f5f\"},\"error_y\":{\"color\":\"#2a3f5f\"},\"marker\":{\"line\":{\"color\":\"#E5ECF6\",\"width\":0.5},\"pattern\":{\"fillmode\":\"overlay\",\"size\":10,\"solidity\":0.2}},\"type\":\"bar\"}],\"scattergeo\":[{\"type\":\"scattergeo\",\"marker\":{\"colorbar\":{\"outlinewidth\":0,\"ticks\":\"\"}}}],\"scatterpolar\":[{\"type\":\"scatterpolar\",\"marker\":{\"colorbar\":{\"outlinewidth\":0,\"ticks\":\"\"}}}],\"histogram\":[{\"marker\":{\"pattern\":{\"fillmode\":\"overlay\",\"size\":10,\"solidity\":0.2}},\"type\":\"histogram\"}],\"scattergl\":[{\"type\":\"scattergl\",\"marker\":{\"colorbar\":{\"outlinewidth\":0,\"ticks\":\"\"}}}],\"scatter3d\":[{\"type\":\"scatter3d\",\"line\":{\"colorbar\":{\"outlinewidth\":0,\"ticks\":\"\"}},\"marker\":{\"colorbar\":{\"outlinewidth\":0,\"ticks\":\"\"}}}],\"scattermapbox\":[{\"type\":\"scattermapbox\",\"marker\":{\"colorbar\":{\"outlinewidth\":0,\"ticks\":\"\"}}}],\"scatterternary\":[{\"type\":\"scatterternary\",\"marker\":{\"colorbar\":{\"outlinewidth\":0,\"ticks\":\"\"}}}],\"scattercarpet\":[{\"type\":\"scattercarpet\",\"marker\":{\"colorbar\":{\"outlinewidth\":0,\"ticks\":\"\"}}}],\"carpet\":[{\"aaxis\":{\"endlinecolor\":\"#2a3f5f\",\"gridcolor\":\"white\",\"linecolor\":\"white\",\"minorgridcolor\":\"white\",\"startlinecolor\":\"#2a3f5f\"},\"baxis\":{\"endlinecolor\":\"#2a3f5f\",\"gridcolor\":\"white\",\"linecolor\":\"white\",\"minorgridcolor\":\"white\",\"startlinecolor\":\"#2a3f5f\"},\"type\":\"carpet\"}],\"table\":[{\"cells\":{\"fill\":{\"color\":\"#EBF0F8\"},\"line\":{\"color\":\"white\"}},\"header\":{\"fill\":{\"color\":\"#C8D4E3\"},\"line\":{\"color\":\"white\"}},\"type\":\"table\"}],\"barpolar\":[{\"marker\":{\"line\":{\"color\":\"#E5ECF6\",\"width\":0.5},\"pattern\":{\"fillmode\":\"overlay\",\"size\":10,\"solidity\":0.2}},\"type\":\"barpolar\"}],\"pie\":[{\"automargin\":true,\"type\":\"pie\"}]},\"layout\":{\"autotypenumbers\":\"strict\",\"colorway\":[\"#636efa\",\"#EF553B\",\"#00cc96\",\"#ab63fa\",\"#FFA15A\",\"#19d3f3\",\"#FF6692\",\"#B6E880\",\"#FF97FF\",\"#FECB52\"],\"font\":{\"color\":\"#2a3f5f\"},\"hovermode\":\"closest\",\"hoverlabel\":{\"align\":\"left\"},\"paper_bgcolor\":\"white\",\"plot_bgcolor\":\"#E5ECF6\",\"polar\":{\"bgcolor\":\"#E5ECF6\",\"angularaxis\":{\"gridcolor\":\"white\",\"linecolor\":\"white\",\"ticks\":\"\"},\"radialaxis\":{\"gridcolor\":\"white\",\"linecolor\":\"white\",\"ticks\":\"\"}},\"ternary\":{\"bgcolor\":\"#E5ECF6\",\"aaxis\":{\"gridcolor\":\"white\",\"linecolor\":\"white\",\"ticks\":\"\"},\"baxis\":{\"gridcolor\":\"white\",\"linecolor\":\"white\",\"ticks\":\"\"},\"caxis\":{\"gridcolor\":\"white\",\"linecolor\":\"white\",\"ticks\":\"\"}},\"coloraxis\":{\"colorbar\":{\"outlinewidth\":0,\"ticks\":\"\"}},\"colorscale\":{\"sequential\":[[0.0,\"#0d0887\"],[0.1111111111111111,\"#46039f\"],[0.2222222222222222,\"#7201a8\"],[0.3333333333333333,\"#9c179e\"],[0.4444444444444444,\"#bd3786\"],[0.5555555555555556,\"#d8576b\"],[0.6666666666666666,\"#ed7953\"],[0.7777777777777778,\"#fb9f3a\"],[0.8888888888888888,\"#fdca26\"],[1.0,\"#f0f921\"]],\"sequentialminus\":[[0.0,\"#0d0887\"],[0.1111111111111111,\"#46039f\"],[0.2222222222222222,\"#7201a8\"],[0.3333333333333333,\"#9c179e\"],[0.4444444444444444,\"#bd3786\"],[0.5555555555555556,\"#d8576b\"],[0.6666666666666666,\"#ed7953\"],[0.7777777777777778,\"#fb9f3a\"],[0.8888888888888888,\"#fdca26\"],[1.0,\"#f0f921\"]],\"diverging\":[[0,\"#8e0152\"],[0.1,\"#c51b7d\"],[0.2,\"#de77ae\"],[0.3,\"#f1b6da\"],[0.4,\"#fde0ef\"],[0.5,\"#f7f7f7\"],[0.6,\"#e6f5d0\"],[0.7,\"#b8e186\"],[0.8,\"#7fbc41\"],[0.9,\"#4d9221\"],[1,\"#276419\"]]},\"xaxis\":{\"gridcolor\":\"white\",\"linecolor\":\"white\",\"ticks\":\"\",\"title\":{\"standoff\":15},\"zerolinecolor\":\"white\",\"automargin\":true,\"zerolinewidth\":2},\"yaxis\":{\"gridcolor\":\"white\",\"linecolor\":\"white\",\"ticks\":\"\",\"title\":{\"standoff\":15},\"zerolinecolor\":\"white\",\"automargin\":true,\"zerolinewidth\":2},\"scene\":{\"xaxis\":{\"backgroundcolor\":\"#E5ECF6\",\"gridcolor\":\"white\",\"linecolor\":\"white\",\"showbackground\":true,\"ticks\":\"\",\"zerolinecolor\":\"white\",\"gridwidth\":2},\"yaxis\":{\"backgroundcolor\":\"#E5ECF6\",\"gridcolor\":\"white\",\"linecolor\":\"white\",\"showbackground\":true,\"ticks\":\"\",\"zerolinecolor\":\"white\",\"gridwidth\":2},\"zaxis\":{\"backgroundcolor\":\"#E5ECF6\",\"gridcolor\":\"white\",\"linecolor\":\"white\",\"showbackground\":true,\"ticks\":\"\",\"zerolinecolor\":\"white\",\"gridwidth\":2}},\"shapedefaults\":{\"line\":{\"color\":\"#2a3f5f\"}},\"annotationdefaults\":{\"arrowcolor\":\"#2a3f5f\",\"arrowhead\":0,\"arrowwidth\":1},\"geo\":{\"bgcolor\":\"white\",\"landcolor\":\"#E5ECF6\",\"subunitcolor\":\"white\",\"showland\":true,\"showlakes\":true,\"lakecolor\":\"white\"},\"title\":{\"x\":0.05},\"mapbox\":{\"style\":\"light\"}}},\"xaxis\":{\"anchor\":\"y\",\"domain\":[0.0,1.0],\"title\":{\"text\":\"Paragraph\"}},\"yaxis\":{\"anchor\":\"x\",\"domain\":[0.0,1.0],\"title\":{\"text\":\"value\"}},\"legend\":{\"title\":{\"text\":\"variable\"},\"tracegroupgap\":0},\"margin\":{\"t\":60}},                        {\"responsive\": true}                    ).then(function(){\n",
              "                            \n",
              "var gd = document.getElementById('cbad936a-0aa3-404a-8ae8-ed513106d6da');\n",
              "var x = new MutationObserver(function (mutations, observer) {{\n",
              "        var display = window.getComputedStyle(gd).display;\n",
              "        if (!display || display === 'none') {{\n",
              "            console.log([gd, 'removed!']);\n",
              "            Plotly.purge(gd);\n",
              "            observer.disconnect();\n",
              "        }}\n",
              "}});\n",
              "\n",
              "// Listen for the removal of the full notebook cells\n",
              "var notebookContainer = gd.closest('#notebook-container');\n",
              "if (notebookContainer) {{\n",
              "    x.observe(notebookContainer, {childList: true});\n",
              "}}\n",
              "\n",
              "// Listen for the clearing of the current output cell\n",
              "var outputEl = gd.closest('.output');\n",
              "if (outputEl) {{\n",
              "    x.observe(outputEl, {childList: true});\n",
              "}}\n",
              "\n",
              "                        })                };                            </script>        </div>\n",
              "</body>\n",
              "</html>"
            ]
          },
          "metadata": {}
        }
      ]
    },
    {
      "cell_type": "markdown",
      "source": [
        "<h2> The ultra negative correlation between the large block of variables tells us that these tips are probably filler."
      ],
      "metadata": {
        "id": "0-DcEIPVLLrl"
      }
    },
    {
      "cell_type": "code",
      "source": [
        "tograph2['filler']=tograph2[tips[2:]].mean(axis=1)\n",
        "px.line(tograph2, x='Paragraph',y=tips[:1]+['filler'])"
      ],
      "metadata": {
        "colab": {
          "base_uri": "https://localhost:8080/",
          "height": 542
        },
        "id": "LO8Ev7RegYuY",
        "outputId": "4f8aecc8-7c23-42bf-9f3d-371835a07fc1"
      },
      "execution_count": null,
      "outputs": [
        {
          "output_type": "display_data",
          "data": {
            "text/html": [
              "<html>\n",
              "<head><meta charset=\"utf-8\" /></head>\n",
              "<body>\n",
              "    <div>            <script src=\"https://cdnjs.cloudflare.com/ajax/libs/mathjax/2.7.5/MathJax.js?config=TeX-AMS-MML_SVG\"></script><script type=\"text/javascript\">if (window.MathJax && window.MathJax.Hub && window.MathJax.Hub.Config) {window.MathJax.Hub.Config({SVG: {font: \"STIX-Web\"}});}</script>                <script type=\"text/javascript\">window.PlotlyConfig = {MathJaxConfig: 'local'};</script>\n",
              "        <script charset=\"utf-8\" src=\"https://cdn.plot.ly/plotly-2.24.1.min.js\"></script>                <div id=\"febf54a2-c3a4-4a9f-898f-c97e8d3a1347\" class=\"plotly-graph-div\" style=\"height:525px; width:100%;\"></div>            <script type=\"text/javascript\">                                    window.PLOTLYENV=window.PLOTLYENV || {};                                    if (document.getElementById(\"febf54a2-c3a4-4a9f-898f-c97e8d3a1347\")) {                    Plotly.newPlot(                        \"febf54a2-c3a4-4a9f-898f-c97e8d3a1347\",                        [{\"hovertemplate\":\"variable=Write in a foreign language\\u003cbr\\u003eParagraph=%{x}\\u003cbr\\u003evalue=%{y}\\u003cextra\\u003e\\u003c\\u002fextra\\u003e\",\"legendgroup\":\"Write in a foreign language\",\"line\":{\"color\":\"#636efa\",\"dash\":\"solid\"},\"marker\":{\"symbol\":\"circle\"},\"mode\":\"lines\",\"name\":\"Write in a foreign language\",\"orientation\":\"v\",\"showlegend\":true,\"x\":[-1.6442166146411696,-1.526772570738229,-1.4093285268352882,-1.2918844829323475,-1.174440439029407,-1.0569963951264663,-0.9395523512235255,-0.8221083073205848,-0.7046642634176441,-0.5872202195147035,-0.46977617561176277,-0.35233213170882205,-0.23488808780588138,-0.11744404390294069,0.0,0.11744404390294069,0.23488808780588138,0.35233213170882205,0.46977617561176277,0.5872202195147035,0.7046642634176441,0.8221083073205848,0.9395523512235255,1.0569963951264663,1.174440439029407,1.2918844829323475,1.4093285268352882,1.526772570738229,1.6442166146411696],\"xaxis\":\"x\",\"y\":[-0.04127648018902522,-0.931834217389409,-0.1530253274766868,-0.25700263997021283,1.8602475516985835,1.5522548129164573,-0.06043752077161838,0.5360260149647638,0.11794687824822118,2.400955684414577,-0.8960211677538896,-0.7645046586415731,-0.07833860647486589,-0.8134003784183935,-0.3943134057775394,-0.8673691922954943,-0.7284446092176193,-0.4835500780472939,0.9655592869480849,2.49950987979157,0.39635979262576054,-0.5699884858744997,-0.021937548567093276,-1.1641042438291047,-0.8732421561769744,-0.7013885339466734,0.5786878696148267,-0.8309028090226911,-0.2764746699237364],\"yaxis\":\"y\",\"type\":\"scatter\"},{\"hovertemplate\":\"variable=filler\\u003cbr\\u003eParagraph=%{x}\\u003cbr\\u003evalue=%{y}\\u003cextra\\u003e\\u003c\\u002fextra\\u003e\",\"legendgroup\":\"filler\",\"line\":{\"color\":\"#EF553B\",\"dash\":\"solid\"},\"marker\":{\"symbol\":\"circle\"},\"mode\":\"lines\",\"name\":\"filler\",\"orientation\":\"v\",\"showlegend\":true,\"x\":[-1.6442166146411696,-1.526772570738229,-1.4093285268352882,-1.2918844829323475,-1.174440439029407,-1.0569963951264663,-0.9395523512235255,-0.8221083073205848,-0.7046642634176441,-0.5872202195147035,-0.46977617561176277,-0.35233213170882205,-0.23488808780588138,-0.11744404390294069,0.0,0.11744404390294069,0.23488808780588138,0.35233213170882205,0.46977617561176277,0.5872202195147035,0.7046642634176441,0.8221083073205848,0.9395523512235255,1.0569963951264663,1.174440439029407,1.2918844829323475,1.4093285268352882,1.526772570738229,1.6442166146411696],\"xaxis\":\"x\",\"y\":[0.11143764308734354,1.0698132658727633,-0.04449225405913384,-0.10239234209900853,-1.1405197221182886,-1.0629219560185519,-0.0572945726557925,-1.0303195493792363,-0.5589528811524886,-1.6746492302184748,0.7010245652784514,0.7582974993499483,0.07537704965730066,0.5460876254929665,0.580255670046836,0.9678549537125999,0.5362015253422753,0.028308732915023217,-1.70385425210719,-1.889152573231571,-0.20555022135424802,0.6472833257842616,0.24156392841727894,1.3389185270812989,0.6162364495972723,0.365467861874453,-0.27489386883873823,0.8117826057695444,0.349048927774784],\"yaxis\":\"y\",\"type\":\"scatter\"}],                        {\"template\":{\"data\":{\"histogram2dcontour\":[{\"type\":\"histogram2dcontour\",\"colorbar\":{\"outlinewidth\":0,\"ticks\":\"\"},\"colorscale\":[[0.0,\"#0d0887\"],[0.1111111111111111,\"#46039f\"],[0.2222222222222222,\"#7201a8\"],[0.3333333333333333,\"#9c179e\"],[0.4444444444444444,\"#bd3786\"],[0.5555555555555556,\"#d8576b\"],[0.6666666666666666,\"#ed7953\"],[0.7777777777777778,\"#fb9f3a\"],[0.8888888888888888,\"#fdca26\"],[1.0,\"#f0f921\"]]}],\"choropleth\":[{\"type\":\"choropleth\",\"colorbar\":{\"outlinewidth\":0,\"ticks\":\"\"}}],\"histogram2d\":[{\"type\":\"histogram2d\",\"colorbar\":{\"outlinewidth\":0,\"ticks\":\"\"},\"colorscale\":[[0.0,\"#0d0887\"],[0.1111111111111111,\"#46039f\"],[0.2222222222222222,\"#7201a8\"],[0.3333333333333333,\"#9c179e\"],[0.4444444444444444,\"#bd3786\"],[0.5555555555555556,\"#d8576b\"],[0.6666666666666666,\"#ed7953\"],[0.7777777777777778,\"#fb9f3a\"],[0.8888888888888888,\"#fdca26\"],[1.0,\"#f0f921\"]]}],\"heatmap\":[{\"type\":\"heatmap\",\"colorbar\":{\"outlinewidth\":0,\"ticks\":\"\"},\"colorscale\":[[0.0,\"#0d0887\"],[0.1111111111111111,\"#46039f\"],[0.2222222222222222,\"#7201a8\"],[0.3333333333333333,\"#9c179e\"],[0.4444444444444444,\"#bd3786\"],[0.5555555555555556,\"#d8576b\"],[0.6666666666666666,\"#ed7953\"],[0.7777777777777778,\"#fb9f3a\"],[0.8888888888888888,\"#fdca26\"],[1.0,\"#f0f921\"]]}],\"heatmapgl\":[{\"type\":\"heatmapgl\",\"colorbar\":{\"outlinewidth\":0,\"ticks\":\"\"},\"colorscale\":[[0.0,\"#0d0887\"],[0.1111111111111111,\"#46039f\"],[0.2222222222222222,\"#7201a8\"],[0.3333333333333333,\"#9c179e\"],[0.4444444444444444,\"#bd3786\"],[0.5555555555555556,\"#d8576b\"],[0.6666666666666666,\"#ed7953\"],[0.7777777777777778,\"#fb9f3a\"],[0.8888888888888888,\"#fdca26\"],[1.0,\"#f0f921\"]]}],\"contourcarpet\":[{\"type\":\"contourcarpet\",\"colorbar\":{\"outlinewidth\":0,\"ticks\":\"\"}}],\"contour\":[{\"type\":\"contour\",\"colorbar\":{\"outlinewidth\":0,\"ticks\":\"\"},\"colorscale\":[[0.0,\"#0d0887\"],[0.1111111111111111,\"#46039f\"],[0.2222222222222222,\"#7201a8\"],[0.3333333333333333,\"#9c179e\"],[0.4444444444444444,\"#bd3786\"],[0.5555555555555556,\"#d8576b\"],[0.6666666666666666,\"#ed7953\"],[0.7777777777777778,\"#fb9f3a\"],[0.8888888888888888,\"#fdca26\"],[1.0,\"#f0f921\"]]}],\"surface\":[{\"type\":\"surface\",\"colorbar\":{\"outlinewidth\":0,\"ticks\":\"\"},\"colorscale\":[[0.0,\"#0d0887\"],[0.1111111111111111,\"#46039f\"],[0.2222222222222222,\"#7201a8\"],[0.3333333333333333,\"#9c179e\"],[0.4444444444444444,\"#bd3786\"],[0.5555555555555556,\"#d8576b\"],[0.6666666666666666,\"#ed7953\"],[0.7777777777777778,\"#fb9f3a\"],[0.8888888888888888,\"#fdca26\"],[1.0,\"#f0f921\"]]}],\"mesh3d\":[{\"type\":\"mesh3d\",\"colorbar\":{\"outlinewidth\":0,\"ticks\":\"\"}}],\"scatter\":[{\"fillpattern\":{\"fillmode\":\"overlay\",\"size\":10,\"solidity\":0.2},\"type\":\"scatter\"}],\"parcoords\":[{\"type\":\"parcoords\",\"line\":{\"colorbar\":{\"outlinewidth\":0,\"ticks\":\"\"}}}],\"scatterpolargl\":[{\"type\":\"scatterpolargl\",\"marker\":{\"colorbar\":{\"outlinewidth\":0,\"ticks\":\"\"}}}],\"bar\":[{\"error_x\":{\"color\":\"#2a3f5f\"},\"error_y\":{\"color\":\"#2a3f5f\"},\"marker\":{\"line\":{\"color\":\"#E5ECF6\",\"width\":0.5},\"pattern\":{\"fillmode\":\"overlay\",\"size\":10,\"solidity\":0.2}},\"type\":\"bar\"}],\"scattergeo\":[{\"type\":\"scattergeo\",\"marker\":{\"colorbar\":{\"outlinewidth\":0,\"ticks\":\"\"}}}],\"scatterpolar\":[{\"type\":\"scatterpolar\",\"marker\":{\"colorbar\":{\"outlinewidth\":0,\"ticks\":\"\"}}}],\"histogram\":[{\"marker\":{\"pattern\":{\"fillmode\":\"overlay\",\"size\":10,\"solidity\":0.2}},\"type\":\"histogram\"}],\"scattergl\":[{\"type\":\"scattergl\",\"marker\":{\"colorbar\":{\"outlinewidth\":0,\"ticks\":\"\"}}}],\"scatter3d\":[{\"type\":\"scatter3d\",\"line\":{\"colorbar\":{\"outlinewidth\":0,\"ticks\":\"\"}},\"marker\":{\"colorbar\":{\"outlinewidth\":0,\"ticks\":\"\"}}}],\"scattermapbox\":[{\"type\":\"scattermapbox\",\"marker\":{\"colorbar\":{\"outlinewidth\":0,\"ticks\":\"\"}}}],\"scatterternary\":[{\"type\":\"scatterternary\",\"marker\":{\"colorbar\":{\"outlinewidth\":0,\"ticks\":\"\"}}}],\"scattercarpet\":[{\"type\":\"scattercarpet\",\"marker\":{\"colorbar\":{\"outlinewidth\":0,\"ticks\":\"\"}}}],\"carpet\":[{\"aaxis\":{\"endlinecolor\":\"#2a3f5f\",\"gridcolor\":\"white\",\"linecolor\":\"white\",\"minorgridcolor\":\"white\",\"startlinecolor\":\"#2a3f5f\"},\"baxis\":{\"endlinecolor\":\"#2a3f5f\",\"gridcolor\":\"white\",\"linecolor\":\"white\",\"minorgridcolor\":\"white\",\"startlinecolor\":\"#2a3f5f\"},\"type\":\"carpet\"}],\"table\":[{\"cells\":{\"fill\":{\"color\":\"#EBF0F8\"},\"line\":{\"color\":\"white\"}},\"header\":{\"fill\":{\"color\":\"#C8D4E3\"},\"line\":{\"color\":\"white\"}},\"type\":\"table\"}],\"barpolar\":[{\"marker\":{\"line\":{\"color\":\"#E5ECF6\",\"width\":0.5},\"pattern\":{\"fillmode\":\"overlay\",\"size\":10,\"solidity\":0.2}},\"type\":\"barpolar\"}],\"pie\":[{\"automargin\":true,\"type\":\"pie\"}]},\"layout\":{\"autotypenumbers\":\"strict\",\"colorway\":[\"#636efa\",\"#EF553B\",\"#00cc96\",\"#ab63fa\",\"#FFA15A\",\"#19d3f3\",\"#FF6692\",\"#B6E880\",\"#FF97FF\",\"#FECB52\"],\"font\":{\"color\":\"#2a3f5f\"},\"hovermode\":\"closest\",\"hoverlabel\":{\"align\":\"left\"},\"paper_bgcolor\":\"white\",\"plot_bgcolor\":\"#E5ECF6\",\"polar\":{\"bgcolor\":\"#E5ECF6\",\"angularaxis\":{\"gridcolor\":\"white\",\"linecolor\":\"white\",\"ticks\":\"\"},\"radialaxis\":{\"gridcolor\":\"white\",\"linecolor\":\"white\",\"ticks\":\"\"}},\"ternary\":{\"bgcolor\":\"#E5ECF6\",\"aaxis\":{\"gridcolor\":\"white\",\"linecolor\":\"white\",\"ticks\":\"\"},\"baxis\":{\"gridcolor\":\"white\",\"linecolor\":\"white\",\"ticks\":\"\"},\"caxis\":{\"gridcolor\":\"white\",\"linecolor\":\"white\",\"ticks\":\"\"}},\"coloraxis\":{\"colorbar\":{\"outlinewidth\":0,\"ticks\":\"\"}},\"colorscale\":{\"sequential\":[[0.0,\"#0d0887\"],[0.1111111111111111,\"#46039f\"],[0.2222222222222222,\"#7201a8\"],[0.3333333333333333,\"#9c179e\"],[0.4444444444444444,\"#bd3786\"],[0.5555555555555556,\"#d8576b\"],[0.6666666666666666,\"#ed7953\"],[0.7777777777777778,\"#fb9f3a\"],[0.8888888888888888,\"#fdca26\"],[1.0,\"#f0f921\"]],\"sequentialminus\":[[0.0,\"#0d0887\"],[0.1111111111111111,\"#46039f\"],[0.2222222222222222,\"#7201a8\"],[0.3333333333333333,\"#9c179e\"],[0.4444444444444444,\"#bd3786\"],[0.5555555555555556,\"#d8576b\"],[0.6666666666666666,\"#ed7953\"],[0.7777777777777778,\"#fb9f3a\"],[0.8888888888888888,\"#fdca26\"],[1.0,\"#f0f921\"]],\"diverging\":[[0,\"#8e0152\"],[0.1,\"#c51b7d\"],[0.2,\"#de77ae\"],[0.3,\"#f1b6da\"],[0.4,\"#fde0ef\"],[0.5,\"#f7f7f7\"],[0.6,\"#e6f5d0\"],[0.7,\"#b8e186\"],[0.8,\"#7fbc41\"],[0.9,\"#4d9221\"],[1,\"#276419\"]]},\"xaxis\":{\"gridcolor\":\"white\",\"linecolor\":\"white\",\"ticks\":\"\",\"title\":{\"standoff\":15},\"zerolinecolor\":\"white\",\"automargin\":true,\"zerolinewidth\":2},\"yaxis\":{\"gridcolor\":\"white\",\"linecolor\":\"white\",\"ticks\":\"\",\"title\":{\"standoff\":15},\"zerolinecolor\":\"white\",\"automargin\":true,\"zerolinewidth\":2},\"scene\":{\"xaxis\":{\"backgroundcolor\":\"#E5ECF6\",\"gridcolor\":\"white\",\"linecolor\":\"white\",\"showbackground\":true,\"ticks\":\"\",\"zerolinecolor\":\"white\",\"gridwidth\":2},\"yaxis\":{\"backgroundcolor\":\"#E5ECF6\",\"gridcolor\":\"white\",\"linecolor\":\"white\",\"showbackground\":true,\"ticks\":\"\",\"zerolinecolor\":\"white\",\"gridwidth\":2},\"zaxis\":{\"backgroundcolor\":\"#E5ECF6\",\"gridcolor\":\"white\",\"linecolor\":\"white\",\"showbackground\":true,\"ticks\":\"\",\"zerolinecolor\":\"white\",\"gridwidth\":2}},\"shapedefaults\":{\"line\":{\"color\":\"#2a3f5f\"}},\"annotationdefaults\":{\"arrowcolor\":\"#2a3f5f\",\"arrowhead\":0,\"arrowwidth\":1},\"geo\":{\"bgcolor\":\"white\",\"landcolor\":\"#E5ECF6\",\"subunitcolor\":\"white\",\"showland\":true,\"showlakes\":true,\"lakecolor\":\"white\"},\"title\":{\"x\":0.05},\"mapbox\":{\"style\":\"light\"}}},\"xaxis\":{\"anchor\":\"y\",\"domain\":[0.0,1.0],\"title\":{\"text\":\"Paragraph\"}},\"yaxis\":{\"anchor\":\"x\",\"domain\":[0.0,1.0],\"title\":{\"text\":\"value\"}},\"legend\":{\"title\":{\"text\":\"variable\"},\"tracegroupgap\":0},\"margin\":{\"t\":60}},                        {\"responsive\": true}                    ).then(function(){\n",
              "                            \n",
              "var gd = document.getElementById('febf54a2-c3a4-4a9f-898f-c97e8d3a1347');\n",
              "var x = new MutationObserver(function (mutations, observer) {{\n",
              "        var display = window.getComputedStyle(gd).display;\n",
              "        if (!display || display === 'none') {{\n",
              "            console.log([gd, 'removed!']);\n",
              "            Plotly.purge(gd);\n",
              "            observer.disconnect();\n",
              "        }}\n",
              "}});\n",
              "\n",
              "// Listen for the removal of the full notebook cells\n",
              "var notebookContainer = gd.closest('#notebook-container');\n",
              "if (notebookContainer) {{\n",
              "    x.observe(notebookContainer, {childList: true});\n",
              "}}\n",
              "\n",
              "// Listen for the clearing of the current output cell\n",
              "var outputEl = gd.closest('.output');\n",
              "if (outputEl) {{\n",
              "    x.observe(outputEl, {childList: true});\n",
              "}}\n",
              "\n",
              "                        })                };                            </script>        </div>\n",
              "</body>\n",
              "</html>"
            ]
          },
          "metadata": {}
        }
      ]
    },
    {
      "cell_type": "markdown",
      "source": [
        "<h2> Now it is possible to visualize the main 2 points of the article"
      ],
      "metadata": {
        "id": "e0wFZBkBLpOA"
      }
    },
    {
      "cell_type": "code",
      "source": [
        "total=tograph2.merge(movement,left_index=True,right_on='Weeks')\n",
        "total=(total-total.mean())/total.std()\n",
        "\n",
        "px.line(total,x='Weeks',y=['filler','realization','Ditch the expectations'\t])"
      ],
      "metadata": {
        "colab": {
          "base_uri": "https://localhost:8080/",
          "height": 542
        },
        "id": "0kjhsgBIiYWi",
        "outputId": "eac7766d-0e84-41ab-98d5-d9085c86ed13"
      },
      "execution_count": null,
      "outputs": [
        {
          "output_type": "display_data",
          "data": {
            "text/html": [
              "<html>\n",
              "<head><meta charset=\"utf-8\" /></head>\n",
              "<body>\n",
              "    <div>            <script src=\"https://cdnjs.cloudflare.com/ajax/libs/mathjax/2.7.5/MathJax.js?config=TeX-AMS-MML_SVG\"></script><script type=\"text/javascript\">if (window.MathJax && window.MathJax.Hub && window.MathJax.Hub.Config) {window.MathJax.Hub.Config({SVG: {font: \"STIX-Web\"}});}</script>                <script type=\"text/javascript\">window.PlotlyConfig = {MathJaxConfig: 'local'};</script>\n",
              "        <script charset=\"utf-8\" src=\"https://cdn.plot.ly/plotly-2.24.1.min.js\"></script>                <div id=\"cc75504c-94cc-49a8-a9a2-5d0160a28340\" class=\"plotly-graph-div\" style=\"height:525px; width:100%;\"></div>            <script type=\"text/javascript\">                                    window.PLOTLYENV=window.PLOTLYENV || {};                                    if (document.getElementById(\"cc75504c-94cc-49a8-a9a2-5d0160a28340\")) {                    Plotly.newPlot(                        \"cc75504c-94cc-49a8-a9a2-5d0160a28340\",                        [{\"hovertemplate\":\"variable=filler\\u003cbr\\u003eWeeks=%{x}\\u003cbr\\u003evalue=%{y}\\u003cextra\\u003e\\u003c\\u002fextra\\u003e\",\"legendgroup\":\"filler\",\"line\":{\"color\":\"#636efa\",\"dash\":\"solid\"},\"marker\":{\"symbol\":\"circle\"},\"mode\":\"lines\",\"name\":\"filler\",\"orientation\":\"v\",\"showlegend\":true,\"x\":[-1.6442166146411696,-1.526772570738229,-1.4093285268352882,-1.2918844829323475,-1.174440439029407,-1.0569963951264663,-0.9395523512235255,-0.8221083073205848,-0.7046642634176441,-0.5872202195147035,-0.46977617561176277,-0.35233213170882205,-0.23488808780588138,-0.11744404390294069,0.0,0.11744404390294069,0.23488808780588138,0.35233213170882205,0.46977617561176277,0.5872202195147035,0.7046642634176441,0.8221083073205848,0.9395523512235255,1.0569963951264663,1.174440439029407,1.2918844829323475,1.4093285268352882,1.526772570738229,1.6442166146411696],\"xaxis\":\"x\",\"y\":[0.12908540354373346,1.2392222221066551,-0.051536385889856796,-0.11860509882757223,-1.3211225664235748,-1.231236998450568,-0.06636598390886413,-1.1934719185345402,-0.6474631501552044,-1.9398328285852429,0.8120349011167627,0.8783771486742543,0.08731452424113875,0.6325633063453625,0.672141946886433,1.1211185541955697,0.621111717314555,0.03279282089113288,-1.9736625393111573,-2.1883033166925836,-0.23809828830715318,0.7497836008757237,0.27981751418291406,1.5509409797982585,0.7138203735803877,0.4233419478447421,-0.3184226771748955,0.9403317565226678,0.40432303414092197],\"yaxis\":\"y\",\"type\":\"scatter\"},{\"hovertemplate\":\"variable=realization\\u003cbr\\u003eWeeks=%{x}\\u003cbr\\u003evalue=%{y}\\u003cextra\\u003e\\u003c\\u002fextra\\u003e\",\"legendgroup\":\"realization\",\"line\":{\"color\":\"#EF553B\",\"dash\":\"solid\"},\"marker\":{\"symbol\":\"circle\"},\"mode\":\"lines\",\"name\":\"realization\",\"orientation\":\"v\",\"showlegend\":true,\"x\":[-1.6442166146411696,-1.526772570738229,-1.4093285268352882,-1.2918844829323475,-1.174440439029407,-1.0569963951264663,-0.9395523512235255,-0.8221083073205848,-0.7046642634176441,-0.5872202195147035,-0.46977617561176277,-0.35233213170882205,-0.23488808780588138,-0.11744404390294069,0.0,0.11744404390294069,0.23488808780588138,0.35233213170882205,0.46977617561176277,0.5872202195147035,0.7046642634176441,0.8221083073205848,0.9395523512235255,1.0569963951264663,1.174440439029407,1.2918844829323475,1.4093285268352882,1.526772570738229,1.6442166146411696],\"xaxis\":\"x\",\"y\":[-0.6423549057353798,-0.6423549057353798,-0.6423549057353798,0.12330185049060066,-0.6423549057353798,2.8112884498631794,2.497266603383358,2.223420270274191,1.5736227383538157,0.20521961925641674,-0.24617874794446895,-0.6423549057353798,-0.18986459567694822,-0.6423549057353798,-0.09274087412756171,0.6578241629852631,-0.09621062187861942,-0.4071489972501558,-0.6423549057353798,-0.6423549057353798,-0.6423549057353798,-0.6423549057353798,-0.44335474773419525,0.1505405054358963,-0.20003363968849563,-0.21633820118233701,-0.6423549057353798,-0.6423549057353798,-0.6423549057353798],\"yaxis\":\"y\",\"type\":\"scatter\"},{\"hovertemplate\":\"variable=Ditch the expectations\\u003cbr\\u003eWeeks=%{x}\\u003cbr\\u003evalue=%{y}\\u003cextra\\u003e\\u003c\\u002fextra\\u003e\",\"legendgroup\":\"Ditch the expectations\",\"line\":{\"color\":\"#00cc96\",\"dash\":\"solid\"},\"marker\":{\"symbol\":\"circle\"},\"mode\":\"lines\",\"name\":\"Ditch the expectations\",\"orientation\":\"v\",\"showlegend\":true,\"x\":[-1.6442166146411696,-1.526772570738229,-1.4093285268352882,-1.2918844829323475,-1.174440439029407,-1.0569963951264663,-0.9395523512235255,-0.8221083073205848,-0.7046642634176441,-0.5872202195147035,-0.46977617561176277,-0.35233213170882205,-0.23488808780588138,-0.11744404390294069,0.0,0.11744404390294069,0.23488808780588138,0.35233213170882205,0.46977617561176277,0.5872202195147035,0.7046642634176441,0.8221083073205848,0.9395523512235255,1.0569963951264663,1.174440439029407,1.2918844829323475,1.4093285268352882,1.526772570738229,1.6442166146411696],\"xaxis\":\"x\",\"y\":[-0.27997900578961327,-0.5017895739420959,0.27429915829937135,1.1949759157789033,-1.6668158015149597,-1.2590246749392031,0.010641085270754882,1.4472161775030978,1.0428590981249293,-1.794631196460198,0.4008346980966607,-0.08974545112508737,0.008716357204364984,0.6403416868883254,-0.5670997711054349,-0.13704470374117045,0.47949336904417145,1.2206837944539322,2.876114116985534,-1.2543068163180933,-0.46359173328229225,-0.2472111533541059,-0.6360002883515053,-0.48753906932722146,0.5439035135145943,0.8060779832032392,-0.8666748919258719,-0.17469064395850462,-0.5200121792325211],\"yaxis\":\"y\",\"type\":\"scatter\"}],                        {\"template\":{\"data\":{\"histogram2dcontour\":[{\"type\":\"histogram2dcontour\",\"colorbar\":{\"outlinewidth\":0,\"ticks\":\"\"},\"colorscale\":[[0.0,\"#0d0887\"],[0.1111111111111111,\"#46039f\"],[0.2222222222222222,\"#7201a8\"],[0.3333333333333333,\"#9c179e\"],[0.4444444444444444,\"#bd3786\"],[0.5555555555555556,\"#d8576b\"],[0.6666666666666666,\"#ed7953\"],[0.7777777777777778,\"#fb9f3a\"],[0.8888888888888888,\"#fdca26\"],[1.0,\"#f0f921\"]]}],\"choropleth\":[{\"type\":\"choropleth\",\"colorbar\":{\"outlinewidth\":0,\"ticks\":\"\"}}],\"histogram2d\":[{\"type\":\"histogram2d\",\"colorbar\":{\"outlinewidth\":0,\"ticks\":\"\"},\"colorscale\":[[0.0,\"#0d0887\"],[0.1111111111111111,\"#46039f\"],[0.2222222222222222,\"#7201a8\"],[0.3333333333333333,\"#9c179e\"],[0.4444444444444444,\"#bd3786\"],[0.5555555555555556,\"#d8576b\"],[0.6666666666666666,\"#ed7953\"],[0.7777777777777778,\"#fb9f3a\"],[0.8888888888888888,\"#fdca26\"],[1.0,\"#f0f921\"]]}],\"heatmap\":[{\"type\":\"heatmap\",\"colorbar\":{\"outlinewidth\":0,\"ticks\":\"\"},\"colorscale\":[[0.0,\"#0d0887\"],[0.1111111111111111,\"#46039f\"],[0.2222222222222222,\"#7201a8\"],[0.3333333333333333,\"#9c179e\"],[0.4444444444444444,\"#bd3786\"],[0.5555555555555556,\"#d8576b\"],[0.6666666666666666,\"#ed7953\"],[0.7777777777777778,\"#fb9f3a\"],[0.8888888888888888,\"#fdca26\"],[1.0,\"#f0f921\"]]}],\"heatmapgl\":[{\"type\":\"heatmapgl\",\"colorbar\":{\"outlinewidth\":0,\"ticks\":\"\"},\"colorscale\":[[0.0,\"#0d0887\"],[0.1111111111111111,\"#46039f\"],[0.2222222222222222,\"#7201a8\"],[0.3333333333333333,\"#9c179e\"],[0.4444444444444444,\"#bd3786\"],[0.5555555555555556,\"#d8576b\"],[0.6666666666666666,\"#ed7953\"],[0.7777777777777778,\"#fb9f3a\"],[0.8888888888888888,\"#fdca26\"],[1.0,\"#f0f921\"]]}],\"contourcarpet\":[{\"type\":\"contourcarpet\",\"colorbar\":{\"outlinewidth\":0,\"ticks\":\"\"}}],\"contour\":[{\"type\":\"contour\",\"colorbar\":{\"outlinewidth\":0,\"ticks\":\"\"},\"colorscale\":[[0.0,\"#0d0887\"],[0.1111111111111111,\"#46039f\"],[0.2222222222222222,\"#7201a8\"],[0.3333333333333333,\"#9c179e\"],[0.4444444444444444,\"#bd3786\"],[0.5555555555555556,\"#d8576b\"],[0.6666666666666666,\"#ed7953\"],[0.7777777777777778,\"#fb9f3a\"],[0.8888888888888888,\"#fdca26\"],[1.0,\"#f0f921\"]]}],\"surface\":[{\"type\":\"surface\",\"colorbar\":{\"outlinewidth\":0,\"ticks\":\"\"},\"colorscale\":[[0.0,\"#0d0887\"],[0.1111111111111111,\"#46039f\"],[0.2222222222222222,\"#7201a8\"],[0.3333333333333333,\"#9c179e\"],[0.4444444444444444,\"#bd3786\"],[0.5555555555555556,\"#d8576b\"],[0.6666666666666666,\"#ed7953\"],[0.7777777777777778,\"#fb9f3a\"],[0.8888888888888888,\"#fdca26\"],[1.0,\"#f0f921\"]]}],\"mesh3d\":[{\"type\":\"mesh3d\",\"colorbar\":{\"outlinewidth\":0,\"ticks\":\"\"}}],\"scatter\":[{\"fillpattern\":{\"fillmode\":\"overlay\",\"size\":10,\"solidity\":0.2},\"type\":\"scatter\"}],\"parcoords\":[{\"type\":\"parcoords\",\"line\":{\"colorbar\":{\"outlinewidth\":0,\"ticks\":\"\"}}}],\"scatterpolargl\":[{\"type\":\"scatterpolargl\",\"marker\":{\"colorbar\":{\"outlinewidth\":0,\"ticks\":\"\"}}}],\"bar\":[{\"error_x\":{\"color\":\"#2a3f5f\"},\"error_y\":{\"color\":\"#2a3f5f\"},\"marker\":{\"line\":{\"color\":\"#E5ECF6\",\"width\":0.5},\"pattern\":{\"fillmode\":\"overlay\",\"size\":10,\"solidity\":0.2}},\"type\":\"bar\"}],\"scattergeo\":[{\"type\":\"scattergeo\",\"marker\":{\"colorbar\":{\"outlinewidth\":0,\"ticks\":\"\"}}}],\"scatterpolar\":[{\"type\":\"scatterpolar\",\"marker\":{\"colorbar\":{\"outlinewidth\":0,\"ticks\":\"\"}}}],\"histogram\":[{\"marker\":{\"pattern\":{\"fillmode\":\"overlay\",\"size\":10,\"solidity\":0.2}},\"type\":\"histogram\"}],\"scattergl\":[{\"type\":\"scattergl\",\"marker\":{\"colorbar\":{\"outlinewidth\":0,\"ticks\":\"\"}}}],\"scatter3d\":[{\"type\":\"scatter3d\",\"line\":{\"colorbar\":{\"outlinewidth\":0,\"ticks\":\"\"}},\"marker\":{\"colorbar\":{\"outlinewidth\":0,\"ticks\":\"\"}}}],\"scattermapbox\":[{\"type\":\"scattermapbox\",\"marker\":{\"colorbar\":{\"outlinewidth\":0,\"ticks\":\"\"}}}],\"scatterternary\":[{\"type\":\"scatterternary\",\"marker\":{\"colorbar\":{\"outlinewidth\":0,\"ticks\":\"\"}}}],\"scattercarpet\":[{\"type\":\"scattercarpet\",\"marker\":{\"colorbar\":{\"outlinewidth\":0,\"ticks\":\"\"}}}],\"carpet\":[{\"aaxis\":{\"endlinecolor\":\"#2a3f5f\",\"gridcolor\":\"white\",\"linecolor\":\"white\",\"minorgridcolor\":\"white\",\"startlinecolor\":\"#2a3f5f\"},\"baxis\":{\"endlinecolor\":\"#2a3f5f\",\"gridcolor\":\"white\",\"linecolor\":\"white\",\"minorgridcolor\":\"white\",\"startlinecolor\":\"#2a3f5f\"},\"type\":\"carpet\"}],\"table\":[{\"cells\":{\"fill\":{\"color\":\"#EBF0F8\"},\"line\":{\"color\":\"white\"}},\"header\":{\"fill\":{\"color\":\"#C8D4E3\"},\"line\":{\"color\":\"white\"}},\"type\":\"table\"}],\"barpolar\":[{\"marker\":{\"line\":{\"color\":\"#E5ECF6\",\"width\":0.5},\"pattern\":{\"fillmode\":\"overlay\",\"size\":10,\"solidity\":0.2}},\"type\":\"barpolar\"}],\"pie\":[{\"automargin\":true,\"type\":\"pie\"}]},\"layout\":{\"autotypenumbers\":\"strict\",\"colorway\":[\"#636efa\",\"#EF553B\",\"#00cc96\",\"#ab63fa\",\"#FFA15A\",\"#19d3f3\",\"#FF6692\",\"#B6E880\",\"#FF97FF\",\"#FECB52\"],\"font\":{\"color\":\"#2a3f5f\"},\"hovermode\":\"closest\",\"hoverlabel\":{\"align\":\"left\"},\"paper_bgcolor\":\"white\",\"plot_bgcolor\":\"#E5ECF6\",\"polar\":{\"bgcolor\":\"#E5ECF6\",\"angularaxis\":{\"gridcolor\":\"white\",\"linecolor\":\"white\",\"ticks\":\"\"},\"radialaxis\":{\"gridcolor\":\"white\",\"linecolor\":\"white\",\"ticks\":\"\"}},\"ternary\":{\"bgcolor\":\"#E5ECF6\",\"aaxis\":{\"gridcolor\":\"white\",\"linecolor\":\"white\",\"ticks\":\"\"},\"baxis\":{\"gridcolor\":\"white\",\"linecolor\":\"white\",\"ticks\":\"\"},\"caxis\":{\"gridcolor\":\"white\",\"linecolor\":\"white\",\"ticks\":\"\"}},\"coloraxis\":{\"colorbar\":{\"outlinewidth\":0,\"ticks\":\"\"}},\"colorscale\":{\"sequential\":[[0.0,\"#0d0887\"],[0.1111111111111111,\"#46039f\"],[0.2222222222222222,\"#7201a8\"],[0.3333333333333333,\"#9c179e\"],[0.4444444444444444,\"#bd3786\"],[0.5555555555555556,\"#d8576b\"],[0.6666666666666666,\"#ed7953\"],[0.7777777777777778,\"#fb9f3a\"],[0.8888888888888888,\"#fdca26\"],[1.0,\"#f0f921\"]],\"sequentialminus\":[[0.0,\"#0d0887\"],[0.1111111111111111,\"#46039f\"],[0.2222222222222222,\"#7201a8\"],[0.3333333333333333,\"#9c179e\"],[0.4444444444444444,\"#bd3786\"],[0.5555555555555556,\"#d8576b\"],[0.6666666666666666,\"#ed7953\"],[0.7777777777777778,\"#fb9f3a\"],[0.8888888888888888,\"#fdca26\"],[1.0,\"#f0f921\"]],\"diverging\":[[0,\"#8e0152\"],[0.1,\"#c51b7d\"],[0.2,\"#de77ae\"],[0.3,\"#f1b6da\"],[0.4,\"#fde0ef\"],[0.5,\"#f7f7f7\"],[0.6,\"#e6f5d0\"],[0.7,\"#b8e186\"],[0.8,\"#7fbc41\"],[0.9,\"#4d9221\"],[1,\"#276419\"]]},\"xaxis\":{\"gridcolor\":\"white\",\"linecolor\":\"white\",\"ticks\":\"\",\"title\":{\"standoff\":15},\"zerolinecolor\":\"white\",\"automargin\":true,\"zerolinewidth\":2},\"yaxis\":{\"gridcolor\":\"white\",\"linecolor\":\"white\",\"ticks\":\"\",\"title\":{\"standoff\":15},\"zerolinecolor\":\"white\",\"automargin\":true,\"zerolinewidth\":2},\"scene\":{\"xaxis\":{\"backgroundcolor\":\"#E5ECF6\",\"gridcolor\":\"white\",\"linecolor\":\"white\",\"showbackground\":true,\"ticks\":\"\",\"zerolinecolor\":\"white\",\"gridwidth\":2},\"yaxis\":{\"backgroundcolor\":\"#E5ECF6\",\"gridcolor\":\"white\",\"linecolor\":\"white\",\"showbackground\":true,\"ticks\":\"\",\"zerolinecolor\":\"white\",\"gridwidth\":2},\"zaxis\":{\"backgroundcolor\":\"#E5ECF6\",\"gridcolor\":\"white\",\"linecolor\":\"white\",\"showbackground\":true,\"ticks\":\"\",\"zerolinecolor\":\"white\",\"gridwidth\":2}},\"shapedefaults\":{\"line\":{\"color\":\"#2a3f5f\"}},\"annotationdefaults\":{\"arrowcolor\":\"#2a3f5f\",\"arrowhead\":0,\"arrowwidth\":1},\"geo\":{\"bgcolor\":\"white\",\"landcolor\":\"#E5ECF6\",\"subunitcolor\":\"white\",\"showland\":true,\"showlakes\":true,\"lakecolor\":\"white\"},\"title\":{\"x\":0.05},\"mapbox\":{\"style\":\"light\"}}},\"xaxis\":{\"anchor\":\"y\",\"domain\":[0.0,1.0],\"title\":{\"text\":\"Weeks\"}},\"yaxis\":{\"anchor\":\"x\",\"domain\":[0.0,1.0],\"title\":{\"text\":\"value\"}},\"legend\":{\"title\":{\"text\":\"variable\"},\"tracegroupgap\":0},\"margin\":{\"t\":60}},                        {\"responsive\": true}                    ).then(function(){\n",
              "                            \n",
              "var gd = document.getElementById('cc75504c-94cc-49a8-a9a2-5d0160a28340');\n",
              "var x = new MutationObserver(function (mutations, observer) {{\n",
              "        var display = window.getComputedStyle(gd).display;\n",
              "        if (!display || display === 'none') {{\n",
              "            console.log([gd, 'removed!']);\n",
              "            Plotly.purge(gd);\n",
              "            observer.disconnect();\n",
              "        }}\n",
              "}});\n",
              "\n",
              "// Listen for the removal of the full notebook cells\n",
              "var notebookContainer = gd.closest('#notebook-container');\n",
              "if (notebookContainer) {{\n",
              "    x.observe(notebookContainer, {childList: true});\n",
              "}}\n",
              "\n",
              "// Listen for the clearing of the current output cell\n",
              "var outputEl = gd.closest('.output');\n",
              "if (outputEl) {{\n",
              "    x.observe(outputEl, {childList: true});\n",
              "}}\n",
              "\n",
              "                        })                };                            </script>        </div>\n",
              "</body>\n",
              "</html>"
            ]
          },
          "metadata": {}
        }
      ]
    },
    {
      "cell_type": "markdown",
      "source": [
        "# Characters and Details Extraction\n",
        "\n",
        "<hr>\n",
        "\n",
        "With a more refined Standard model it will be possible to equalize both models quality in results"
      ],
      "metadata": {
        "id": "xGfJe-5BBWLe"
      }
    },
    {
      "cell_type": "markdown",
      "source": [
        "<h3> LLaMA2:"
      ],
      "metadata": {
        "id": "o2RExcAEBodP"
      }
    },
    {
      "cell_type": "code",
      "source": [
        "%%time\n",
        "prompt_keys = \"Please identify and extract character names and details from the following article:\\n\" + article\n",
        "generated_text_keys = generate_LLAMA2(prompt_keys)\n",
        "parse_text(generated_text_keys)\n"
      ],
      "metadata": {
        "colab": {
          "base_uri": "https://localhost:8080/"
        },
        "id": "npVj9xUJ0LD1",
        "outputId": "3612fb4d-d920-4ff0-9a1b-63fd1c2d388f"
      },
      "execution_count": null,
      "outputs": [
        {
          "output_type": "stream",
          "name": "stdout",
          "text": [
            "  Character names and details mentioned in the article: * Haruki Murakami (writer) * Hear the Wind\n",
            "Sing (novel) * Ágota Kristóf (writer) * Hungary (country) * Switzerland (country) * 1956 (year)\n",
            "\n",
            "\n",
            "CPU times: user 31.3 s, sys: 201 ms, total: 31.5 s\n",
            "Wall time: 31.4 s\n"
          ]
        }
      ]
    },
    {
      "cell_type": "markdown",
      "source": [
        "<h3> Standard model:"
      ],
      "metadata": {
        "id": "MtusQ2cgB8Rv"
      }
    },
    {
      "cell_type": "code",
      "source": [
        "from transformers import AutoTokenizer, AutoModelForTokenClassification\n",
        "from transformers import pipeline\n",
        "\n",
        "tokenizer = AutoTokenizer.from_pretrained(\"dslim/bert-base-NER\")\n",
        "model2 = AutoModelForTokenClassification.from_pretrained(\"dslim/bert-base-NER\")\n",
        "\n",
        "nlp = pipeline(\"ner\", model=model2, tokenizer=tokenizer)\n",
        "\n",
        "\n",
        "ner_results = nlp(article)\n"
      ],
      "metadata": {
        "id": "eOmR22hwXfp_"
      },
      "execution_count": null,
      "outputs": []
    },
    {
      "cell_type": "code",
      "source": [
        "flatten([nlp(i) for i in par_list])"
      ],
      "metadata": {
        "colab": {
          "base_uri": "https://localhost:8080/"
        },
        "id": "l2MoOmsFeZAJ",
        "outputId": "cd29f5ae-65df-487f-cda3-39e22957a23b"
      },
      "execution_count": null,
      "outputs": [
        {
          "output_type": "execute_result",
          "data": {
            "text/plain": [
              "[{'entity_group': 'PER',\n",
              "  'score': 0.9970614,\n",
              "  'word': 'Haruki Murakami',\n",
              "  'start': 42,\n",
              "  'end': 57},\n",
              " {'entity_group': 'MISC',\n",
              "  'score': 0.989628,\n",
              "  'word': 'Hear the Wind Sing',\n",
              "  'start': 16,\n",
              "  'end': 34},\n",
              " {'entity_group': 'MISC',\n",
              "  'score': 0.5669933,\n",
              "  'word': 'Russian',\n",
              "  'start': 483,\n",
              "  'end': 490},\n",
              " {'entity_group': 'MISC',\n",
              "  'score': 0.5858708,\n",
              "  'word': 'Japanese',\n",
              "  'start': 556,\n",
              "  'end': 564},\n",
              " {'entity_group': 'MISC',\n",
              "  'score': 0.5845191,\n",
              "  'word': 'Japanese',\n",
              "  'start': 653,\n",
              "  'end': 661},\n",
              " {'entity_group': 'MISC',\n",
              "  'score': 0.63258487,\n",
              "  'word': 'Japanese',\n",
              "  'start': 733,\n",
              "  'end': 741},\n",
              " {'entity_group': 'ORG',\n",
              "  'score': 0.7726009,\n",
              "  'word': 'Olivetti',\n",
              "  'start': 350,\n",
              "  'end': 358},\n",
              " {'entity_group': 'MISC',\n",
              "  'score': 0.51912165,\n",
              "  'word': 'English',\n",
              "  'start': 457,\n",
              "  'end': 464},\n",
              " {'entity_group': 'MISC',\n",
              "  'score': 0.72781557,\n",
              "  'word': 'foreign',\n",
              "  'start': 13,\n",
              "  'end': 20},\n",
              " {'entity_group': 'MISC',\n",
              "  'score': 0.9743997,\n",
              "  'word': 'English',\n",
              "  'start': 31,\n",
              "  'end': 38},\n",
              " {'entity_group': 'MISC',\n",
              "  'score': 0.96739167,\n",
              "  'word': 'English',\n",
              "  'start': 131,\n",
              "  'end': 138},\n",
              " {'entity_group': 'LOC',\n",
              "  'score': 0.9995623,\n",
              "  'word': 'Japan',\n",
              "  'start': 25,\n",
              "  'end': 30},\n",
              " {'entity_group': 'MISC',\n",
              "  'score': 0.7825624,\n",
              "  'word': 'Japanese',\n",
              "  'start': 66,\n",
              "  'end': 74},\n",
              " {'entity_group': 'PER',\n",
              "  'score': 0.99004406,\n",
              "  'word': 'Ágota Kristóf',\n",
              "  'start': 40,\n",
              "  'end': 53},\n",
              " {'entity_group': 'PER',\n",
              "  'score': 0.98041797,\n",
              "  'word': 'Kristóf',\n",
              "  'start': 138,\n",
              "  'end': 145},\n",
              " {'entity_group': 'MISC',\n",
              "  'score': 0.5421139,\n",
              "  'word': 'Hungarian',\n",
              "  'start': 152,\n",
              "  'end': 161},\n",
              " {'entity_group': 'LOC',\n",
              "  'score': 0.99763477,\n",
              "  'word': 'Hungary',\n",
              "  'start': 179,\n",
              "  'end': 186},\n",
              " {'entity_group': 'LOC',\n",
              "  'score': 0.99797946,\n",
              "  'word': 'Switzerland',\n",
              "  'start': 225,\n",
              "  'end': 236},\n",
              " {'entity_group': 'MISC',\n",
              "  'score': 0.5118146,\n",
              "  'word': 'French',\n",
              "  'start': 266,\n",
              "  'end': 272},\n",
              " {'entity_group': 'MISC',\n",
              "  'score': 0.50066686,\n",
              "  'word': 'Hungarian',\n",
              "  'start': 375,\n",
              "  'end': 384},\n",
              " {'entity_group': 'MISC',\n",
              "  'score': 0.43197113,\n",
              "  'word': 'Olivetti',\n",
              "  'start': 142,\n",
              "  'end': 150},\n",
              " {'entity_group': 'MISC',\n",
              "  'score': 0.5058534,\n",
              "  'word': 'English',\n",
              "  'start': 313,\n",
              "  'end': 320},\n",
              " {'entity_group': 'MISC',\n",
              "  'score': 0.5642683,\n",
              "  'word': 'Japanese',\n",
              "  'start': 326,\n",
              "  'end': 334},\n",
              " {'entity_group': 'MISC',\n",
              "  'score': 0.720474,\n",
              "  'word': 'Japanese',\n",
              "  'start': 464,\n",
              "  'end': 472},\n",
              " {'entity_group': 'MISC',\n",
              "  'score': 0.99498826,\n",
              "  'word': 'Hear the Wind Sing',\n",
              "  'start': 299,\n",
              "  'end': 317},\n",
              " {'entity_group': 'MISC',\n",
              "  'score': 0.982484,\n",
              "  'word': 'Hear the Wind Sing',\n",
              "  'start': 12,\n",
              "  'end': 30},\n",
              " {'entity_group': 'MISC',\n",
              "  'score': 0.79511374,\n",
              "  'word': 'Japanese',\n",
              "  'start': 37,\n",
              "  'end': 45},\n",
              " {'entity_group': 'MISC',\n",
              "  'score': 0.9274258,\n",
              "  'word': 'English',\n",
              "  'start': 471,\n",
              "  'end': 478},\n",
              " {'entity_group': 'ORG',\n",
              "  'score': 0.99566096,\n",
              "  'word': 'the Beach Boys',\n",
              "  'start': 182,\n",
              "  'end': 196},\n",
              " {'entity_group': 'MISC',\n",
              "  'score': 0.7185066,\n",
              "  'word': 'Surfin ’ USA',\n",
              "  'start': 198,\n",
              "  'end': 209},\n",
              " {'entity_group': 'ORG',\n",
              "  'score': 0.9974942,\n",
              "  'word': 'the Beatles',\n",
              "  'start': 215,\n",
              "  'end': 226},\n",
              " {'entity_group': 'MISC',\n",
              "  'score': 0.8084688,\n",
              "  'word': 'Please Please Me',\n",
              "  'start': 228,\n",
              "  'end': 244},\n",
              " {'entity_group': 'ORG',\n",
              "  'score': 0.80875033,\n",
              "  'word': 'New York Times',\n",
              "  'start': 40,\n",
              "  'end': 54},\n",
              " {'entity_group': 'MISC',\n",
              "  'score': 0.5917247,\n",
              "  'word': 'American',\n",
              "  'start': 74,\n",
              "  'end': 82},\n",
              " {'entity_group': 'ORG',\n",
              "  'score': 0.9957073,\n",
              "  'word': 'the Beatles',\n",
              "  'start': 92,\n",
              "  'end': 103},\n",
              " {'entity_group': 'MISC',\n",
              "  'score': 0.5039915,\n",
              "  'word': '–',\n",
              "  'start': 205,\n",
              "  'end': 206}]"
            ]
          },
          "metadata": {},
          "execution_count": 19
        }
      ]
    },
    {
      "cell_type": "markdown",
      "source": [
        "# Question Generation\n",
        "\n",
        "<hr>\n",
        "\n",
        "Due to time constrains, i couldn't compare the performances between LLaMA2 and standard models, i only provide a LLaMA2 result:"
      ],
      "metadata": {
        "id": "tSVzej21Cptv"
      }
    },
    {
      "cell_type": "code",
      "source": [
        "%%time\n",
        "new_system_prompt = \"\"\"\\\n",
        "You are an upcoming novelist, and you are looking for inspiration to create new ideas.\"\"\"\n",
        "\n",
        "prompt_keys = \"After reading the article create 5 very specific questions that would be interesting to ask to Haruki Murakami:\\n\" + article\n",
        "generated_text_keys = generate_LLAMA2(prompt_keys,sys=new_system_prompt)\n",
        "parse_text(generated_text_keys)"
      ],
      "metadata": {
        "colab": {
          "base_uri": "https://localhost:8080/"
        },
        "id": "z15_tRbs0aFK",
        "outputId": "73cd4c7b-cda2-4852-edca-ed1b33cc1606"
      },
      "execution_count": null,
      "outputs": [
        {
          "output_type": "stream",
          "name": "stdout",
          "text": [
            "  Here are five specific questions that I, as an upcoming novelist, would find interesting to ask to\n",
            "Haruki Murakami:  1. How did you discover the curious effect of composing in a foreign language, and\n",
            "how did it help you develop your unique writing style?   2. Can you share more about the process of\n",
            "clearing out your information system by chucking away unnecessary options and allowing your mind to\n",
            "move freely again? How does this approach differ from other writing techniques you have tried?   3.\n",
            "How do you distinguish between essential and unnecessary contents when writing a novel? What rule of\n",
            "thumb do you use to identify what is crucial and what can be discarded?  4. Can you elaborate on the\n",
            "principle of freedom that lies at the root of all creative expression? How does this principle\n",
            "manifest in your writing process, and how does it impact the final product?   5. How do you maintain\n",
            "the rich, spontaneous joy that lies at the root of all creative expression? What practices or\n",
            "techniques do you use to keep that joy alive throughout the writing process, and how do you ensure\n",
            "that it translates into the final product?  These questions would be interesting to ask Murakami\n",
            "because they delve into the unique aspects of his writing process, such as his use of foreign\n",
            "languages, his approach to information management, and his views on originality and creativity. By\n",
            "exploring these topics, I could gain a deeper understanding of how Murakami creates his distinctive\n",
            "style and how I can apply those insights to my own writing practice.\n",
            "\n",
            "\n",
            "CPU times: user 20.6 s, sys: 251 ms, total: 20.9 s\n",
            "Wall time: 20.8 s\n"
          ]
        }
      ]
    }
  ]
}